{
 "cells": [
  {
   "cell_type": "code",
   "execution_count": 5,
   "id": "41724732-a0b7-44d1-b840-92b203c5b253",
   "metadata": {},
   "outputs": [
    {
     "name": "stdout",
     "output_type": "stream",
     "text": [
      "Copied data from deleted table cpg-cdp.trendspotting.predict_c52_p52_embed_long_filtered to cpg-cdp.trendspotting.predict_c52_p52_embed_long_filtered\n"
     ]
    }
   ],
   "source": [
    "import time\n",
    "\n",
    "from google.cloud import bigquery\n",
    "\n",
    "# Construct a BigQuery client object.\n",
    "client = bigquery.Client()\n",
    "\n",
    "# TODO(developer): Choose a table to recover.\n",
    "table_id = \"cpg-cdp.trendspotting.predict_c52_p52_embed_long_filtered\"\n",
    "\n",
    "# TODO(developer): Choose a new table ID for the recovered table data.\n",
    "recovery_table_id = \"cpg-cdp.trendspotting.predict_c52_p52_embed_long_filtered\"\n",
    "\n",
    "# TODO(developer): Choose an appropriate snapshot point as epoch\n",
    "# milliseconds. For this example, we choose the current time as we're about\n",
    "# to delete the table immediately afterwards.\n",
    "snapshot_epoch = int(time.time() * 1000)\n",
    "\n",
    "# ...\n",
    "\n",
    "# # \"Accidentally\" delete the table.\n",
    "# client.delete_table(table_id)  # Make an API request.\n",
    "\n",
    "# Construct the restore-from table ID using a snapshot decorator.\n",
    "snapshot_table_id = \"{}@{}\".format(table_id, snapshot_epoch)\n",
    "\n",
    "# Construct and run a copy job.\n",
    "job = client.copy_table(\n",
    "    snapshot_table_id,\n",
    "    recovery_table_id,\n",
    "    # Must match the source and destination tables location.\n",
    "    location=\"US\",\n",
    ")  # Make an API request.\n",
    "\n",
    "job.result()  # Wait for the job to complete.\n",
    "\n",
    "print(\n",
    "    \"Copied data from deleted table {} to {}\".format(table_id, recovery_table_id)\n",
    ")"
   ]
  },
  {
   "cell_type": "code",
   "execution_count": null,
   "id": "11f66562-0f93-4f94-aebc-98e6d666168a",
   "metadata": {},
   "outputs": [],
   "source": []
  }
 ],
 "metadata": {
  "environment": {
   "kernel": "python3",
   "name": "tf2-gpu.2-7.m87",
   "type": "gcloud",
   "uri": "gcr.io/deeplearning-platform-release/tf2-gpu.2-7:m87"
  },
  "kernelspec": {
   "display_name": "Python 3",
   "language": "python",
   "name": "python3"
  },
  "language_info": {
   "codemirror_mode": {
    "name": "ipython",
    "version": 3
   },
   "file_extension": ".py",
   "mimetype": "text/x-python",
   "name": "python",
   "nbconvert_exporter": "python",
   "pygments_lexer": "ipython3",
   "version": "3.7.12"
  }
 },
 "nbformat": 4,
 "nbformat_minor": 5
}
