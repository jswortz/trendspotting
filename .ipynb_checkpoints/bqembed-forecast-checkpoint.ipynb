{
 "cells": [
  {
   "cell_type": "code",
   "execution_count": 5,
   "id": "5f75ef5a-21f9-4b6b-976f-8b4e8ffa63f1",
   "metadata": {},
   "outputs": [
    {
     "name": "stdout",
     "output_type": "stream",
     "text": [
      "assets/\n",
      "assets/tokens.txt\n",
      "saved_model.pb\n",
      "variables/\n",
      "variables/variables.data-00000-of-00001\n",
      "variables/variables.index\n"
     ]
    },
    {
     "name": "stderr",
     "output_type": "stream",
     "text": [
      "Copying file://swivel/swivel.tar.gz [Content-Type=application/x-tar]...\n",
      "Copying file://swivel/saved_model.pb [Content-Type=application/octet-stream]...\n",
      "Copying file://swivel/variables/variables.data-00000-of-00001 [Content-Type=application/octet-stream]...\n",
      "Copying file://swivel/variables/variables.index [Content-Type=application/octet-stream]...\n",
      "Copying file://swivel/assets/tokens.txt [Content-Type=text/plain]...\n",
      "/ [5/5 files][  3.2 MiB/  3.2 MiB] 100% Done                                    \n",
      "Operation completed over 5 objects/3.2 MiB.                                      \n"
     ]
    }
   ],
   "source": [
    "# %%bash\n",
    "# mkdir tmp\n",
    "# FILE=swivel.tar.gz\n",
    "# wget --quiet -O tmp/swivel.tar.gz  https://tfhub.dev/google/tf2-preview/gnews-swivel-20dim/1?tf-hub-format=compressed\n",
    "# cd tmp\n",
    "# tar xvfz swivel.tar.gz\n",
    "# cd ..\n",
    "# mv tmp swivel\n",
    "# gsutil -m cp -R swivel gs://trendspotting-pipeline/swivel"
   ]
  },
  {
   "cell_type": "code",
   "execution_count": 8,
   "id": "3dbe2590-0b20-4601-b6c3-d2bca77c7283",
   "metadata": {},
   "outputs": [
    {
     "name": "stderr",
     "output_type": "stream",
     "text": [
      "Query complete after 0.01s: 100%|██████████| 2/2 [00:00<00:00, 823.62query/s]                        \n"
     ]
    },
    {
     "data": {
      "text/html": [
       "<div>\n",
       "<style scoped>\n",
       "    .dataframe tbody tr th:only-of-type {\n",
       "        vertical-align: middle;\n",
       "    }\n",
       "\n",
       "    .dataframe tbody tr th {\n",
       "        vertical-align: top;\n",
       "    }\n",
       "\n",
       "    .dataframe thead th {\n",
       "        text-align: right;\n",
       "    }\n",
       "</style>\n",
       "<table border=\"1\" class=\"dataframe\">\n",
       "  <thead>\n",
       "    <tr style=\"text-align: right;\">\n",
       "      <th></th>\n",
       "    </tr>\n",
       "  </thead>\n",
       "  <tbody>\n",
       "  </tbody>\n",
       "</table>\n",
       "</div>"
      ],
      "text/plain": [
       "Empty DataFrame\n",
       "Columns: []\n",
       "Index: []"
      ]
     },
     "execution_count": 8,
     "metadata": {},
     "output_type": "execute_result"
    }
   ],
   "source": [
    "%%bigquery\n",
    "CREATE OR REPLACE MODEL trendspotting.swivel_text_embed\n",
    "OPTIONS(model_type='tensorflow', model_path='gs://trendspotting-pipeline/swivel/*')"
   ]
  },
  {
   "cell_type": "code",
   "execution_count": 49,
   "id": "5d5b1a47-3fe0-439f-bcbe-e3e3482441e3",
   "metadata": {},
   "outputs": [
    {
     "name": "stdout",
     "output_type": "stream",
     "text": [
      "Executing query with job ID: 8c2da1f4-1d90-4582-98a1-06a0ea44c09f\n",
      "Query executing: 0.29s"
     ]
    },
    {
     "name": "stderr",
     "output_type": "stream",
     "text": [
      "\n",
      "ERROR:\n",
      " 400 Array of type FLOAT64 is not supported in column output_0 in query statement.\n",
      "\n",
      "(job ID: 8c2da1f4-1d90-4582-98a1-06a0ea44c09f)\n",
      "\n",
      "                                                              -----Query Job SQL Follows-----                                                               \n",
      "\n",
      "    |    .    |    .    |    .    |    .    |    .    |    .    |    .    |    .    |    .    |    .    |    .    |    .    |    .    |    .    |    .    |\n",
      "   1:CREATE TEMPORARY FUNCTION arr_to_input_20(arr ARRAY<FLOAT64>)\n",
      "   2:RETURNS \n",
      "   3:STRUCT<p1 FLOAT64, p2 FLOAT64, p3 FLOAT64, p4 FLOAT64,\n",
      "   4:       p5 FLOAT64, p6 FLOAT64, p7 FLOAT64, p8 FLOAT64, \n",
      "   5:       p9 FLOAT64, p10 FLOAT64, p11 FLOAT64, p12 FLOAT64, \n",
      "   6:       p13 FLOAT64, p14 FLOAT64, p15 FLOAT64, p16 FLOAT64,\n",
      "   7:       p17 FLOAT64, p18 FLOAT64, p19 FLOAT64, p20 FLOAT64>\n",
      "   8:AS (\n",
      "   9:STRUCT(\n",
      "  10:    arr[OFFSET(0)]\n",
      "  11:    , arr[OFFSET(1)]\n",
      "  12:    , arr[OFFSET(2)]\n",
      "  13:    , arr[OFFSET(3)]\n",
      "  14:    , arr[OFFSET(4)]\n",
      "  15:    , arr[OFFSET(5)]\n",
      "  16:    , arr[OFFSET(6)]\n",
      "  17:    , arr[OFFSET(7)]\n",
      "  18:    , arr[OFFSET(8)]\n",
      "  19:    , arr[OFFSET(9)]\n",
      "  20:    , arr[OFFSET(10)]\n",
      "  21:    , arr[OFFSET(11)]\n",
      "  22:    , arr[OFFSET(12)]\n",
      "  23:    , arr[OFFSET(13)]\n",
      "  24:    , arr[OFFSET(14)]\n",
      "  25:    , arr[OFFSET(15)]\n",
      "  26:    , arr[OFFSET(16)]\n",
      "  27:    , arr[OFFSET(17)]\n",
      "  28:    , arr[OFFSET(18)]\n",
      "  29:    , arr[OFFSET(19)]    \n",
      "  30:));\n",
      "  31:\n",
      "  32:CREATE OR REPLACE MODEL trendspotting.embed_filtered_forecast_30\n",
      "  33:OPTIONS(model_type='kmeans', NUM_CLUSTERS=30, kmeans_init_method = 'KMEANS++') AS\n",
      "  34:SELECT\n",
      "  35:  *,\n",
      "  36:  arr_to_input_20(output_0) AS comments_embed\n",
      "  37:FROM ML.PREDICT(MODEL trendspotting.swivel_text_embed,(\n",
      "  38:    select * from\n",
      "  39:      (with six_mo_val as (select *, predicted_category_rank.value as six_mo_forecast from `cpg-cdp.trendspotting.predict_c52_h52_rmsle_fixed` \n",
      "  40:        where predicted_on_date = '2021-06-06' and date = '2021-12-26')\n",
      "  41:        SELECT a.date, a.geo_name, a.term AS sentences, a.category_rank_int as current_rank, a.category_rank_int - b.six_mo_forecast as six_delta_rank,\n",
      "  42:       b.category_rank_int as six_mo_val, six_mo_forecast\n",
      "  43:      FROM `cpg-cdp.trendspotting.predict_c52_h52_rmsle_fixed` a INNER JOIN six_mo_val b on a.series_id = b.series_id\n",
      "  44:      WHERE a.date between '2019-01-01' and '2021-12-31' and a.category_id = '10055' \n",
      "  45:      ) where current_rank > 500 order by six_delta_rank desc limit 10000 ))\n",
      "    |    .    |    .    |    .    |    .    |    .    |    .    |    .    |    .    |    .    |    .    |    .    |    .    |    .    |    .    |    .    |\n"
     ]
    }
   ],
   "source": [
    "%%bigquery\n",
    "CREATE TEMPORARY FUNCTION arr_to_input_20(arr ARRAY<FLOAT64>)\n",
    "RETURNS \n",
    "STRUCT<p1 FLOAT64, p2 FLOAT64, p3 FLOAT64, p4 FLOAT64,\n",
    "       p5 FLOAT64, p6 FLOAT64, p7 FLOAT64, p8 FLOAT64, \n",
    "       p9 FLOAT64, p10 FLOAT64, p11 FLOAT64, p12 FLOAT64, \n",
    "       p13 FLOAT64, p14 FLOAT64, p15 FLOAT64, p16 FLOAT64,\n",
    "       p17 FLOAT64, p18 FLOAT64, p19 FLOAT64, p20 FLOAT64>\n",
    "AS (\n",
    "STRUCT(\n",
    "    arr[OFFSET(0)]\n",
    "    , arr[OFFSET(1)]\n",
    "    , arr[OFFSET(2)]\n",
    "    , arr[OFFSET(3)]\n",
    "    , arr[OFFSET(4)]\n",
    "    , arr[OFFSET(5)]\n",
    "    , arr[OFFSET(6)]\n",
    "    , arr[OFFSET(7)]\n",
    "    , arr[OFFSET(8)]\n",
    "    , arr[OFFSET(9)]\n",
    "    , arr[OFFSET(10)]\n",
    "    , arr[OFFSET(11)]\n",
    "    , arr[OFFSET(12)]\n",
    "    , arr[OFFSET(13)]\n",
    "    , arr[OFFSET(14)]\n",
    "    , arr[OFFSET(15)]\n",
    "    , arr[OFFSET(16)]\n",
    "    , arr[OFFSET(17)]\n",
    "    , arr[OFFSET(18)]\n",
    "    , arr[OFFSET(19)]    \n",
    "));\n",
    "\n",
    "CREATE OR REPLACE MODEL trendspotting.embed_filtered_forecast_30\n",
    "OPTIONS(model_type='kmeans', NUM_CLUSTERS=30, kmeans_init_method = 'KMEANS++') AS\n",
    "SELECT\n",
    "  *,\n",
    "  arr_to_input_20(output_0) AS comments_embed\n",
    "FROM ML.PREDICT(MODEL trendspotting.swivel_text_embed,(\n",
    "    select * from\n",
    "      (with six_mo_val as (select *, predicted_category_rank.value as six_mo_forecast from `cpg-cdp.trendspotting.predict_c52_h52_rmsle_fixed` \n",
    "        where predicted_on_date = '2021-06-06' and date = '2021-12-26')\n",
    "        SELECT a.date, a.geo_name, a.term AS sentences, a.category_rank_int as current_rank, a.category_rank_int - b.six_mo_forecast as six_delta_rank,\n",
    "       b.category_rank_int as six_mo_val, six_mo_forecast\n",
    "      FROM `cpg-cdp.trendspotting.predict_c52_h52_rmsle_fixed` a INNER JOIN six_mo_val b on a.series_id = b.series_id\n",
    "      WHERE a.date between '2019-01-01' and '2021-12-31' and a.category_id = '10055' \n",
    "      ) where current_rank > 500 order by six_delta_rank desc limit 10000 ))"
   ]
  },
  {
   "cell_type": "markdown",
   "id": "2de6dbe4-57d8-4a02-9223-5864f62a7d51",
   "metadata": {},
   "source": [
    "### Predict swivel embedding clusters"
   ]
  },
  {
   "cell_type": "markdown",
   "id": "43557f7a-d048-4528-86d6-9f0a46847319",
   "metadata": {},
   "source": [
    "# Create filtered dataset from forecasts showing top 10 growth forecasts"
   ]
  },
  {
   "cell_type": "code",
   "execution_count": 50,
   "id": "bdd489fc-7f62-4640-b669-8cea13def4c9",
   "metadata": {},
   "outputs": [],
   "source": [
    "# low level report - followed by clustering report - TODO: Put in pipeline"
   ]
  },
  {
   "cell_type": "code",
   "execution_count": 45,
   "id": "b8f37dc6-0c46-4610-b5b9-f25fe5cc1d96",
   "metadata": {},
   "outputs": [
    {
     "name": "stderr",
     "output_type": "stream",
     "text": [
      "Query complete after 0.00s: 100%|██████████| 7/7 [00:00<00:00, 3858.10query/s]                        \n"
     ]
    },
    {
     "data": {
      "text/html": [
       "<div>\n",
       "<style scoped>\n",
       "    .dataframe tbody tr th:only-of-type {\n",
       "        vertical-align: middle;\n",
       "    }\n",
       "\n",
       "    .dataframe tbody tr th {\n",
       "        vertical-align: top;\n",
       "    }\n",
       "\n",
       "    .dataframe thead th {\n",
       "        text-align: right;\n",
       "    }\n",
       "</style>\n",
       "<table border=\"1\" class=\"dataframe\">\n",
       "  <thead>\n",
       "    <tr style=\"text-align: right;\">\n",
       "      <th></th>\n",
       "    </tr>\n",
       "  </thead>\n",
       "  <tbody>\n",
       "  </tbody>\n",
       "</table>\n",
       "</div>"
      ],
      "text/plain": [
       "Empty DataFrame\n",
       "Columns: []\n",
       "Index: []"
      ]
     },
     "execution_count": 45,
     "metadata": {},
     "output_type": "execute_result"
    }
   ],
   "source": [
    "%%bigquery\n",
    "\n",
    "CREATE OR REPLACE TABLE trendspotting.predict_c52_p52_embed_long_filtered as (\n",
    "    select * from\n",
    "      (with six_mo_val as (select *, predicted_category_rank.value as six_mo_forecast from `cpg-cdp.trendspotting.predict_c52_p52_embed_long` \n",
    "        where predicted_on_date = '2021-06-06' and date = '2021-12-26'),\n",
    "         geo_id as (select distinct geo_id, geo_name from `cpg-cdp.trendspotting.futurama_weekly`)\n",
    "    SELECT a.date, \n",
    "       geo_id.geo_name, \n",
    "       a.sentences, \n",
    "       cast(a.category_rank as int64) as current_rank, \n",
    "       cast(a.category_rank as int64) - b.six_mo_forecast as six_delta_rank,\n",
    "       cast(b.category_rank as int64) as six_mo_rank, \n",
    "       six_mo_forecast\n",
    "      FROM `cpg-cdp.trendspotting.predict_c52_p52_embed_long` a INNER JOIN \n",
    "       six_mo_val b on a.series_id = b.series_id \n",
    "       inner join \n",
    "       geo_id on cast(a.geo_id as int64) = geo_id.geo_id\n",
    "      WHERE a.date = '2021-06-06'\n",
    "      ) where current_rank > 500 and six_mo_forecast < 600 order by six_delta_rank desc limit 100 \n",
    ")"
   ]
  },
  {
   "cell_type": "code",
   "execution_count": 51,
   "id": "ed3f9176-8b3b-4fed-b498-c88de111aa46",
   "metadata": {},
   "outputs": [],
   "source": [
    "# Top level report"
   ]
  },
  {
   "cell_type": "code",
   "execution_count": null,
   "id": "63184147-baf1-43aa-a90f-0940de018ed7",
   "metadata": {},
   "outputs": [],
   "source": [
    "%%bigquery\n",
    "CREATE TEMPORARY FUNCTION arr_to_input_20(arr ARRAY<FLOAT64>)\n",
    "RETURNS \n",
    "STRUCT<p1 FLOAT64, p2 FLOAT64, p3 FLOAT64, p4 FLOAT64,\n",
    "       p5 FLOAT64, p6 FLOAT64, p7 FLOAT64, p8 FLOAT64, \n",
    "       p9 FLOAT64, p10 FLOAT64, p11 FLOAT64, p12 FLOAT64, \n",
    "       p13 FLOAT64, p14 FLOAT64, p15 FLOAT64, p16 FLOAT64,\n",
    "       p17 FLOAT64, p18 FLOAT64, p19 FLOAT64, p20 FLOAT64>\n",
    "AS (\n",
    "STRUCT(\n",
    "    arr[OFFSET(0)]\n",
    "    , arr[OFFSET(1)]\n",
    "    , arr[OFFSET(2)]\n",
    "    , arr[OFFSET(3)]\n",
    "    , arr[OFFSET(4)]\n",
    "    , arr[OFFSET(5)]\n",
    "    , arr[OFFSET(6)]\n",
    "    , arr[OFFSET(7)]\n",
    "    , arr[OFFSET(8)]\n",
    "    , arr[OFFSET(9)]\n",
    "    , arr[OFFSET(10)]\n",
    "    , arr[OFFSET(11)]\n",
    "    , arr[OFFSET(12)]\n",
    "    , arr[OFFSET(13)]\n",
    "    , arr[OFFSET(14)]\n",
    "    , arr[OFFSET(15)]\n",
    "    , arr[OFFSET(16)]\n",
    "    , arr[OFFSET(17)]\n",
    "    , arr[OFFSET(18)]\n",
    "    , arr[OFFSET(19)]    \n",
    "));\n",
    "\n",
    "CREATE OR REPLACE TABLE trendspotting.futurama_weekly_embed_cluster_100 as (\n",
    "    select * \n",
    "    from ML.PREDICT(MODEL trendspotting.embed_clustering_100, (\n",
    "        select *, arr_to_input_20(output_0) AS comments_embed from \n",
    "            ML.PREDICT(MODEL trendspotting.swivel_text_embed,(\n",
    "          SELECT date, geo_name, term AS sentences, volume\n",
    "          FROM `cpg-cdp.trendspotting.futurama_weekly`\n",
    "          WHERE date between '2019-01-01' and '2021-12-31' and category_id = 10047\n",
    "        ))\n",
    "        )\n",
    "    )\n",
    ")"
   ]
  },
  {
   "cell_type": "code",
   "execution_count": 47,
   "id": "31fbc1d0-a03f-4da4-8d64-d777c88bffca",
   "metadata": {},
   "outputs": [
    {
     "name": "stderr",
     "output_type": "stream",
     "text": [
      "Query complete after 0.00s: 100%|██████████| 7/7 [00:00<00:00, 4350.94query/s]                        \n"
     ]
    },
    {
     "data": {
      "text/html": [
       "<div>\n",
       "<style scoped>\n",
       "    .dataframe tbody tr th:only-of-type {\n",
       "        vertical-align: middle;\n",
       "    }\n",
       "\n",
       "    .dataframe tbody tr th {\n",
       "        vertical-align: top;\n",
       "    }\n",
       "\n",
       "    .dataframe thead th {\n",
       "        text-align: right;\n",
       "    }\n",
       "</style>\n",
       "<table border=\"1\" class=\"dataframe\">\n",
       "  <thead>\n",
       "    <tr style=\"text-align: right;\">\n",
       "      <th></th>\n",
       "    </tr>\n",
       "  </thead>\n",
       "  <tbody>\n",
       "  </tbody>\n",
       "</table>\n",
       "</div>"
      ],
      "text/plain": [
       "Empty DataFrame\n",
       "Columns: []\n",
       "Index: []"
      ]
     },
     "execution_count": 47,
     "metadata": {},
     "output_type": "execute_result"
    }
   ],
   "source": [
    "%%bigquery\n",
    "\n",
    "CREATE OR REPLACE TABLE trendspotting.futurama_weekly_embed_cluster_agg_100 as (\n",
    "with centroids as (select * from \n",
    "(SELECT\n",
    "centroid_id, feature, numerical_value\n",
    "FROM\n",
    "  ML.CENTROIDS(MODEL `trendspotting.embed_clustering_100`)\n",
    ")\n",
    "PIVOT(avg(numerical_value) for feature in ('comments_embed_p1',\n",
    "'comments_embed_p2',\n",
    "'comments_embed_p3',\n",
    "'comments_embed_p4',\n",
    "'comments_embed_p5',\n",
    "'comments_embed_p6',\n",
    "'comments_embed_p7',\n",
    "'comments_embed_p8',\n",
    "'comments_embed_p9',\n",
    "'comments_embed_p10',\n",
    "'comments_embed_p11',\n",
    "'comments_embed_p12',\n",
    "'comments_embed_p13',\n",
    "'comments_embed_p14',\n",
    "'comments_embed_p15',\n",
    "'comments_embed_p16',\n",
    "'comments_embed_p17',\n",
    "'comments_embed_p18',\n",
    "'comments_embed_p19',\n",
    "'comments_embed_p20'))\n",
    "                  )\n",
    "select volume, date, b.*,\n",
    "case when date between '2019-01-01' and  '2020-12-31' then 'TRAIN'\n",
    "          when date between '2021-01-01' and '2021-05-31' then 'VALIDATE'\n",
    "         else 'TEST' end as split_col\n",
    "from (\n",
    "    select sum(volume) as volume, date, centroid_id \n",
    "    from trendspotting.futurama_weekly_embed_cluster_100 group by date, centroid_id\n",
    ") a\n",
    "inner join centroids b on a.centroid_id = b.centroid_id\n",
    ")"
   ]
  },
  {
   "cell_type": "code",
   "execution_count": 48,
   "id": "e76d3e7d-e360-406a-9e31-c15ed357923d",
   "metadata": {},
   "outputs": [
    {
     "name": "stdout",
     "output_type": "stream",
     "text": [
      "Executing query with job ID: 3738801b-baf4-4f0f-8294-bd37105622f9\n",
      "Query executing: 0.25s"
     ]
    },
    {
     "name": "stderr",
     "output_type": "stream",
     "text": [
      "\n",
      "ERROR:\n",
      " 409 Already Exists: Table cpg-cdp:trendspotting.cluster_forecast_test_clean\n",
      "\n",
      "(job ID: 3738801b-baf4-4f0f-8294-bd37105622f9)\n",
      "\n",
      "                                                                                   -----Query Job SQL Follows-----                                                                                   \n",
      "\n",
      "    |    .    |    .    |    .    |    .    |    .    |    .    |    .    |    .    |    .    |    .    |    .    |    .    |    .    |    .    |    .    |    .    |    .    |    .    |    .    |\n",
      "   1:create table trendspotting.cluster_forecast_test_clean as (\n",
      "   2:    SELECT centroid_id, cast(volume as int) as volume, cast(predicted_volume.value as float64) as predicted_volume, date, predicted_on_date  FROM `cpg-cdp.trendspotting.cluster_forecast_test` \n",
      "   3:)\n",
      "    |    .    |    .    |    .    |    .    |    .    |    .    |    .    |    .    |    .    |    .    |    .    |    .    |    .    |    .    |    .    |    .    |    .    |    .    |    .    |\n"
     ]
    }
   ],
   "source": [
    "%%bigquery\n",
    "\n",
    "create table trendspotting.cluster_forecast_test_clean as (\n",
    "    SELECT centroid_id, cast(volume as int) as volume, cast(predicted_volume.value as float64) as predicted_volume, date, predicted_on_date  FROM `cpg-cdp.trendspotting.cluster_forecast_test` \n",
    ")"
   ]
  },
  {
   "cell_type": "code",
   "execution_count": null,
   "id": "2fbc953a-6b65-42b3-8c36-10c4f7661175",
   "metadata": {},
   "outputs": [],
   "source": []
  }
 ],
 "metadata": {
  "environment": {
   "kernel": "python3",
   "name": "tf2-gpu.2-7.m87",
   "type": "gcloud",
   "uri": "gcr.io/deeplearning-platform-release/tf2-gpu.2-7:m87"
  },
  "kernelspec": {
   "display_name": "Python 3",
   "language": "python",
   "name": "python3"
  },
  "language_info": {
   "codemirror_mode": {
    "name": "ipython",
    "version": 3
   },
   "file_extension": ".py",
   "mimetype": "text/x-python",
   "name": "python",
   "nbconvert_exporter": "python",
   "pygments_lexer": "ipython3",
   "version": "3.7.12"
  }
 },
 "nbformat": 4,
 "nbformat_minor": 5
}
