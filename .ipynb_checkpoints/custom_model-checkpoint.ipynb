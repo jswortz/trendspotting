{
 "cells": [
  {
   "cell_type": "code",
   "execution_count": 24,
   "id": "e150a42b-0221-4da7-a53e-91d8621f454a",
   "metadata": {},
   "outputs": [],
   "source": [
    "# !pip install pandas-gbq==0.12.0 keras-tuner --user"
   ]
  },
  {
   "cell_type": "code",
   "execution_count": 2,
   "id": "5179d751-9fd5-4e5a-b1d8-8c46095b9dee",
   "metadata": {},
   "outputs": [],
   "source": [
    "import pandas as pd\n",
    "from google.cloud import bigquery\n",
    "import time\n",
    "\n",
    "PROJECT_ID = 'cpg-cdp'\n",
    "REGION = 'us-central1'"
   ]
  },
  {
   "cell_type": "markdown",
   "id": "ddb85e81-7595-4a33-b592-d7202660ce5f",
   "metadata": {},
   "source": [
    "### Download your data after manually labeling\n",
    "Process: BQ -> sheets (label) -> csv -> upload to notebook"
   ]
  },
  {
   "cell_type": "code",
   "execution_count": 3,
   "id": "98d4bf4e-322d-43e2-8b7e-8453b3375985",
   "metadata": {},
   "outputs": [],
   "source": [
    "labels = pd.read_csv('P&G Trendspotting Term Classification - PivotData (1).csv')"
   ]
  },
  {
   "cell_type": "code",
   "execution_count": 3,
   "id": "4af935cb-88d9-4cb5-bc3b-0115b315cdde",
   "metadata": {},
   "outputs": [
    {
     "data": {
      "text/html": [
       "<div>\n",
       "<style scoped>\n",
       "    .dataframe tbody tr th:only-of-type {\n",
       "        vertical-align: middle;\n",
       "    }\n",
       "\n",
       "    .dataframe tbody tr th {\n",
       "        vertical-align: top;\n",
       "    }\n",
       "\n",
       "    .dataframe thead th {\n",
       "        text-align: right;\n",
       "    }\n",
       "</style>\n",
       "<table border=\"1\" class=\"dataframe\">\n",
       "  <thead>\n",
       "    <tr style=\"text-align: right;\">\n",
       "      <th></th>\n",
       "      <th>terms</th>\n",
       "      <th>count</th>\n",
       "      <th>label</th>\n",
       "    </tr>\n",
       "  </thead>\n",
       "  <tbody>\n",
       "    <tr>\n",
       "      <th>0</th>\n",
       "      <td>curtain bangs</td>\n",
       "      <td>12541.0</td>\n",
       "      <td>Hair Styling</td>\n",
       "    </tr>\n",
       "    <tr>\n",
       "      <th>1</th>\n",
       "      <td>haircut</td>\n",
       "      <td>12533.0</td>\n",
       "      <td>Hair Styling</td>\n",
       "    </tr>\n",
       "    <tr>\n",
       "      <th>2</th>\n",
       "      <td>mullet haircut</td>\n",
       "      <td>12457.0</td>\n",
       "      <td>Hair Styling</td>\n",
       "    </tr>\n",
       "    <tr>\n",
       "      <th>3</th>\n",
       "      <td>cute hairstyles</td>\n",
       "      <td>12444.0</td>\n",
       "      <td>Hair Styling</td>\n",
       "    </tr>\n",
       "    <tr>\n",
       "      <th>4</th>\n",
       "      <td>shag haircut</td>\n",
       "      <td>12295.0</td>\n",
       "      <td>Hair Styling</td>\n",
       "    </tr>\n",
       "    <tr>\n",
       "      <th>...</th>\n",
       "      <td>...</td>\n",
       "      <td>...</td>\n",
       "      <td>...</td>\n",
       "    </tr>\n",
       "    <tr>\n",
       "      <th>1271</th>\n",
       "      <td>NaN</td>\n",
       "      <td>NaN</td>\n",
       "      <td>NaN</td>\n",
       "    </tr>\n",
       "    <tr>\n",
       "      <th>1272</th>\n",
       "      <td>NaN</td>\n",
       "      <td>NaN</td>\n",
       "      <td>NaN</td>\n",
       "    </tr>\n",
       "    <tr>\n",
       "      <th>1273</th>\n",
       "      <td>NaN</td>\n",
       "      <td>NaN</td>\n",
       "      <td>NaN</td>\n",
       "    </tr>\n",
       "    <tr>\n",
       "      <th>1274</th>\n",
       "      <td>NaN</td>\n",
       "      <td>NaN</td>\n",
       "      <td>NaN</td>\n",
       "    </tr>\n",
       "    <tr>\n",
       "      <th>1275</th>\n",
       "      <td>hair mask</td>\n",
       "      <td>10416.0</td>\n",
       "      <td>NaN</td>\n",
       "    </tr>\n",
       "  </tbody>\n",
       "</table>\n",
       "<p>1276 rows × 3 columns</p>\n",
       "</div>"
      ],
      "text/plain": [
       "                terms    count         label\n",
       "0       curtain bangs  12541.0  Hair Styling\n",
       "1             haircut  12533.0  Hair Styling\n",
       "2      mullet haircut  12457.0  Hair Styling\n",
       "3     cute hairstyles  12444.0  Hair Styling\n",
       "4        shag haircut  12295.0  Hair Styling\n",
       "...               ...      ...           ...\n",
       "1271              NaN      NaN           NaN\n",
       "1272              NaN      NaN           NaN\n",
       "1273              NaN      NaN           NaN\n",
       "1274              NaN      NaN           NaN\n",
       "1275        hair mask  10416.0           NaN\n",
       "\n",
       "[1276 rows x 3 columns]"
      ]
     },
     "execution_count": 3,
     "metadata": {},
     "output_type": "execute_result"
    }
   ],
   "source": [
    "col_names = ['terms', 'count', 'label']\n",
    "labels.columns = col_names\n",
    "labels"
   ]
  },
  {
   "cell_type": "code",
   "execution_count": 4,
   "id": "d1609a75-2386-485d-aaaf-61db2ba2a147",
   "metadata": {},
   "outputs": [],
   "source": [
    "### Upload the data to BQ"
   ]
  },
  {
   "cell_type": "code",
   "execution_count": 9,
   "id": "759bf31a-6614-4303-b936-b1eac1b2fb5b",
   "metadata": {},
   "outputs": [
    {
     "name": "stderr",
     "output_type": "stream",
     "text": [
      "1it [00:04,  4.42s/it]\n"
     ]
    }
   ],
   "source": [
    "#fix column names\n",
    "\n",
    "\n",
    "labels.to_gbq(\n",
    "destination_table=f'trendspotting.labels_jw_pl_png_hair_22', \n",
    "project_id=PROJECT_ID, # TODO: param\n",
    "location='US', \n",
    "progress_bar=True, \n",
    "reauth=True, \n",
    "if_exists='replace'\n",
    ") "
   ]
  },
  {
   "cell_type": "code",
   "execution_count": 29,
   "id": "593cb594-7f86-420c-b1e7-b980537fe294",
   "metadata": {},
   "outputs": [],
   "source": [
    "bq_client = bigquery.Client(PROJECT_ID)\n"
   ]
  },
  {
   "cell_type": "code",
   "execution_count": 10,
   "id": "6f8eb3de-8d7a-4cc3-982a-e750e10df229",
   "metadata": {},
   "outputs": [
    {
     "name": "stdout",
     "output_type": "stream",
     "text": [
      "CPU times: user 40.2 ms, sys: 0 ns, total: 40.2 ms\n",
      "Wall time: 16.7 s\n"
     ]
    },
    {
     "data": {
      "text/plain": [
       "<google.cloud.bigquery.table._EmptyRowIterator at 0x7f47e3f29dd0>"
      ]
     },
     "execution_count": 10,
     "metadata": {},
     "output_type": "execute_result"
    }
   ],
   "source": [
    "%%time\n",
    "\n",
    "sql = f\"\"\" CREATE OR REPLACE TABLE\n",
    "  trendspotting.labeled_training_jw_pl_png_hair_22 AS (\n",
    "  SELECT\n",
    "    * EXCEPT(category_rank,\n",
    "      split_col)\n",
    "  FROM\n",
    "    cpg-cdp.trendspotting.ETL_futurama_weekly_embed_aml_pl_png_hair_22 a\n",
    "  INNER JOIN\n",
    "    trendspotting.labels_jw_pl_png_hair_22 b\n",
    "  ON\n",
    "    a.sentences = b.terms and label IS NOT NULL )\n",
    "  \n",
    "\"\"\"\n",
    "\n",
    "bq_client.query(sql).result()"
   ]
  },
  {
   "cell_type": "markdown",
   "id": "7d2e7c5b-c036-45ea-99ea-583c4d84b4ad",
   "metadata": {},
   "source": [
    "## Unique data - possibly better model"
   ]
  },
  {
   "cell_type": "code",
   "execution_count": 11,
   "id": "a1ee814e-3046-4f86-b181-6026f6f06686",
   "metadata": {},
   "outputs": [],
   "source": [
    "### BQML for classification"
   ]
  },
  {
   "cell_type": "code",
   "execution_count": 13,
   "id": "22f8690d-ad99-4c23-93e8-45dfd5519f54",
   "metadata": {},
   "outputs": [
    {
     "data": {
      "text/plain": [
       "<google.cloud.bigquery.table._EmptyRowIterator at 0x7f47e3f3e3d0>"
      ]
     },
     "execution_count": 13,
     "metadata": {},
     "output_type": "execute_result"
    }
   ],
   "source": [
    "sql = f\"\"\" CREATE OR REPLACE TABLE\n",
    "  trendspotting.labeled_distinct_training_jw_pl_png_hair_22 AS (\n",
    "  with distinct_data as (\n",
    "  SELECT DISTINCT\n",
    "    * EXCEPT(category_rank, series_id, date)\n",
    "  FROM\n",
    "    cpg-cdp.trendspotting.ETL_futurama_weekly_embed_aml_pl_png_hair_22 a\n",
    "  INNER JOIN\n",
    "    trendspotting.labels_jw_pl_png_hair_22 b\n",
    "  ON\n",
    "    a.sentences = b.terms )\n",
    "  select distinct *,\n",
    "  case when rand() > 0.9 then 'VALIDATE' when rand() > 0.8 then 'TEST' else 'TRAIN' end as dataframe\n",
    "  from distinct_data \n",
    "  WHERE label is not null\n",
    "    )\n",
    "\"\"\"\n",
    "\n",
    "bq_client.query(sql).result()"
   ]
  },
  {
   "cell_type": "code",
   "execution_count": 14,
   "id": "a522e9c3-9a53-4be6-a7da-1a411720a842",
   "metadata": {},
   "outputs": [
    {
     "name": "stdout",
     "output_type": "stream",
     "text": [
      "Executing query with job ID: 43101f4b-27bf-438b-864e-68d0403cfc38\n",
      "Query executing: 2478.08s"
     ]
    },
    {
     "name": "stderr",
     "output_type": "stream",
     "text": [
      "IOPub message rate exceeded.\n",
      "The Jupyter server will temporarily stop sending output\n",
      "to the client in order to avoid crashing it.\n",
      "To change this limit, set the config variable\n",
      "`--ServerApp.iopub_msg_rate_limit`.\n",
      "\n",
      "Current values:\n",
      "ServerApp.iopub_msg_rate_limit=1000.0 (msgs/sec)\n",
      "ServerApp.rate_limit_window=3.0 (secs)\n",
      "\n"
     ]
    },
    {
     "name": "stdout",
     "output_type": "stream",
     "text": [
      "Query executing: 4751.06s"
     ]
    },
    {
     "name": "stderr",
     "output_type": "stream",
     "text": [
      "IOPub message rate exceeded.\n",
      "The Jupyter server will temporarily stop sending output\n",
      "to the client in order to avoid crashing it.\n",
      "To change this limit, set the config variable\n",
      "`--ServerApp.iopub_msg_rate_limit`.\n",
      "\n",
      "Current values:\n",
      "ServerApp.iopub_msg_rate_limit=1000.0 (msgs/sec)\n",
      "ServerApp.rate_limit_window=3.0 (secs)\n",
      "\n"
     ]
    }
   ],
   "source": [
    "%%bigquery\n",
    "CREATE OR REPLACE MODEL\n",
    "  `trendspotting.bqml_distinct_pl_png_hair_22`\n",
    "OPTIONS\n",
    "  ( model_type='AUTOML_CLASSIFIER',\n",
    "    BUDGET_HOURS=1.0,\n",
    "    input_label_cols=['label']\n",
    "  ) AS\n",
    "SELECT\n",
    "  * EXCEPT(dataframe, count)\n",
    "FROM\n",
    "  `trendspotting.labeled_distinct_training_jw_pl_png_hair_22`\n",
    "WHERE\n",
    "  dataframe = 'TRAIN'"
   ]
  },
  {
   "cell_type": "code",
   "execution_count": 22,
   "id": "5d055dd8-10c7-4cba-8af9-3370db29c077",
   "metadata": {},
   "outputs": [
    {
     "name": "stderr",
     "output_type": "stream",
     "text": [
      "Query complete after 0.00s: 100%|██████████| 1/1 [00:00<00:00, 975.87query/s] \n",
      "Downloading: 100%|██████████| 1/1 [00:01<00:00,  1.25s/rows]\n"
     ]
    },
    {
     "data": {
      "text/html": [
       "<div>\n",
       "<style scoped>\n",
       "    .dataframe tbody tr th:only-of-type {\n",
       "        vertical-align: middle;\n",
       "    }\n",
       "\n",
       "    .dataframe tbody tr th {\n",
       "        vertical-align: top;\n",
       "    }\n",
       "\n",
       "    .dataframe thead th {\n",
       "        text-align: right;\n",
       "    }\n",
       "</style>\n",
       "<table border=\"1\" class=\"dataframe\">\n",
       "  <thead>\n",
       "    <tr style=\"text-align: right;\">\n",
       "      <th></th>\n",
       "      <th>precision</th>\n",
       "      <th>recall</th>\n",
       "      <th>accuracy</th>\n",
       "      <th>f1_score</th>\n",
       "      <th>log_loss</th>\n",
       "      <th>roc_auc</th>\n",
       "    </tr>\n",
       "  </thead>\n",
       "  <tbody>\n",
       "    <tr>\n",
       "      <th>0</th>\n",
       "      <td>0.999052</td>\n",
       "      <td>0.999685</td>\n",
       "      <td>0.998477</td>\n",
       "      <td>0.999366</td>\n",
       "      <td>0.000694</td>\n",
       "      <td>1.0</td>\n",
       "    </tr>\n",
       "  </tbody>\n",
       "</table>\n",
       "</div>"
      ],
      "text/plain": [
       "   precision    recall  accuracy  f1_score  log_loss  roc_auc\n",
       "0   0.999052  0.999685  0.998477  0.999366  0.000694      1.0"
      ]
     },
     "execution_count": 22,
     "metadata": {},
     "output_type": "execute_result"
    }
   ],
   "source": [
    "%%bigquery\n",
    "SELECT\n",
    "  *\n",
    "FROM\n",
    "  ML.EVALUATE (MODEL `trendspotting.bqml_distinct_pl_png_hair_22`,\n",
    "    (\n",
    "    SELECT\n",
    "      *\n",
    "    FROM\n",
    "      `trendspotting.labeled_distinct_training_jw_pl_png_hair_22`\n",
    "    WHERE\n",
    "      dataframe = 'VALIDATE'\n",
    "    )\n",
    "  )"
   ]
  },
  {
   "cell_type": "markdown",
   "id": "4199cf84-97f7-485f-b78b-86333312777c",
   "metadata": {},
   "source": [
    "## Now predict on the entire dataset"
   ]
  },
  {
   "cell_type": "code",
   "execution_count": 23,
   "id": "046fa555-72be-4df1-824c-4987142ae8c9",
   "metadata": {},
   "outputs": [
    {
     "name": "stderr",
     "output_type": "stream",
     "text": [
      "Query complete after 0.00s: 100%|██████████| 3/3 [00:00<00:00, 1672.81query/s]                        \n"
     ]
    },
    {
     "data": {
      "text/html": [
       "<div>\n",
       "<style scoped>\n",
       "    .dataframe tbody tr th:only-of-type {\n",
       "        vertical-align: middle;\n",
       "    }\n",
       "\n",
       "    .dataframe tbody tr th {\n",
       "        vertical-align: top;\n",
       "    }\n",
       "\n",
       "    .dataframe thead th {\n",
       "        text-align: right;\n",
       "    }\n",
       "</style>\n",
       "<table border=\"1\" class=\"dataframe\">\n",
       "  <thead>\n",
       "    <tr style=\"text-align: right;\">\n",
       "      <th></th>\n",
       "    </tr>\n",
       "  </thead>\n",
       "  <tbody>\n",
       "  </tbody>\n",
       "</table>\n",
       "</div>"
      ],
      "text/plain": [
       "Empty DataFrame\n",
       "Columns: []\n",
       "Index: []"
      ]
     },
     "execution_count": 23,
     "metadata": {},
     "output_type": "execute_result"
    }
   ],
   "source": [
    "%%bigquery\n",
    "CREATE OR REPLACE TABLE cpg-cdp.trendspotting.classified_terms_bqml_aml_pl_png_hair_22 as (\n",
    "SELECT\n",
    "  *\n",
    "FROM\n",
    "  ML.PREDICT (MODEL `trendspotting.bqml_distinct_pl_png_hair_22`,\n",
    "    (\n",
    "    SELECT\n",
    "      *,\n",
    "        sentences as terms\n",
    "    FROM\n",
    "      `cpg-cdp.trendspotting.ETL_futurama_weekly_embed_aml_pl_png_hair_22`\n",
    "     )\n",
    "  )\n",
    ")"
   ]
  },
  {
   "cell_type": "markdown",
   "id": "30b6dd3a-4bb3-4114-b284-24512556b173",
   "metadata": {},
   "source": [
    "### Analyze this to see how well it classified terms"
   ]
  },
  {
   "cell_type": "markdown",
   "id": "30b23df4-0549-4a20-ba0d-33ec794045d7",
   "metadata": {},
   "source": [
    "### Basic counts"
   ]
  },
  {
   "cell_type": "code",
   "execution_count": 24,
   "id": "45ba9222-009b-4db1-aef1-1123194b74f0",
   "metadata": {},
   "outputs": [
    {
     "name": "stderr",
     "output_type": "stream",
     "text": [
      "Query complete after 0.00s: 100%|██████████| 2/2 [00:00<00:00, 1006.07query/s]                        \n",
      "Downloading: 100%|██████████| 9/9 [00:01<00:00,  7.76rows/s]\n"
     ]
    },
    {
     "data": {
      "text/html": [
       "<div>\n",
       "<style scoped>\n",
       "    .dataframe tbody tr th:only-of-type {\n",
       "        vertical-align: middle;\n",
       "    }\n",
       "\n",
       "    .dataframe tbody tr th {\n",
       "        vertical-align: top;\n",
       "    }\n",
       "\n",
       "    .dataframe thead th {\n",
       "        text-align: right;\n",
       "    }\n",
       "</style>\n",
       "<table border=\"1\" class=\"dataframe\">\n",
       "  <thead>\n",
       "    <tr style=\"text-align: right;\">\n",
       "      <th></th>\n",
       "      <th>predicted_label</th>\n",
       "      <th>count</th>\n",
       "    </tr>\n",
       "  </thead>\n",
       "  <tbody>\n",
       "    <tr>\n",
       "      <th>0</th>\n",
       "      <td>Hair Straighteners and Relaxers</td>\n",
       "      <td>15760900</td>\n",
       "    </tr>\n",
       "    <tr>\n",
       "      <th>1</th>\n",
       "      <td>Scalp/Anti-Dandruff Products</td>\n",
       "      <td>766387</td>\n",
       "    </tr>\n",
       "    <tr>\n",
       "      <th>2</th>\n",
       "      <td>Hair Loss Products</td>\n",
       "      <td>20570349</td>\n",
       "    </tr>\n",
       "    <tr>\n",
       "      <th>3</th>\n",
       "      <td>Hair Dyes &amp; Coloring</td>\n",
       "      <td>60284082</td>\n",
       "    </tr>\n",
       "    <tr>\n",
       "      <th>4</th>\n",
       "      <td>Shampoos &amp; Conditioners</td>\n",
       "      <td>23981229</td>\n",
       "    </tr>\n",
       "    <tr>\n",
       "      <th>5</th>\n",
       "      <td>Hair Styling</td>\n",
       "      <td>251579841</td>\n",
       "    </tr>\n",
       "    <tr>\n",
       "      <th>6</th>\n",
       "      <td>Lice</td>\n",
       "      <td>2954776</td>\n",
       "    </tr>\n",
       "    <tr>\n",
       "      <th>7</th>\n",
       "      <td>Near me</td>\n",
       "      <td>35924485</td>\n",
       "    </tr>\n",
       "    <tr>\n",
       "      <th>8</th>\n",
       "      <td>Damaged Hair</td>\n",
       "      <td>6054867</td>\n",
       "    </tr>\n",
       "  </tbody>\n",
       "</table>\n",
       "</div>"
      ],
      "text/plain": [
       "                   predicted_label      count\n",
       "0  Hair Straighteners and Relaxers   15760900\n",
       "1     Scalp/Anti-Dandruff Products     766387\n",
       "2               Hair Loss Products   20570349\n",
       "3             Hair Dyes & Coloring   60284082\n",
       "4          Shampoos & Conditioners   23981229\n",
       "5                     Hair Styling  251579841\n",
       "6                             Lice    2954776\n",
       "7                          Near me   35924485\n",
       "8                     Damaged Hair    6054867"
      ]
     },
     "execution_count": 24,
     "metadata": {},
     "output_type": "execute_result"
    }
   ],
   "source": [
    "%%bigquery\n",
    "select \n",
    "predicted_label, \n",
    "count(1) as count \n",
    "from cpg-cdp.trendspotting.classified_terms_bqml_aml_pl_png_hair_22 group by 1"
   ]
  },
  {
   "cell_type": "markdown",
   "id": "1d591315-6dee-475d-8ea3-1f04419f9de8",
   "metadata": {},
   "source": [
    "### get the distinct labels for later"
   ]
  },
  {
   "cell_type": "code",
   "execution_count": 4,
   "id": "3fd0a5ef-fce1-4171-97ea-2aa705de8dcb",
   "metadata": {},
   "outputs": [
    {
     "name": "stderr",
     "output_type": "stream",
     "text": [
      "Query complete after 0.00s: 100%|██████████| 1/1 [00:00<00:00, 937.69query/s] \n",
      "Downloading: 100%|██████████| 9/9 [00:01<00:00,  8.07rows/s]\n"
     ]
    }
   ],
   "source": [
    "%%bigquery labels\n",
    "select distinct predicted_label from cpg-cdp.trendspotting.classified_terms_bqml_aml_pl_png_hair_22"
   ]
  },
  {
   "cell_type": "code",
   "execution_count": 5,
   "id": "0abec086-8374-4a4a-a1fd-f09b975d97a3",
   "metadata": {},
   "outputs": [
    {
     "data": {
      "text/html": [
       "<div>\n",
       "<style scoped>\n",
       "    .dataframe tbody tr th:only-of-type {\n",
       "        vertical-align: middle;\n",
       "    }\n",
       "\n",
       "    .dataframe tbody tr th {\n",
       "        vertical-align: top;\n",
       "    }\n",
       "\n",
       "    .dataframe thead th {\n",
       "        text-align: right;\n",
       "    }\n",
       "</style>\n",
       "<table border=\"1\" class=\"dataframe\">\n",
       "  <thead>\n",
       "    <tr style=\"text-align: right;\">\n",
       "      <th></th>\n",
       "      <th>predicted_label</th>\n",
       "    </tr>\n",
       "  </thead>\n",
       "  <tbody>\n",
       "    <tr>\n",
       "      <th>0</th>\n",
       "      <td>Scalp/Anti-Dandruff Products</td>\n",
       "    </tr>\n",
       "    <tr>\n",
       "      <th>1</th>\n",
       "      <td>Hair Straighteners and Relaxers</td>\n",
       "    </tr>\n",
       "    <tr>\n",
       "      <th>2</th>\n",
       "      <td>Lice</td>\n",
       "    </tr>\n",
       "    <tr>\n",
       "      <th>3</th>\n",
       "      <td>Hair Loss Products</td>\n",
       "    </tr>\n",
       "    <tr>\n",
       "      <th>4</th>\n",
       "      <td>Hair Dyes &amp; Coloring</td>\n",
       "    </tr>\n",
       "    <tr>\n",
       "      <th>5</th>\n",
       "      <td>Near me</td>\n",
       "    </tr>\n",
       "    <tr>\n",
       "      <th>6</th>\n",
       "      <td>Hair Styling</td>\n",
       "    </tr>\n",
       "    <tr>\n",
       "      <th>7</th>\n",
       "      <td>Shampoos &amp; Conditioners</td>\n",
       "    </tr>\n",
       "    <tr>\n",
       "      <th>8</th>\n",
       "      <td>Damaged Hair</td>\n",
       "    </tr>\n",
       "  </tbody>\n",
       "</table>\n",
       "</div>"
      ],
      "text/plain": [
       "                   predicted_label\n",
       "0     Scalp/Anti-Dandruff Products\n",
       "1  Hair Straighteners and Relaxers\n",
       "2                             Lice\n",
       "3               Hair Loss Products\n",
       "4             Hair Dyes & Coloring\n",
       "5                          Near me\n",
       "6                     Hair Styling\n",
       "7          Shampoos & Conditioners\n",
       "8                     Damaged Hair"
      ]
     },
     "execution_count": 5,
     "metadata": {},
     "output_type": "execute_result"
    }
   ],
   "source": [
    "labels"
   ]
  },
  {
   "cell_type": "markdown",
   "id": "2b437e6e-56b1-4e56-9931-f43bb44c7fdf",
   "metadata": {},
   "source": [
    "### Examples\n",
    "Top n terms"
   ]
  },
  {
   "cell_type": "code",
   "execution_count": 26,
   "id": "ecacbcbd-3e17-43cb-ae40-8e45fffded76",
   "metadata": {},
   "outputs": [
    {
     "name": "stderr",
     "output_type": "stream",
     "text": [
      "Query complete after 0.00s: 100%|██████████| 4/4 [00:00<00:00, 1645.31query/s]                        \n",
      "Downloading: 100%|██████████| 20/20 [00:01<00:00, 18.46rows/s]\n"
     ]
    },
    {
     "data": {
      "text/html": [
       "<div>\n",
       "<style scoped>\n",
       "    .dataframe tbody tr th:only-of-type {\n",
       "        vertical-align: middle;\n",
       "    }\n",
       "\n",
       "    .dataframe tbody tr th {\n",
       "        vertical-align: top;\n",
       "    }\n",
       "\n",
       "    .dataframe thead th {\n",
       "        text-align: right;\n",
       "    }\n",
       "</style>\n",
       "<table border=\"1\" class=\"dataframe\">\n",
       "  <thead>\n",
       "    <tr style=\"text-align: right;\">\n",
       "      <th></th>\n",
       "      <th>predicted_label</th>\n",
       "      <th>sentences</th>\n",
       "      <th>count</th>\n",
       "    </tr>\n",
       "  </thead>\n",
       "  <tbody>\n",
       "    <tr>\n",
       "      <th>0</th>\n",
       "      <td>Hair Dyes &amp; Coloring</td>\n",
       "      <td>hair</td>\n",
       "      <td>12278</td>\n",
       "    </tr>\n",
       "    <tr>\n",
       "      <th>1</th>\n",
       "      <td>Hair Dyes &amp; Coloring</td>\n",
       "      <td>hair color ideas</td>\n",
       "      <td>12252</td>\n",
       "    </tr>\n",
       "    <tr>\n",
       "      <th>2</th>\n",
       "      <td>Hair Dyes &amp; Coloring</td>\n",
       "      <td>blonde hair</td>\n",
       "      <td>12217</td>\n",
       "    </tr>\n",
       "    <tr>\n",
       "      <th>3</th>\n",
       "      <td>Hair Dyes &amp; Coloring</td>\n",
       "      <td>burgundy color</td>\n",
       "      <td>12086</td>\n",
       "    </tr>\n",
       "    <tr>\n",
       "      <th>4</th>\n",
       "      <td>Hair Dyes &amp; Coloring</td>\n",
       "      <td>red hair</td>\n",
       "      <td>12048</td>\n",
       "    </tr>\n",
       "    <tr>\n",
       "      <th>5</th>\n",
       "      <td>Hair Dyes &amp; Coloring</td>\n",
       "      <td>brown hair with blonde highlights</td>\n",
       "      <td>12046</td>\n",
       "    </tr>\n",
       "    <tr>\n",
       "      <th>6</th>\n",
       "      <td>Hair Dyes &amp; Coloring</td>\n",
       "      <td>auburn hair</td>\n",
       "      <td>12019</td>\n",
       "    </tr>\n",
       "    <tr>\n",
       "      <th>7</th>\n",
       "      <td>Hair Dyes &amp; Coloring</td>\n",
       "      <td>platinum blonde</td>\n",
       "      <td>12005</td>\n",
       "    </tr>\n",
       "    <tr>\n",
       "      <th>8</th>\n",
       "      <td>Hair Dyes &amp; Coloring</td>\n",
       "      <td>strawberry blonde</td>\n",
       "      <td>12004</td>\n",
       "    </tr>\n",
       "    <tr>\n",
       "      <th>9</th>\n",
       "      <td>Hair Dyes &amp; Coloring</td>\n",
       "      <td>light brown hair</td>\n",
       "      <td>11992</td>\n",
       "    </tr>\n",
       "    <tr>\n",
       "      <th>10</th>\n",
       "      <td>Hair Dyes &amp; Coloring</td>\n",
       "      <td>hair dye</td>\n",
       "      <td>11984</td>\n",
       "    </tr>\n",
       "    <tr>\n",
       "      <th>11</th>\n",
       "      <td>Hair Dyes &amp; Coloring</td>\n",
       "      <td>hair colors</td>\n",
       "      <td>11845</td>\n",
       "    </tr>\n",
       "    <tr>\n",
       "      <th>12</th>\n",
       "      <td>Hair Dyes &amp; Coloring</td>\n",
       "      <td>brown hair</td>\n",
       "      <td>11838</td>\n",
       "    </tr>\n",
       "    <tr>\n",
       "      <th>13</th>\n",
       "      <td>Hair Dyes &amp; Coloring</td>\n",
       "      <td>purple shampoo</td>\n",
       "      <td>11836</td>\n",
       "    </tr>\n",
       "    <tr>\n",
       "      <th>14</th>\n",
       "      <td>Hair Dyes &amp; Coloring</td>\n",
       "      <td>hair color</td>\n",
       "      <td>11803</td>\n",
       "    </tr>\n",
       "    <tr>\n",
       "      <th>15</th>\n",
       "      <td>Hair Dyes &amp; Coloring</td>\n",
       "      <td>indigo color</td>\n",
       "      <td>11784</td>\n",
       "    </tr>\n",
       "    <tr>\n",
       "      <th>16</th>\n",
       "      <td>Hair Dyes &amp; Coloring</td>\n",
       "      <td>purple hair</td>\n",
       "      <td>11762</td>\n",
       "    </tr>\n",
       "    <tr>\n",
       "      <th>17</th>\n",
       "      <td>Hair Dyes &amp; Coloring</td>\n",
       "      <td>dark brown hair</td>\n",
       "      <td>11752</td>\n",
       "    </tr>\n",
       "    <tr>\n",
       "      <th>18</th>\n",
       "      <td>Hair Dyes &amp; Coloring</td>\n",
       "      <td>shine</td>\n",
       "      <td>11742</td>\n",
       "    </tr>\n",
       "    <tr>\n",
       "      <th>19</th>\n",
       "      <td>Hair Dyes &amp; Coloring</td>\n",
       "      <td>brunette hair</td>\n",
       "      <td>11654</td>\n",
       "    </tr>\n",
       "  </tbody>\n",
       "</table>\n",
       "</div>"
      ],
      "text/plain": [
       "         predicted_label                          sentences  count\n",
       "0   Hair Dyes & Coloring                               hair  12278\n",
       "1   Hair Dyes & Coloring                   hair color ideas  12252\n",
       "2   Hair Dyes & Coloring                        blonde hair  12217\n",
       "3   Hair Dyes & Coloring                     burgundy color  12086\n",
       "4   Hair Dyes & Coloring                           red hair  12048\n",
       "5   Hair Dyes & Coloring  brown hair with blonde highlights  12046\n",
       "6   Hair Dyes & Coloring                        auburn hair  12019\n",
       "7   Hair Dyes & Coloring                    platinum blonde  12005\n",
       "8   Hair Dyes & Coloring                  strawberry blonde  12004\n",
       "9   Hair Dyes & Coloring                   light brown hair  11992\n",
       "10  Hair Dyes & Coloring                           hair dye  11984\n",
       "11  Hair Dyes & Coloring                        hair colors  11845\n",
       "12  Hair Dyes & Coloring                         brown hair  11838\n",
       "13  Hair Dyes & Coloring                     purple shampoo  11836\n",
       "14  Hair Dyes & Coloring                         hair color  11803\n",
       "15  Hair Dyes & Coloring                       indigo color  11784\n",
       "16  Hair Dyes & Coloring                        purple hair  11762\n",
       "17  Hair Dyes & Coloring                    dark brown hair  11752\n",
       "18  Hair Dyes & Coloring                              shine  11742\n",
       "19  Hair Dyes & Coloring                      brunette hair  11654"
      ]
     },
     "execution_count": 26,
     "metadata": {},
     "output_type": "execute_result"
    }
   ],
   "source": [
    "%%bigquery\n",
    "with distinct_counts as (select distinct predicted_label, sentences, count(1) as count from cpg-cdp.trendspotting.classified_terms_bqml_aml_pl_png_hair_22 group by 1,2)\n",
    "select\n",
    "predicted_label, sentences, count\n",
    "from distinct_counts where predicted_label = 'Hair Dyes & Coloring' order by count desc limit 20"
   ]
  },
  {
   "cell_type": "markdown",
   "id": "f5779f4c-e9c9-452f-b9b0-b518e54e67e8",
   "metadata": {},
   "source": [
    "### Examine the probabilities "
   ]
  },
  {
   "cell_type": "code",
   "execution_count": 27,
   "id": "50bd6525-4461-4352-96eb-367e7268061b",
   "metadata": {},
   "outputs": [
    {
     "name": "stderr",
     "output_type": "stream",
     "text": [
      "Query complete after 0.00s: 100%|██████████| 14/14 [00:00<00:00, 6583.73query/s]                       \n",
      "Downloading: 100%|██████████| 20/20 [00:01<00:00, 16.88rows/s]\n"
     ]
    }
   ],
   "source": [
    "%%bigquery predicted_probs\n",
    "WITH\n",
    "  distinct_counts AS (\n",
    "  SELECT\n",
    "    DISTINCT predicted_label,\n",
    "    sentences,\n",
    "    COUNT(1) AS count\n",
    "  FROM\n",
    "    cpg-cdp.trendspotting.classified_terms_bqml_aml_pl_png_hair_22\n",
    "  GROUP BY\n",
    "    1,\n",
    "    2)\n",
    "SELECT\n",
    "  a.predicted_label,\n",
    "  a.sentences,\n",
    "  count,\n",
    "  b.predicted_label_probs\n",
    "FROM\n",
    "  distinct_counts a\n",
    "INNER JOIN\n",
    "  cpg-cdp.trendspotting.classified_terms_bqml_aml_pl_png_hair_22 b\n",
    "ON\n",
    "  a.sentences = b.sentences\n",
    "WHERE\n",
    "  a.predicted_label = 'Hair Styling'\n",
    "ORDER BY\n",
    "  count DESC\n",
    "LIMIT\n",
    "  20"
   ]
  },
  {
   "cell_type": "code",
   "execution_count": 28,
   "id": "d43abdc1-8d96-45a2-8e49-01c9b1845dbb",
   "metadata": {},
   "outputs": [
    {
     "name": "stdout",
     "output_type": "stream",
     "text": [
      "curtain bangs [{'label': 'Hair Styling', 'prob': 0.9999998807907104}\n",
      " {'label': 'Hair Dyes & Coloring', 'prob': 8.527867995100635e-11}\n",
      " {'label': 'Near me', 'prob': 2.677499021108698e-11}\n",
      " {'label': 'Hair Loss Products', 'prob': 2.2754183953699325e-11}\n",
      " {'label': 'Hair Straighteners and Relaxers', 'prob': 1.1360073472188592e-11}\n",
      " {'label': 'Shampoos & Conditioners', 'prob': 7.19084782453496e-17}\n",
      " {'label': 'Damaged Hair', 'prob': 5.196926222694742e-12}\n",
      " {'label': 'Lice', 'prob': 5.057575791001835e-14}\n",
      " {'label': 'Scalp/Anti-Dandruff Products', 'prob': 1.8769749209751607e-12}]\n",
      "curtain bangs [{'label': 'Hair Styling', 'prob': 0.9999998807907104}\n",
      " {'label': 'Hair Dyes & Coloring', 'prob': 7.213465935684837e-11}\n",
      " {'label': 'Near me', 'prob': 1.9501619069606235e-11}\n",
      " {'label': 'Hair Loss Products', 'prob': 2.5467298409020955e-11}\n",
      " {'label': 'Hair Straighteners and Relaxers', 'prob': 1.535932839247245e-11}\n",
      " {'label': 'Shampoos & Conditioners', 'prob': 6.677604753758468e-17}\n",
      " {'label': 'Damaged Hair', 'prob': 7.96284392590163e-12}\n",
      " {'label': 'Lice', 'prob': 3.6520774197770084e-14}\n",
      " {'label': 'Scalp/Anti-Dandruff Products', 'prob': 2.3254484275703202e-12}]\n",
      "curtain bangs [{'label': 'Hair Styling', 'prob': 0.9999998807907104}\n",
      " {'label': 'Hair Dyes & Coloring', 'prob': 7.309113037035075e-11}\n",
      " {'label': 'Near me', 'prob': 2.0528174646261554e-11}\n",
      " {'label': 'Hair Loss Products', 'prob': 2.4931940192929325e-11}\n",
      " {'label': 'Hair Straighteners and Relaxers', 'prob': 1.4811880888476736e-11}\n",
      " {'label': 'Shampoos & Conditioners', 'prob': 7.115022493887939e-17}\n",
      " {'label': 'Damaged Hair', 'prob': 7.2583367267953225e-12}\n",
      " {'label': 'Lice', 'prob': 3.96696632249012e-14}\n",
      " {'label': 'Scalp/Anti-Dandruff Products', 'prob': 2.331510418757121e-12}]\n",
      "curtain bangs [{'label': 'Hair Styling', 'prob': 0.9999998807907104}\n",
      " {'label': 'Hair Dyes & Coloring', 'prob': 8.089206388062209e-11}\n",
      " {'label': 'Near me', 'prob': 2.8611659916299992e-11}\n",
      " {'label': 'Hair Loss Products', 'prob': 2.3179151306673695e-11}\n",
      " {'label': 'Hair Straighteners and Relaxers', 'prob': 1.8627634157386552e-11}\n",
      " {'label': 'Shampoos & Conditioners', 'prob': 1.3514438466710944e-16}\n",
      " {'label': 'Damaged Hair', 'prob': 1.869011716226776e-11}\n",
      " {'label': 'Lice', 'prob': 9.163574440267455e-14}\n",
      " {'label': 'Scalp/Anti-Dandruff Products', 'prob': 2.0294939773873866e-12}]\n",
      "curtain bangs [{'label': 'Hair Styling', 'prob': 0.9999998807907104}\n",
      " {'label': 'Hair Dyes & Coloring', 'prob': 7.689750225470249e-11}\n",
      " {'label': 'Near me', 'prob': 1.8748256419565124e-11}\n",
      " {'label': 'Hair Loss Products', 'prob': 2.2415874711967376e-11}\n",
      " {'label': 'Hair Straighteners and Relaxers', 'prob': 1.159344668877349e-11}\n",
      " {'label': 'Shampoos & Conditioners', 'prob': 6.343521724471571e-17}\n",
      " {'label': 'Damaged Hair', 'prob': 4.196050625016046e-12}\n",
      " {'label': 'Lice', 'prob': 4.137222316580487e-14}\n",
      " {'label': 'Scalp/Anti-Dandruff Products', 'prob': 2.2296825843981516e-12}]\n"
     ]
    }
   ],
   "source": [
    "for i in range(5):\n",
    "    print(predicted_probs.sentences[i], predicted_probs.predicted_label_probs[i])"
   ]
  },
  {
   "cell_type": "markdown",
   "id": "00d8a5be-56cf-47c9-89d5-adb09bfe6e20",
   "metadata": {},
   "source": [
    "## Create subcategories for each category by using BQML Kmeans\n",
    "\n",
    "Starting with this table `classified_terms_bqml_aml_pl_png_hair_22`"
   ]
  },
  {
   "cell_type": "code",
   "execution_count": 14,
   "id": "a86882ae-d4a6-4b66-86fa-9becadc7f8c9",
   "metadata": {},
   "outputs": [
    {
     "data": {
      "text/plain": [
       "'Scalp/Anti-Dandruff Products'"
      ]
     },
     "execution_count": 14,
     "metadata": {},
     "output_type": "execute_result"
    }
   ],
   "source": [
    "labels.predicted_label[0]"
   ]
  },
  {
   "cell_type": "code",
   "execution_count": 6,
   "id": "2086d055-5ae3-4162-bda8-e1c7549e5bc6",
   "metadata": {},
   "outputs": [],
   "source": [
    "## Automate label pivots - this gets the probabilaties for each class\n",
    "\n",
    "\n",
    "prob_pivot_sql = \"\"\n",
    "for i, l in enumerate(labels.predicted_label):\n",
    "    prob_pivot_sql += (f\"(select max(probs.prob) from UNNEST(t.predicted_label_probs) probs where probs.label = '{l}') as _{i}_prob, \")"
   ]
  },
  {
   "cell_type": "code",
   "execution_count": 7,
   "id": "eb7d7887-2c19-489b-9a04-6be51586fa00",
   "metadata": {},
   "outputs": [],
   "source": [
    "label = labels.predicted_label[2]\n",
    "\n",
    "table_sql_for_clustering = f\"\"\"\n",
    "SELECT * except(predicted_label_probs),\n",
    "{prob_pivot_sql}\n",
    "FROM `cpg-cdp.trendspotting.classified_terms_bqml_aml_pl_png_hair_22` t \n",
    "\"\"\""
   ]
  },
  {
   "cell_type": "code",
   "execution_count": 65,
   "id": "2ca183ae-cf19-4bc0-965f-1a5d25893a9f",
   "metadata": {},
   "outputs": [
    {
     "name": "stdout",
     "output_type": "stream",
     "text": [
      "CPU times: user 62.1 ms, sys: 15.1 ms, total: 77.2 ms\n",
      "Wall time: 4min 47s\n"
     ]
    },
    {
     "data": {
      "text/plain": [
       "<google.cloud.bigquery.table._EmptyRowIterator at 0x7f1485f93b90>"
      ]
     },
     "execution_count": 65,
     "metadata": {},
     "output_type": "execute_result"
    }
   ],
   "source": [
    "%%time\n",
    "kmeans_table_sql = f\"\"\"\n",
    "create or replace table trendspotting.cat_clus_train_png_hair_22 as (\n",
    "select distinct * EXCEPT(date, geo_id, series_id, terms, category_rank, split_col) from (\n",
    "    {table_sql_for_clustering})\n",
    "    )\n",
    "    \"\"\"\n",
    "bq_client.query(kmeans_table_sql).result()"
   ]
  },
  {
   "cell_type": "code",
   "execution_count": 26,
   "id": "8550c80a-abfb-4afa-8662-78530091005f",
   "metadata": {},
   "outputs": [],
   "source": [
    "## use this function to get the name of the topic in the clustering\n",
    "def only_upper(s: str):\n",
    "    upper_chars = \"\"\n",
    "    for char in s:\n",
    "        if char.isupper():\n",
    "            upper_chars += char\n",
    "    return upper_chars\n",
    "\n",
    "label_upper = only_upper(label)"
   ]
  },
  {
   "cell_type": "code",
   "execution_count": 27,
   "id": "ad779190-863f-4087-8a9a-14acabc79f89",
   "metadata": {},
   "outputs": [],
   "source": [
    "## we use this to find where the DB index flattens for n_clusters and use that for optimal number of clusters per topic\n",
    "\n",
    "def loop_n_clus_and_get_db_index(cluster_min: int, cluster_max: int, label: str):\n",
    "    \n",
    "    label_upper = only_upper(label) #get only the upper case letters to denote the model name\n",
    "    return_data = {label: []}\n",
    "    for n_clusters in range(cluster_min, cluster_max+1):\n",
    "        print(f\"Training for {n_clusters} clusters\")\n",
    "        # return_data[label].append({'model_name': f'trendspotting.cat_clus_{label_upper}_{n_clusters}_png_hair_22'})\n",
    "        kmeans_sql = f\"\"\"\n",
    "        CREATE OR REPLACE MODEL trendspotting.cat_clus_{label_upper}_{n_clusters}_png_hair_22\n",
    "        OPTIONS(model_type='kmeans', num_clusters={n_clusters}, standardize_features = true) AS\n",
    "        select * EXCEPT(predicted_label, sentences) from trendspotting.cat_clus_train_png_hair_22 \n",
    "        WHERE predicted_label = '{label}'\n",
    "        \"\"\"\n",
    "        bq_client.query(kmeans_sql).result()\n",
    "        #next, get the DB index to assess the cluster quality\n",
    "        sql = f\"\"\"\n",
    "        SELECT\n",
    "          *\n",
    "        FROM\n",
    "          ML.EVALUATE (MODEL trendspotting.cat_clus_{label_upper}_{n_clusters}_png_hair_22)\n",
    "          \"\"\"\n",
    "        data = bq_client.query(sql).to_dataframe()\n",
    "        print(f\"DB Index: {data.davies_bouldin_index[0]}\")\n",
    "        return_data[label].append({f'trendspotting.cat_clus_{label_upper}_{n_clusters}_png_hair_22': data.davies_bouldin_index[0]})\n",
    "\n",
    "        time.sleep(60)\n",
    "        \n",
    "    return(return_data)"
   ]
  },
  {
   "cell_type": "markdown",
   "id": "268c1d0e-1b96-4a2b-856d-36bc45edcf4c",
   "metadata": {},
   "source": [
    "## Now run training over the loop, running 2 - 6 clusters for now"
   ]
  },
  {
   "cell_type": "code",
   "execution_count": 30,
   "id": "a2b681d6-e66e-4375-b87e-241cb1f97ea5",
   "metadata": {},
   "outputs": [
    {
     "name": "stdout",
     "output_type": "stream",
     "text": [
      "Tranining for label: Hair Styling\n",
      "Training for 2 clusters\n",
      "DB Index: 2.124119878143335\n",
      "Training for 3 clusters\n",
      "DB Index: 2.3297553266286775\n",
      "Training for 4 clusters\n",
      "DB Index: 2.865782206944078\n",
      "DB Index: 2.909173877918439\n",
      "Training for 6 clusters\n",
      "DB Index: 2.6913540299824374\n",
      "Training for 7 clusters\n",
      "DB Index: 2.327255416956101\n",
      "Tranining for label: Hair Loss Products\n",
      "Training for 2 clusters\n",
      "DB Index: 2.637728865488648\n",
      "Training for 3 clusters\n",
      "DB Index: 2.4534756070568915\n",
      "Training for 4 clusters\n",
      "DB Index: 2.07617030936161\n",
      "Training for 5 clusters\n",
      "DB Index: 2.197158026177069\n",
      "Training for 8 clusters\n",
      "DB Index: 2.0845950835689337\n",
      "Tranining for label: Hair Dyes & Coloring\n",
      "Training for 2 clusters\n",
      "DB Index: 2.0866472890556613\n",
      "Training for 3 clusters\n",
      "DB Index: 2.453276466242098\n",
      "Training for 4 clusters\n",
      "DB Index: 2.3421955500516933\n",
      "Training for 5 clusters\n",
      "DB Index: 2.60369969210033\n",
      "Training for 6 clusters\n",
      "DB Index: 2.49942166782619\n",
      "Training for 7 clusters\n",
      "DB Index: 2.501593755963775\n",
      "Training for 8 clusters\n",
      "Tranining for label: Damaged Hair\n",
      "Training for 2 clusters\n",
      "DB Index: 2.5389239262785255\n",
      "Training for 3 clusters\n",
      "DB Index: 2.3161960003560704\n",
      "Training for 4 clusters\n",
      "DB Index: 2.459558597208406\n",
      "Training for 5 clusters\n",
      "DB Index: 2.4499096513530683\n",
      "Training for 6 clusters\n",
      "DB Index: 2.443995259214475\n",
      "Training for 7 clusters\n",
      "DB Index: 2.5014962818000805\n",
      "Training for 8 clusters\n",
      "DB Index: 2.2707506660056325\n",
      "Tranining for label: Lice\n",
      "Training for 2 clusters\n",
      "DB Index: 2.0003208382382347\n",
      "Training for 3 clusters\n",
      "DB Index: 2.2492624314045173\n",
      "Training for 4 clusters\n",
      "DB Index: 2.46734511114448\n",
      "Training for 5 clusters\n",
      "DB Index: 2.3823782605636703\n",
      "Training for 6 clusters\n",
      "DB Index: 2.323949832610027\n",
      "Training for 7 clusters\n",
      "DB Index: 2.2204051567015246\n",
      "Training for 8 clusters\n",
      "DB Index: 2.2797643681191793\n",
      "Tranining for label: Shampoos & Conditioners\n",
      "Training for 2 clusters\n",
      "DB Index: 2.349515520147496\n",
      "Training for 3 clusters\n",
      "DB Index: 2.6389384075465863\n",
      "Training for 4 clusters\n",
      "DB Index: 2.5560902539970023\n",
      "Training for 5 clusters\n",
      "DB Index: 2.3872318319929327\n",
      "Training for 6 clusters\n",
      "DB Index: 2.304992376627534\n",
      "Training for 7 clusters\n",
      "DB Index: 2.321161240682287\n",
      "Training for 8 clusters\n",
      "DB Index: 2.5193441770786067\n",
      "Tranining for label: Hair Straighteners and Relaxers\n",
      "Training for 2 clusters\n",
      "DB Index: 2.512037010281384\n",
      "Training for 3 clusters\n",
      "DB Index: 2.567465775844538\n",
      "Training for 4 clusters\n",
      "DB Index: 2.45788053955165\n",
      "Training for 5 clusters\n",
      "DB Index: 2.6483956742124963\n",
      "Training for 6 clusters\n",
      "DB Index: 2.16498871598112\n",
      "Training for 7 clusters\n",
      "DB Index: 2.2544741399212542\n",
      "Training for 8 clusters\n",
      "DB Index: 2.3668967259959515\n",
      "Tranining for label: Scalp/Anti-Dandruff Products\n",
      "Training for 2 clusters\n",
      "DB Index: 1.9365539105948577\n",
      "Training for 3 clusters\n",
      "DB Index: 1.8147975286186633\n",
      "Training for 4 clusters\n",
      "DB Index: 2.2468872051213067\n",
      "Training for 5 clusters\n",
      "DB Index: 2.234329913391961\n",
      "Training for 6 clusters\n",
      "DB Index: 2.119589611408028\n",
      "Training for 7 clusters\n",
      "DB Index: 2.130557012425833\n",
      "Training for 8 clusters\n",
      "DB Index: 2.1739447994595884\n",
      "Tranining for label: Near me\n",
      "Training for 2 clusters\n",
      "DB Index: 2.475258707517657\n",
      "Training for 3 clusters\n",
      "DB Index: 2.423723253883859\n",
      "Training for 4 clusters\n",
      "DB Index: 2.77154715193308\n",
      "Training for 5 clusters\n",
      "DB Index: 2.4226845573003475\n",
      "Training for 6 clusters\n",
      "DB Index: 3.007052817154595\n",
      "Training for 7 clusters\n",
      "DB Index: 2.5479543085156666\n",
      "Training for 8 clusters\n",
      "DB Index: 2.4968246742547273\n",
      "CPU times: user 5.5 s, sys: 714 ms, total: 6.22 s\n",
      "Wall time: 5h 27min 21s\n"
     ]
    }
   ],
   "source": [
    "%%time\n",
    "\n",
    "MIN_CLUS, MAX_CLUS = 2, 8\n",
    "\n",
    "data_dict = {}\n",
    "for label in labels.predicted_label:\n",
    "    print(f\"Tranining for label: {label}\")\n",
    "    cluster_data = loop_n_clus_and_get_db_index(MIN_CLUS, MAX_CLUS, label)\n",
    "    data_dict.update(cluster_data) #update with the results\n",
    "    time.sleep(60)\n",
    "    "
   ]
  },
  {
   "cell_type": "code",
   "execution_count": 36,
   "id": "0f0af927-c2b2-4c0c-97a1-da6782c4ceee",
   "metadata": {},
   "outputs": [
    {
     "name": "stdout",
     "output_type": "stream",
     "text": [
      "trendspotting.cat_clus_HS_2_png_hair_22\n",
      "trendspotting.cat_clus_HLP_4_png_hair_22\n",
      "trendspotting.cat_clus_HDC_2_png_hair_22\n",
      "trendspotting.cat_clus_DH_8_png_hair_22\n",
      "trendspotting.cat_clus_L_2_png_hair_22\n",
      "trendspotting.cat_clus_SC_6_png_hair_22\n",
      "trendspotting.cat_clus_HSR_6_png_hair_22\n",
      "trendspotting.cat_clus_SADP_3_png_hair_22\n",
      "trendspotting.cat_clus_N_5_png_hair_22\n"
     ]
    },
    {
     "data": {
      "text/plain": [
       "{'Hair Styling': 'trendspotting.cat_clus_HS_2_png_hair_22',\n",
       " 'Hair Loss Products': 'trendspotting.cat_clus_HLP_4_png_hair_22',\n",
       " 'Hair Dyes & Coloring': 'trendspotting.cat_clus_HDC_2_png_hair_22',\n",
       " 'Damaged Hair': 'trendspotting.cat_clus_DH_8_png_hair_22',\n",
       " 'Lice': 'trendspotting.cat_clus_L_2_png_hair_22',\n",
       " 'Shampoos & Conditioners': 'trendspotting.cat_clus_SC_6_png_hair_22',\n",
       " 'Hair Straighteners and Relaxers': 'trendspotting.cat_clus_HSR_6_png_hair_22',\n",
       " 'Scalp/Anti-Dandruff Products': 'trendspotting.cat_clus_SADP_3_png_hair_22',\n",
       " 'Near me': 'trendspotting.cat_clus_N_5_png_hair_22'}"
      ]
     },
     "execution_count": 36,
     "metadata": {},
     "output_type": "execute_result"
    }
   ],
   "source": [
    "# find the min DB score cluster for each topic, delete the other models and then score based on topic id\n",
    "\n",
    "optimal_models_by_label = {}\n",
    "for label in labels.predicted_label:\n",
    "    prior_db=999 # set this high\n",
    "    for c in data_dict[label]:\n",
    "        if list(c.values())[0] < prior_db:\n",
    "            prior_db = list(c.values())[0]\n",
    "            optimal_model = list(c.keys())[0]         \n",
    "    print(optimal_model)\n",
    "    optimal_models_by_label.update({label: optimal_model})\n",
    "optimal_models_by_label"
   ]
  },
  {
   "cell_type": "code",
   "execution_count": 37,
   "id": "14bc1d8f-d0af-461b-95b0-8a577db49526",
   "metadata": {},
   "outputs": [],
   "source": [
    "#delete the sub-optimal models\n",
    "def delete_model_sql(model_name):\n",
    "    return f\"DROP MODEL IF EXISTS {model_name}\"\n",
    "\n",
    "for label in labels.predicted_label:\n",
    "    optimal_model_for_label = optimal_models_by_label[label]\n",
    "    for c in data_dict[label]:\n",
    "        if list(c.keys())[0] != optimal_model_for_label:\n",
    "            sub_optimal_model = list(c.keys())[0]\n",
    "            bq_client.query(delete_model_sql(sub_optimal_model)).result() #clean up the models"
   ]
  },
  {
   "cell_type": "code",
   "execution_count": 38,
   "id": "18ad2e6f-9be8-4605-bebd-f2d4b1851149",
   "metadata": {},
   "outputs": [
    {
     "data": {
      "text/plain": [
       "{'Hair Styling': 'trendspotting.cat_clus_HS_2_png_hair_22',\n",
       " 'Hair Loss Products': 'trendspotting.cat_clus_HLP_4_png_hair_22',\n",
       " 'Hair Dyes & Coloring': 'trendspotting.cat_clus_HDC_2_png_hair_22',\n",
       " 'Damaged Hair': 'trendspotting.cat_clus_DH_8_png_hair_22',\n",
       " 'Lice': 'trendspotting.cat_clus_L_2_png_hair_22',\n",
       " 'Shampoos & Conditioners': 'trendspotting.cat_clus_SC_6_png_hair_22',\n",
       " 'Hair Straighteners and Relaxers': 'trendspotting.cat_clus_HSR_6_png_hair_22',\n",
       " 'Scalp/Anti-Dandruff Products': 'trendspotting.cat_clus_SADP_3_png_hair_22',\n",
       " 'Near me': 'trendspotting.cat_clus_N_5_png_hair_22'}"
      ]
     },
     "execution_count": 38,
     "metadata": {},
     "output_type": "execute_result"
    }
   ],
   "source": [
    "optimal_models_by_label"
   ]
  },
  {
   "cell_type": "code",
   "execution_count": 63,
   "id": "7e24f7e2-afdb-4cdb-947a-975ea9e41c2c",
   "metadata": {},
   "outputs": [],
   "source": [
    "# save optimal model dictionary to gcs\n",
    "from google.cloud import storage\n",
    "\n",
    "import pickle\n",
    "\n",
    "with open('./optimal_models.dict', 'wb') as file:\n",
    "    pickle.dump(optimal_models_by_label, file)\n",
    "\n",
    "bucket_name = 'trendspotting-pipeline'\n",
    "    \n",
    "storage_client = storage.Client(project=PROJECT_ID)\n",
    "bucket = storage_client.bucket(bucket_name)\n",
    "blob = bucket.blob('optimal_models.dict')\n",
    "\n",
    "blob.upload_from_filename('optimal_models.dict')"
   ]
  },
  {
   "cell_type": "code",
   "execution_count": 45,
   "id": "80cde8f3-3d67-4a99-8ab3-4f985b855649",
   "metadata": {},
   "outputs": [
    {
     "data": {
      "text/plain": [
       "<google.cloud.bigquery.table._EmptyRowIterator at 0x7f0bf470d3d0>"
      ]
     },
     "execution_count": 45,
     "metadata": {},
     "output_type": "execute_result"
    }
   ],
   "source": [
    "#last, score using a union query for each label\n",
    "\n",
    "def score_cluster(label, model_name):\n",
    "    predict_sql = f\"\"\"\n",
    "            SELECT\n",
    "              *\n",
    "            FROM\n",
    "              ML.PREDICT (MODEL {model_name},\n",
    "              (SELECT * EXCEPT(predicted_label, sentences), \n",
    "              sentences as terms, \n",
    "              predicted_label as category \n",
    "              from trendspotting.cat_clus_train_png_hair_22 \n",
    "              where predicted_label = '{label}'))\n",
    "              \"\"\"\n",
    "    return(predict_sql)\n",
    "\n",
    "predict_sql = \"\"\n",
    "for i, label in enumerate(labels.predicted_label):\n",
    "    predict_sql += score_cluster(label, optimal_models_by_label[label])\n",
    "    if len(labels.predicted_label)-1 == i:\n",
    "        break\n",
    "    else:\n",
    "        predict_sql += \"\"\"\n",
    "        UNION ALL\n",
    "        \"\"\"\n",
    "    \n",
    "def score_table(predict_sql, target_table=\"trendspotting.full_cat_clus_png_hair_22\"):\n",
    "    return(f\"CREATE OR REPLACE TABLE {target_table} AS ({predict_sql})\")\n",
    "\n",
    "segment_score_sql = score_table(predict_sql)\n",
    "\n",
    "bq_client.query(segment_score_sql).result()"
   ]
  },
  {
   "cell_type": "code",
   "execution_count": 47,
   "id": "5f75fdb5-f8e2-4fa8-a912-1d1ca545641e",
   "metadata": {},
   "outputs": [],
   "source": [
    "### Pipeline version - to be ported to main section"
   ]
  },
  {
   "cell_type": "code",
   "execution_count": 20,
   "id": "702d536a-c2ab-43f3-8f52-c504fe8b6c14",
   "metadata": {},
   "outputs": [],
   "source": [
    "# run pipeline version \n",
    "\n",
    "from datetime import datetime\n",
    "import json\n",
    "import os\n",
    "import time\n",
    "from typing import Any, Callable, Dict, NamedTuple, Optional\n",
    "from IPython.display import clear_output\n",
    "\n",
    "import google.cloud.aiplatform as aiplatform\n",
    "from google.cloud import bigquery\n",
    "from google.cloud import storage\n",
    "\n",
    "import kfp\n",
    "import kfp.v2.dsl\n",
    "from kfp.v2.google import client as pipelines_client\n",
    "\n",
    "from matplotlib import dates as mdates\n",
    "from matplotlib import pyplot as plt\n",
    "\n",
    "import pandas as pd\n",
    "import seaborn as sns\n",
    "\n",
    "from IPython.display import Image\n",
    "from IPython.core.display import HTML \n",
    "\n",
    "from typing import Dict, List, Optional, Sequence, Tuple, Union\n",
    "from kfp.v2.dsl import Artifact\n",
    "from kfp.v2.dsl import Input, Model\n",
    "from kfp.v2.components.types.type_utils import artifact_types\n",
    "from src.components import components\n"
   ]
  },
  {
   "cell_type": "code",
   "execution_count": 19,
   "id": "3f497602-3b21-4193-9b27-447b4c24c58a",
   "metadata": {},
   "outputs": [],
   "source": [
    "del components"
   ]
  },
  {
   "cell_type": "code",
   "execution_count": 21,
   "id": "4cbd8998-66d4-4828-a881-f44607d3e409",
   "metadata": {},
   "outputs": [],
   "source": [
    "PIPELINES = {}\n",
    "\n",
    "PIPELINES_FILEPATH = 'gs://trendspotting-pipeline' # <--- TODO: CHANGE THIS; can be blank json file\n",
    "\n",
    "if os.path.isfile(PIPELINES_FILEPATH):\n",
    "    with open(PIPELINES_FILEPATH) as f:\n",
    "        PIPELINES = json.load(f)\n",
    "else:\n",
    "    PIPELINES = {}\n",
    "\n",
    "def save_pipelines():\n",
    "    with open(PIPELINES_FILEPATH, 'w') as f:\n",
    "        json.dump(PIPELINES, f)\n",
    "        \n",
    "VERSION = 'v1'\n",
    "SUFFIX = \"png_hair_22\"\n",
    "PIPELINE_TAG = f'{SUFFIX}-autocluster-pipeline-{VERSION}' # <--- TODO; optionally name pipeline\n",
    "@kfp.v2.dsl.pipeline(\n",
    "  name=f'{VERSION}-{PIPELINE_TAG}'.replace('_', '-'),\n",
    "        pipeline_root=PIPELINES_FILEPATH,\n",
    "\n",
    ")\n",
    "def pipeline(project_id: str,\n",
    "            labels: list):\n",
    "    auto_cluster = components.auto_cluster(2, 8, labels)"
   ]
  },
  {
   "cell_type": "code",
   "execution_count": 22,
   "id": "ab7d7716-12e5-4c94-834c-75111eb1639b",
   "metadata": {},
   "outputs": [],
   "source": [
    "kfp.v2.compiler.Compiler().compile(\n",
    "  pipeline_func=pipeline, \n",
    "  package_path='auto-cluster.json',\n",
    ")"
   ]
  },
  {
   "cell_type": "code",
   "execution_count": 23,
   "id": "591e6fff-ff9a-4e23-862d-4e52b5fbbd96",
   "metadata": {},
   "outputs": [
    {
     "name": "stdout",
     "output_type": "stream",
     "text": [
      "INFO:google.cloud.aiplatform.pipeline_jobs:Creating PipelineJob\n",
      "INFO:google.cloud.aiplatform.pipeline_jobs:PipelineJob created. Resource name: projects/939655404703/locations/us-central1/pipelineJobs/v1-png-hair-22-autocluster-pipeline-v1-20220902214314\n",
      "INFO:google.cloud.aiplatform.pipeline_jobs:To use this PipelineJob in another session:\n",
      "INFO:google.cloud.aiplatform.pipeline_jobs:pipeline_job = aiplatform.PipelineJob.get('projects/939655404703/locations/us-central1/pipelineJobs/v1-png-hair-22-autocluster-pipeline-v1-20220902214314')\n",
      "INFO:google.cloud.aiplatform.pipeline_jobs:View Pipeline Job:\n",
      "https://console.cloud.google.com/vertex-ai/locations/us-central1/pipelines/runs/v1-png-hair-22-autocluster-pipeline-v1-20220902214314?project=939655404703\n"
     ]
    }
   ],
   "source": [
    "PIPELINE_PARAMETERS = { 'project_id': PROJECT_ID,\n",
    "                       'labels': list(labels.predicted_label)\n",
    "}\n",
    "\n",
    "job = aiplatform.PipelineJob(display_name = f'trendspotting_auto_cluster',\n",
    "                             template_path = 'auto-cluster.json',\n",
    "                             pipeline_root = PIPELINES_FILEPATH,\n",
    "                             parameter_values = PIPELINE_PARAMETERS,\n",
    "                             project = PROJECT_ID,\n",
    "                             location = REGION,\n",
    "                              enable_caching=True)\n",
    "\n",
    "job.submit()"
   ]
  },
  {
   "cell_type": "markdown",
   "id": "d8a9b228-f48f-45d2-9ee0-abf64c5239dc",
   "metadata": {},
   "source": [
    "# Final section - create forecasts for the categories"
   ]
  },
  {
   "cell_type": "code",
   "execution_count": 90,
   "id": "03821d4a-c770-4150-98a7-5a118559e2ab",
   "metadata": {},
   "outputs": [
    {
     "ename": "KeyboardInterrupt",
     "evalue": "",
     "output_type": "error",
     "traceback": [
      "\u001b[0;31m---------------------------------------------------------------------------\u001b[0m",
      "\u001b[0;31mKeyboardInterrupt\u001b[0m                         Traceback (most recent call last)",
      "\u001b[0;32m/tmp/ipykernel_25198/4256810488.py\u001b[0m in \u001b[0;36m<module>\u001b[0;34m\u001b[0m\n\u001b[1;32m      1\u001b[0m \u001b[0;32mfrom\u001b[0m \u001b[0mtyping\u001b[0m \u001b[0;32mimport\u001b[0m \u001b[0mList\u001b[0m\u001b[0;34m,\u001b[0m \u001b[0mUnion\u001b[0m\u001b[0;34m\u001b[0m\u001b[0;34m\u001b[0m\u001b[0m\n\u001b[1;32m      2\u001b[0m \u001b[0;34m\u001b[0m\u001b[0m\n\u001b[0;32m----> 3\u001b[0;31m \u001b[0;32mfrom\u001b[0m \u001b[0mgoogle\u001b[0m\u001b[0;34m.\u001b[0m\u001b[0mcloud\u001b[0m \u001b[0;32mimport\u001b[0m \u001b[0maiplatform\u001b[0m\u001b[0;34m\u001b[0m\u001b[0;34m\u001b[0m\u001b[0m\n\u001b[0m\u001b[1;32m      4\u001b[0m \u001b[0;34m\u001b[0m\u001b[0m\n\u001b[1;32m      5\u001b[0m \u001b[0;34m\u001b[0m\u001b[0m\n",
      "\u001b[0;32m/opt/conda/lib/python3.7/site-packages/google/cloud/aiplatform/__init__.py\u001b[0m in \u001b[0;36m<module>\u001b[0;34m\u001b[0m\n\u001b[1;32m     22\u001b[0m \u001b[0;34m\u001b[0m\u001b[0m\n\u001b[1;32m     23\u001b[0m \u001b[0;34m\u001b[0m\u001b[0m\n\u001b[0;32m---> 24\u001b[0;31m \u001b[0;32mfrom\u001b[0m \u001b[0mgoogle\u001b[0m\u001b[0;34m.\u001b[0m\u001b[0mcloud\u001b[0m\u001b[0;34m.\u001b[0m\u001b[0maiplatform\u001b[0m \u001b[0;32mimport\u001b[0m \u001b[0minitializer\u001b[0m\u001b[0;34m\u001b[0m\u001b[0;34m\u001b[0m\u001b[0m\n\u001b[0m\u001b[1;32m     25\u001b[0m \u001b[0;34m\u001b[0m\u001b[0m\n\u001b[1;32m     26\u001b[0m from google.cloud.aiplatform.datasets import (\n",
      "\u001b[0;32m/opt/conda/lib/python3.7/site-packages/google/cloud/aiplatform/initializer.py\u001b[0m in \u001b[0;36m<module>\u001b[0;34m\u001b[0m\n\u001b[1;32m     29\u001b[0m \u001b[0;32mfrom\u001b[0m \u001b[0mgoogle\u001b[0m\u001b[0;34m.\u001b[0m\u001b[0mauth\u001b[0m\u001b[0;34m.\u001b[0m\u001b[0mexceptions\u001b[0m \u001b[0;32mimport\u001b[0m \u001b[0mGoogleAuthError\u001b[0m\u001b[0;34m\u001b[0m\u001b[0;34m\u001b[0m\u001b[0m\n\u001b[1;32m     30\u001b[0m \u001b[0;34m\u001b[0m\u001b[0m\n\u001b[0;32m---> 31\u001b[0;31m \u001b[0;32mfrom\u001b[0m \u001b[0mgoogle\u001b[0m\u001b[0;34m.\u001b[0m\u001b[0mcloud\u001b[0m\u001b[0;34m.\u001b[0m\u001b[0maiplatform\u001b[0m \u001b[0;32mimport\u001b[0m \u001b[0mcompat\u001b[0m\u001b[0;34m\u001b[0m\u001b[0;34m\u001b[0m\u001b[0m\n\u001b[0m\u001b[1;32m     32\u001b[0m \u001b[0;32mfrom\u001b[0m \u001b[0mgoogle\u001b[0m\u001b[0;34m.\u001b[0m\u001b[0mcloud\u001b[0m\u001b[0;34m.\u001b[0m\u001b[0maiplatform\u001b[0m\u001b[0;34m.\u001b[0m\u001b[0mconstants\u001b[0m \u001b[0;32mimport\u001b[0m \u001b[0mbase\u001b[0m \u001b[0;32mas\u001b[0m \u001b[0mconstants\u001b[0m\u001b[0;34m\u001b[0m\u001b[0;34m\u001b[0m\u001b[0m\n\u001b[1;32m     33\u001b[0m \u001b[0;32mfrom\u001b[0m \u001b[0mgoogle\u001b[0m\u001b[0;34m.\u001b[0m\u001b[0mcloud\u001b[0m\u001b[0;34m.\u001b[0m\u001b[0maiplatform\u001b[0m \u001b[0;32mimport\u001b[0m \u001b[0mutils\u001b[0m\u001b[0;34m\u001b[0m\u001b[0;34m\u001b[0m\u001b[0m\n",
      "\u001b[0;32m/opt/conda/lib/python3.7/site-packages/google/cloud/aiplatform/compat/__init__.py\u001b[0m in \u001b[0;36m<module>\u001b[0;34m\u001b[0m\n\u001b[1;32m     16\u001b[0m \u001b[0;31m#\u001b[0m\u001b[0;34m\u001b[0m\u001b[0;34m\u001b[0m\u001b[0;34m\u001b[0m\u001b[0m\n\u001b[1;32m     17\u001b[0m \u001b[0;34m\u001b[0m\u001b[0m\n\u001b[0;32m---> 18\u001b[0;31m \u001b[0;32mfrom\u001b[0m \u001b[0mgoogle\u001b[0m\u001b[0;34m.\u001b[0m\u001b[0mcloud\u001b[0m\u001b[0;34m.\u001b[0m\u001b[0maiplatform\u001b[0m\u001b[0;34m.\u001b[0m\u001b[0mcompat\u001b[0m \u001b[0;32mimport\u001b[0m \u001b[0mservices\u001b[0m\u001b[0;34m\u001b[0m\u001b[0;34m\u001b[0m\u001b[0m\n\u001b[0m\u001b[1;32m     19\u001b[0m \u001b[0;32mfrom\u001b[0m \u001b[0mgoogle\u001b[0m\u001b[0;34m.\u001b[0m\u001b[0mcloud\u001b[0m\u001b[0;34m.\u001b[0m\u001b[0maiplatform\u001b[0m\u001b[0;34m.\u001b[0m\u001b[0mcompat\u001b[0m \u001b[0;32mimport\u001b[0m \u001b[0mtypes\u001b[0m\u001b[0;34m\u001b[0m\u001b[0;34m\u001b[0m\u001b[0m\n\u001b[1;32m     20\u001b[0m \u001b[0;34m\u001b[0m\u001b[0m\n",
      "\u001b[0;32m/opt/conda/lib/python3.7/site-packages/google/cloud/aiplatform/compat/services/__init__.py\u001b[0m in \u001b[0;36m<module>\u001b[0;34m\u001b[0m\n\u001b[1;32m     16\u001b[0m \u001b[0;31m#\u001b[0m\u001b[0;34m\u001b[0m\u001b[0;34m\u001b[0m\u001b[0;34m\u001b[0m\u001b[0m\n\u001b[1;32m     17\u001b[0m \u001b[0;34m\u001b[0m\u001b[0m\n\u001b[0;32m---> 18\u001b[0;31m from google.cloud.aiplatform_v1beta1.services.dataset_service import (\n\u001b[0m\u001b[1;32m     19\u001b[0m     \u001b[0mclient\u001b[0m \u001b[0;32mas\u001b[0m \u001b[0mdataset_service_client_v1beta1\u001b[0m\u001b[0;34m,\u001b[0m\u001b[0;34m\u001b[0m\u001b[0;34m\u001b[0m\u001b[0m\n\u001b[1;32m     20\u001b[0m )\n",
      "\u001b[0;32m/opt/conda/lib/python3.7/site-packages/google/cloud/aiplatform_v1beta1/__init__.py\u001b[0m in \u001b[0;36m<module>\u001b[0;34m\u001b[0m\n\u001b[1;32m     29\u001b[0m \u001b[0;32mfrom\u001b[0m \u001b[0;34m.\u001b[0m\u001b[0mservices\u001b[0m\u001b[0;34m.\u001b[0m\u001b[0mindex_endpoint_service\u001b[0m \u001b[0;32mimport\u001b[0m \u001b[0mIndexEndpointServiceClient\u001b[0m\u001b[0;34m\u001b[0m\u001b[0;34m\u001b[0m\u001b[0m\n\u001b[1;32m     30\u001b[0m \u001b[0;32mfrom\u001b[0m \u001b[0;34m.\u001b[0m\u001b[0mservices\u001b[0m\u001b[0;34m.\u001b[0m\u001b[0mindex_endpoint_service\u001b[0m \u001b[0;32mimport\u001b[0m \u001b[0mIndexEndpointServiceAsyncClient\u001b[0m\u001b[0;34m\u001b[0m\u001b[0;34m\u001b[0m\u001b[0m\n\u001b[0;32m---> 31\u001b[0;31m \u001b[0;32mfrom\u001b[0m \u001b[0;34m.\u001b[0m\u001b[0mservices\u001b[0m\u001b[0;34m.\u001b[0m\u001b[0mindex_service\u001b[0m \u001b[0;32mimport\u001b[0m \u001b[0mIndexServiceClient\u001b[0m\u001b[0;34m\u001b[0m\u001b[0;34m\u001b[0m\u001b[0m\n\u001b[0m\u001b[1;32m     32\u001b[0m \u001b[0;32mfrom\u001b[0m \u001b[0;34m.\u001b[0m\u001b[0mservices\u001b[0m\u001b[0;34m.\u001b[0m\u001b[0mindex_service\u001b[0m \u001b[0;32mimport\u001b[0m \u001b[0mIndexServiceAsyncClient\u001b[0m\u001b[0;34m\u001b[0m\u001b[0;34m\u001b[0m\u001b[0m\n\u001b[1;32m     33\u001b[0m \u001b[0;32mfrom\u001b[0m \u001b[0;34m.\u001b[0m\u001b[0mservices\u001b[0m\u001b[0;34m.\u001b[0m\u001b[0mjob_service\u001b[0m \u001b[0;32mimport\u001b[0m \u001b[0mJobServiceClient\u001b[0m\u001b[0;34m\u001b[0m\u001b[0;34m\u001b[0m\u001b[0m\n",
      "\u001b[0;32m/opt/conda/lib/python3.7/site-packages/google/cloud/aiplatform_v1beta1/services/index_service/__init__.py\u001b[0m in \u001b[0;36m<module>\u001b[0;34m\u001b[0m\n\u001b[1;32m     14\u001b[0m \u001b[0;31m# limitations under the License.\u001b[0m\u001b[0;34m\u001b[0m\u001b[0;34m\u001b[0m\u001b[0;34m\u001b[0m\u001b[0m\n\u001b[1;32m     15\u001b[0m \u001b[0;31m#\u001b[0m\u001b[0;34m\u001b[0m\u001b[0;34m\u001b[0m\u001b[0;34m\u001b[0m\u001b[0m\n\u001b[0;32m---> 16\u001b[0;31m \u001b[0;32mfrom\u001b[0m \u001b[0;34m.\u001b[0m\u001b[0mclient\u001b[0m \u001b[0;32mimport\u001b[0m \u001b[0mIndexServiceClient\u001b[0m\u001b[0;34m\u001b[0m\u001b[0;34m\u001b[0m\u001b[0m\n\u001b[0m\u001b[1;32m     17\u001b[0m \u001b[0;32mfrom\u001b[0m \u001b[0;34m.\u001b[0m\u001b[0masync_client\u001b[0m \u001b[0;32mimport\u001b[0m \u001b[0mIndexServiceAsyncClient\u001b[0m\u001b[0;34m\u001b[0m\u001b[0;34m\u001b[0m\u001b[0m\n\u001b[1;32m     18\u001b[0m \u001b[0;34m\u001b[0m\u001b[0m\n",
      "\u001b[0;32m/opt/conda/lib/python3.7/site-packages/google/cloud/aiplatform_v1beta1/services/index_service/client.py\u001b[0m in \u001b[0;36m<module>\u001b[0;34m\u001b[0m\n\u001b[1;32m     83\u001b[0m \u001b[0;34m\u001b[0m\u001b[0m\n\u001b[1;32m     84\u001b[0m \u001b[0;34m\u001b[0m\u001b[0m\n\u001b[0;32m---> 85\u001b[0;31m \u001b[0;32mclass\u001b[0m \u001b[0mIndexServiceClient\u001b[0m\u001b[0;34m(\u001b[0m\u001b[0mmetaclass\u001b[0m\u001b[0;34m=\u001b[0m\u001b[0mIndexServiceClientMeta\u001b[0m\u001b[0;34m)\u001b[0m\u001b[0;34m:\u001b[0m\u001b[0;34m\u001b[0m\u001b[0;34m\u001b[0m\u001b[0m\n\u001b[0m\u001b[1;32m     86\u001b[0m     \"\"\"A service for creating and managing Vertex AI's Index\n\u001b[1;32m     87\u001b[0m     \u001b[0mresources\u001b[0m\u001b[0;34m.\u001b[0m\u001b[0;34m\u001b[0m\u001b[0;34m\u001b[0m\u001b[0m\n",
      "\u001b[0;32m/opt/conda/lib/python3.7/site-packages/google/cloud/aiplatform_v1beta1/services/index_service/client.py\u001b[0m in \u001b[0;36mIndexServiceClient\u001b[0;34m()\u001b[0m\n\u001b[1;32m    434\u001b[0m         \u001b[0mretry\u001b[0m\u001b[0;34m:\u001b[0m \u001b[0mOptionalRetry\u001b[0m \u001b[0;34m=\u001b[0m \u001b[0mgapic_v1\u001b[0m\u001b[0;34m.\u001b[0m\u001b[0mmethod\u001b[0m\u001b[0;34m.\u001b[0m\u001b[0mDEFAULT\u001b[0m\u001b[0;34m,\u001b[0m\u001b[0;34m\u001b[0m\u001b[0;34m\u001b[0m\u001b[0m\n\u001b[1;32m    435\u001b[0m         \u001b[0mtimeout\u001b[0m\u001b[0;34m:\u001b[0m \u001b[0mfloat\u001b[0m \u001b[0;34m=\u001b[0m \u001b[0;32mNone\u001b[0m\u001b[0;34m,\u001b[0m\u001b[0;34m\u001b[0m\u001b[0;34m\u001b[0m\u001b[0m\n\u001b[0;32m--> 436\u001b[0;31m         \u001b[0mmetadata\u001b[0m\u001b[0;34m:\u001b[0m \u001b[0mSequence\u001b[0m\u001b[0;34m[\u001b[0m\u001b[0mTuple\u001b[0m\u001b[0;34m[\u001b[0m\u001b[0mstr\u001b[0m\u001b[0;34m,\u001b[0m \u001b[0mstr\u001b[0m\u001b[0;34m]\u001b[0m\u001b[0;34m]\u001b[0m \u001b[0;34m=\u001b[0m \u001b[0;34m(\u001b[0m\u001b[0;34m)\u001b[0m\u001b[0;34m,\u001b[0m\u001b[0;34m\u001b[0m\u001b[0;34m\u001b[0m\u001b[0m\n\u001b[0m\u001b[1;32m    437\u001b[0m     ) -> gac_operation.Operation:\n\u001b[1;32m    438\u001b[0m         r\"\"\"Creates an Index.\n",
      "\u001b[0;32m/opt/conda/lib/python3.7/typing.py\u001b[0m in \u001b[0;36minner\u001b[0;34m(*args, **kwds)\u001b[0m\n\u001b[1;32m    249\u001b[0m     \u001b[0;32mdef\u001b[0m \u001b[0minner\u001b[0m\u001b[0;34m(\u001b[0m\u001b[0;34m*\u001b[0m\u001b[0margs\u001b[0m\u001b[0;34m,\u001b[0m \u001b[0;34m**\u001b[0m\u001b[0mkwds\u001b[0m\u001b[0;34m)\u001b[0m\u001b[0;34m:\u001b[0m\u001b[0;34m\u001b[0m\u001b[0;34m\u001b[0m\u001b[0m\n\u001b[1;32m    250\u001b[0m         \u001b[0;32mtry\u001b[0m\u001b[0;34m:\u001b[0m\u001b[0;34m\u001b[0m\u001b[0;34m\u001b[0m\u001b[0m\n\u001b[0;32m--> 251\u001b[0;31m             \u001b[0;32mreturn\u001b[0m \u001b[0mcached\u001b[0m\u001b[0;34m(\u001b[0m\u001b[0;34m*\u001b[0m\u001b[0margs\u001b[0m\u001b[0;34m,\u001b[0m \u001b[0;34m**\u001b[0m\u001b[0mkwds\u001b[0m\u001b[0;34m)\u001b[0m\u001b[0;34m\u001b[0m\u001b[0;34m\u001b[0m\u001b[0m\n\u001b[0m\u001b[1;32m    252\u001b[0m         \u001b[0;32mexcept\u001b[0m \u001b[0mTypeError\u001b[0m\u001b[0;34m:\u001b[0m\u001b[0;34m\u001b[0m\u001b[0;34m\u001b[0m\u001b[0m\n\u001b[1;32m    253\u001b[0m             \u001b[0;32mpass\u001b[0m  \u001b[0;31m# All real errors (not unhashable args) are raised below.\u001b[0m\u001b[0;34m\u001b[0m\u001b[0;34m\u001b[0m\u001b[0m\n",
      "\u001b[0;32m/opt/conda/lib/python3.7/typing.py\u001b[0m in \u001b[0;36m__hash__\u001b[0;34m(self)\u001b[0m\n\u001b[1;32m    668\u001b[0m \u001b[0;34m\u001b[0m\u001b[0m\n\u001b[1;32m    669\u001b[0m     \u001b[0;32mdef\u001b[0m \u001b[0m__hash__\u001b[0m\u001b[0;34m(\u001b[0m\u001b[0mself\u001b[0m\u001b[0;34m)\u001b[0m\u001b[0;34m:\u001b[0m\u001b[0;34m\u001b[0m\u001b[0;34m\u001b[0m\u001b[0m\n\u001b[0;32m--> 670\u001b[0;31m         \u001b[0;32mif\u001b[0m \u001b[0mself\u001b[0m\u001b[0;34m.\u001b[0m\u001b[0m__origin__\u001b[0m \u001b[0;32mis\u001b[0m \u001b[0mUnion\u001b[0m\u001b[0;34m:\u001b[0m\u001b[0;34m\u001b[0m\u001b[0;34m\u001b[0m\u001b[0m\n\u001b[0m\u001b[1;32m    671\u001b[0m             \u001b[0;32mreturn\u001b[0m \u001b[0mhash\u001b[0m\u001b[0;34m(\u001b[0m\u001b[0;34m(\u001b[0m\u001b[0mUnion\u001b[0m\u001b[0;34m,\u001b[0m \u001b[0mfrozenset\u001b[0m\u001b[0;34m(\u001b[0m\u001b[0mself\u001b[0m\u001b[0;34m.\u001b[0m\u001b[0m__args__\u001b[0m\u001b[0;34m)\u001b[0m\u001b[0;34m)\u001b[0m\u001b[0;34m)\u001b[0m\u001b[0;34m\u001b[0m\u001b[0;34m\u001b[0m\u001b[0m\n\u001b[1;32m    672\u001b[0m         \u001b[0;32mreturn\u001b[0m \u001b[0mhash\u001b[0m\u001b[0;34m(\u001b[0m\u001b[0;34m(\u001b[0m\u001b[0mself\u001b[0m\u001b[0;34m.\u001b[0m\u001b[0m__origin__\u001b[0m\u001b[0;34m,\u001b[0m \u001b[0mself\u001b[0m\u001b[0;34m.\u001b[0m\u001b[0m__args__\u001b[0m\u001b[0;34m)\u001b[0m\u001b[0;34m)\u001b[0m\u001b[0;34m\u001b[0m\u001b[0;34m\u001b[0m\u001b[0m\n",
      "\u001b[0;31mKeyboardInterrupt\u001b[0m: "
     ]
    }
   ],
   "source": [
    "from typing import List, Union\n",
    "\n",
    "from google.cloud import aiplatform\n",
    "\n",
    "\n",
    "dataset_display_name = \"\"\n",
    "path = \"bq://cpg-cdp.trendspottingforecast_classification_jw_pl_png_hair_22.classified_terms_no_emb_png_hair_22\"\n",
    "\n",
    "aiplatform.init(project=PROJECT_ID, location=REGION)\n",
    "\n",
    "ds = aiplatform.TimeSeriesDataset.create(\n",
    "        display_name=dataset_display_name, \n",
    "        bq_source=path,\n",
    "    )\n",
    "\n",
    "ds.wait()\n",
    "\n",
    "print(ds.display_name)\n",
    "print(ds.resource_name)"
   ]
  },
  {
   "cell_type": "code",
   "execution_count": 70,
   "id": "9a2f32f4-04ca-45ec-ba60-17c5adea225d",
   "metadata": {},
   "outputs": [],
   "source": [
    "forecast_class_colspecs = [\n",
    "  {\n",
    "    \"categorical\": {\n",
    "      \"columnName\": \"predicted_label\"\n",
    "    }\n",
    "  },\n",
    "  {\n",
    "    \"timestamp\": {\n",
    "      \"columnName\": \"date\"\n",
    "    }\n",
    "  },\n",
    "  {\n",
    "    \"categorical\": {\n",
    "      \"columnName\": \"geo_id\"\n",
    "    }\n",
    "  },\n",
    "  {\n",
    "    \"text\": {\n",
    "      \"columnName\": \"sentences\"\n",
    "    }\n",
    "  },\n",
    "  {\n",
    "    \"numeric\": {\n",
    "      \"columnName\": \"category_rank\"\n",
    "    }\n",
    "  }\n",
    "]\n",
    "\n",
    "model_params = {\n",
    "  \"targetColumn\": \"category_rank\",\n",
    "  \"timeSeriesIdentifierColumn\": \"series_id\",\n",
    "  \"timeColumn\": \"date\",\n",
    "  \"optimizationObjective\": \"minimize-rmse\",\n",
    "  \"trainBudgetMilliNodeHours\": \"20000\",\n",
    "  \"unavailableAtForecastColumns\": [\n",
    "    \"category_rank\"\n",
    "  ],\n",
    "  \"availableAtForecastColumns\": [\n",
    "    \"date\"\n",
    "  ],\n",
    "  \"dataGranularity\": {\n",
    "    \"unit\": \"week\",\n",
    "    \"quantity\": \"1\"\n",
    "  },\n",
    "  \"forecastHorizon\": \"52\",\n",
    "  \"contextWindow\": \"52\",\n",
    "  \"windowConfig\": {},\n",
    "  \"predefinedSplitColumnName\": \"split_col\"\n",
    "}"
   ]
  },
  {
   "cell_type": "code",
   "execution_count": 84,
   "id": "120ee264-0010-4ca9-9f55-a038df7c432b",
   "metadata": {},
   "outputs": [
    {
     "name": "stderr",
     "output_type": "stream",
     "text": [
      "/opt/conda/lib/python3.7/site-packages/google/cloud/aiplatform/training_jobs.py:3938: DeprecationWarning: consider using column_specs instead. column_transformations will be deprecated in the future.\n",
      "  column_specs, column_transformations\n"
     ]
    },
    {
     "name": "stdout",
     "output_type": "stream",
     "text": [
      "INFO:google.cloud.aiplatform.training_jobs:View Training:\n",
      "https://console.cloud.google.com/ai/platform/locations/us-central1/training/7541140411956330496?project=939655404703\n",
      "INFO:google.cloud.aiplatform.training_jobs:AutoMLForecastingTrainingJob projects/939655404703/locations/us-central1/trainingPipelines/7541140411956330496 current state:\n",
      "PipelineState.PIPELINE_STATE_RUNNING\n",
      "INFO:google.cloud.aiplatform.training_jobs:AutoMLForecastingTrainingJob projects/939655404703/locations/us-central1/trainingPipelines/7541140411956330496 current state:\n",
      "PipelineState.PIPELINE_STATE_RUNNING\n",
      "INFO:google.cloud.aiplatform.training_jobs:AutoMLForecastingTrainingJob projects/939655404703/locations/us-central1/trainingPipelines/7541140411956330496 current state:\n",
      "PipelineState.PIPELINE_STATE_RUNNING\n",
      "INFO:google.cloud.aiplatform.training_jobs:AutoMLForecastingTrainingJob projects/939655404703/locations/us-central1/trainingPipelines/7541140411956330496 current state:\n",
      "PipelineState.PIPELINE_STATE_RUNNING\n",
      "INFO:google.cloud.aiplatform.training_jobs:AutoMLForecastingTrainingJob projects/939655404703/locations/us-central1/trainingPipelines/7541140411956330496 current state:\n",
      "PipelineState.PIPELINE_STATE_RUNNING\n",
      "INFO:google.cloud.aiplatform.training_jobs:AutoMLForecastingTrainingJob projects/939655404703/locations/us-central1/trainingPipelines/7541140411956330496 current state:\n",
      "PipelineState.PIPELINE_STATE_RUNNING\n",
      "INFO:google.cloud.aiplatform.training_jobs:AutoMLForecastingTrainingJob projects/939655404703/locations/us-central1/trainingPipelines/7541140411956330496 current state:\n",
      "PipelineState.PIPELINE_STATE_RUNNING\n",
      "INFO:google.cloud.aiplatform.training_jobs:AutoMLForecastingTrainingJob projects/939655404703/locations/us-central1/trainingPipelines/7541140411956330496 current state:\n",
      "PipelineState.PIPELINE_STATE_RUNNING\n",
      "INFO:google.cloud.aiplatform.training_jobs:AutoMLForecastingTrainingJob projects/939655404703/locations/us-central1/trainingPipelines/7541140411956330496 current state:\n",
      "PipelineState.PIPELINE_STATE_RUNNING\n",
      "INFO:google.cloud.aiplatform.training_jobs:AutoMLForecastingTrainingJob projects/939655404703/locations/us-central1/trainingPipelines/7541140411956330496 current state:\n",
      "PipelineState.PIPELINE_STATE_RUNNING\n",
      "INFO:google.cloud.aiplatform.training_jobs:AutoMLForecastingTrainingJob projects/939655404703/locations/us-central1/trainingPipelines/7541140411956330496 current state:\n",
      "PipelineState.PIPELINE_STATE_RUNNING\n",
      "INFO:google.cloud.aiplatform.training_jobs:AutoMLForecastingTrainingJob projects/939655404703/locations/us-central1/trainingPipelines/7541140411956330496 current state:\n",
      "PipelineState.PIPELINE_STATE_RUNNING\n",
      "INFO:google.cloud.aiplatform.training_jobs:AutoMLForecastingTrainingJob projects/939655404703/locations/us-central1/trainingPipelines/7541140411956330496 current state:\n",
      "PipelineState.PIPELINE_STATE_RUNNING\n",
      "INFO:google.cloud.aiplatform.training_jobs:AutoMLForecastingTrainingJob projects/939655404703/locations/us-central1/trainingPipelines/7541140411956330496 current state:\n",
      "PipelineState.PIPELINE_STATE_RUNNING\n",
      "INFO:google.cloud.aiplatform.training_jobs:AutoMLForecastingTrainingJob projects/939655404703/locations/us-central1/trainingPipelines/7541140411956330496 current state:\n",
      "PipelineState.PIPELINE_STATE_RUNNING\n",
      "INFO:google.cloud.aiplatform.training_jobs:AutoMLForecastingTrainingJob projects/939655404703/locations/us-central1/trainingPipelines/7541140411956330496 current state:\n",
      "PipelineState.PIPELINE_STATE_RUNNING\n",
      "INFO:google.cloud.aiplatform.training_jobs:AutoMLForecastingTrainingJob projects/939655404703/locations/us-central1/trainingPipelines/7541140411956330496 current state:\n",
      "PipelineState.PIPELINE_STATE_RUNNING\n",
      "INFO:google.cloud.aiplatform.training_jobs:AutoMLForecastingTrainingJob projects/939655404703/locations/us-central1/trainingPipelines/7541140411956330496 current state:\n",
      "PipelineState.PIPELINE_STATE_RUNNING\n",
      "INFO:google.cloud.aiplatform.training_jobs:AutoMLForecastingTrainingJob projects/939655404703/locations/us-central1/trainingPipelines/7541140411956330496 current state:\n",
      "PipelineState.PIPELINE_STATE_RUNNING\n",
      "INFO:google.cloud.aiplatform.training_jobs:AutoMLForecastingTrainingJob projects/939655404703/locations/us-central1/trainingPipelines/7541140411956330496 current state:\n",
      "PipelineState.PIPELINE_STATE_RUNNING\n",
      "INFO:google.cloud.aiplatform.training_jobs:AutoMLForecastingTrainingJob projects/939655404703/locations/us-central1/trainingPipelines/7541140411956330496 current state:\n",
      "PipelineState.PIPELINE_STATE_RUNNING\n",
      "INFO:google.cloud.aiplatform.training_jobs:AutoMLForecastingTrainingJob projects/939655404703/locations/us-central1/trainingPipelines/7541140411956330496 current state:\n",
      "PipelineState.PIPELINE_STATE_RUNNING\n",
      "INFO:google.cloud.aiplatform.training_jobs:AutoMLForecastingTrainingJob projects/939655404703/locations/us-central1/trainingPipelines/7541140411956330496 current state:\n",
      "PipelineState.PIPELINE_STATE_RUNNING\n",
      "INFO:google.cloud.aiplatform.training_jobs:AutoMLForecastingTrainingJob projects/939655404703/locations/us-central1/trainingPipelines/7541140411956330496 current state:\n",
      "PipelineState.PIPELINE_STATE_RUNNING\n",
      "INFO:google.cloud.aiplatform.training_jobs:AutoMLForecastingTrainingJob projects/939655404703/locations/us-central1/trainingPipelines/7541140411956330496 current state:\n",
      "PipelineState.PIPELINE_STATE_RUNNING\n",
      "INFO:google.cloud.aiplatform.training_jobs:AutoMLForecastingTrainingJob projects/939655404703/locations/us-central1/trainingPipelines/7541140411956330496 current state:\n",
      "PipelineState.PIPELINE_STATE_RUNNING\n",
      "INFO:google.cloud.aiplatform.training_jobs:AutoMLForecastingTrainingJob projects/939655404703/locations/us-central1/trainingPipelines/7541140411956330496 current state:\n",
      "PipelineState.PIPELINE_STATE_RUNNING\n",
      "INFO:google.cloud.aiplatform.training_jobs:AutoMLForecastingTrainingJob projects/939655404703/locations/us-central1/trainingPipelines/7541140411956330496 current state:\n",
      "PipelineState.PIPELINE_STATE_RUNNING\n",
      "INFO:google.cloud.aiplatform.training_jobs:AutoMLForecastingTrainingJob projects/939655404703/locations/us-central1/trainingPipelines/7541140411956330496 current state:\n",
      "PipelineState.PIPELINE_STATE_RUNNING\n",
      "INFO:google.cloud.aiplatform.training_jobs:AutoMLForecastingTrainingJob projects/939655404703/locations/us-central1/trainingPipelines/7541140411956330496 current state:\n",
      "PipelineState.PIPELINE_STATE_RUNNING\n",
      "INFO:google.cloud.aiplatform.training_jobs:AutoMLForecastingTrainingJob projects/939655404703/locations/us-central1/trainingPipelines/7541140411956330496 current state:\n",
      "PipelineState.PIPELINE_STATE_RUNNING\n",
      "INFO:google.cloud.aiplatform.training_jobs:AutoMLForecastingTrainingJob projects/939655404703/locations/us-central1/trainingPipelines/7541140411956330496 current state:\n",
      "PipelineState.PIPELINE_STATE_RUNNING\n",
      "INFO:google.cloud.aiplatform.training_jobs:AutoMLForecastingTrainingJob projects/939655404703/locations/us-central1/trainingPipelines/7541140411956330496 current state:\n",
      "PipelineState.PIPELINE_STATE_RUNNING\n",
      "INFO:google.cloud.aiplatform.training_jobs:AutoMLForecastingTrainingJob projects/939655404703/locations/us-central1/trainingPipelines/7541140411956330496 current state:\n",
      "PipelineState.PIPELINE_STATE_RUNNING\n",
      "INFO:google.cloud.aiplatform.training_jobs:AutoMLForecastingTrainingJob projects/939655404703/locations/us-central1/trainingPipelines/7541140411956330496 current state:\n",
      "PipelineState.PIPELINE_STATE_RUNNING\n",
      "INFO:google.cloud.aiplatform.training_jobs:AutoMLForecastingTrainingJob projects/939655404703/locations/us-central1/trainingPipelines/7541140411956330496 current state:\n",
      "PipelineState.PIPELINE_STATE_RUNNING\n",
      "INFO:google.cloud.aiplatform.training_jobs:AutoMLForecastingTrainingJob projects/939655404703/locations/us-central1/trainingPipelines/7541140411956330496 current state:\n",
      "PipelineState.PIPELINE_STATE_RUNNING\n",
      "INFO:google.cloud.aiplatform.training_jobs:AutoMLForecastingTrainingJob projects/939655404703/locations/us-central1/trainingPipelines/7541140411956330496 current state:\n",
      "PipelineState.PIPELINE_STATE_RUNNING\n",
      "INFO:google.cloud.aiplatform.training_jobs:AutoMLForecastingTrainingJob projects/939655404703/locations/us-central1/trainingPipelines/7541140411956330496 current state:\n",
      "PipelineState.PIPELINE_STATE_RUNNING\n",
      "INFO:google.cloud.aiplatform.training_jobs:AutoMLForecastingTrainingJob projects/939655404703/locations/us-central1/trainingPipelines/7541140411956330496 current state:\n",
      "PipelineState.PIPELINE_STATE_RUNNING\n",
      "INFO:google.cloud.aiplatform.training_jobs:AutoMLForecastingTrainingJob projects/939655404703/locations/us-central1/trainingPipelines/7541140411956330496 current state:\n",
      "PipelineState.PIPELINE_STATE_RUNNING\n",
      "INFO:google.cloud.aiplatform.training_jobs:AutoMLForecastingTrainingJob projects/939655404703/locations/us-central1/trainingPipelines/7541140411956330496 current state:\n",
      "PipelineState.PIPELINE_STATE_RUNNING\n",
      "INFO:google.cloud.aiplatform.training_jobs:AutoMLForecastingTrainingJob projects/939655404703/locations/us-central1/trainingPipelines/7541140411956330496 current state:\n",
      "PipelineState.PIPELINE_STATE_RUNNING\n",
      "INFO:google.cloud.aiplatform.training_jobs:AutoMLForecastingTrainingJob projects/939655404703/locations/us-central1/trainingPipelines/7541140411956330496 current state:\n",
      "PipelineState.PIPELINE_STATE_RUNNING\n",
      "INFO:google.cloud.aiplatform.training_jobs:AutoMLForecastingTrainingJob projects/939655404703/locations/us-central1/trainingPipelines/7541140411956330496 current state:\n",
      "PipelineState.PIPELINE_STATE_RUNNING\n",
      "INFO:google.cloud.aiplatform.training_jobs:AutoMLForecastingTrainingJob projects/939655404703/locations/us-central1/trainingPipelines/7541140411956330496 current state:\n",
      "PipelineState.PIPELINE_STATE_RUNNING\n",
      "INFO:google.cloud.aiplatform.training_jobs:AutoMLForecastingTrainingJob projects/939655404703/locations/us-central1/trainingPipelines/7541140411956330496 current state:\n",
      "PipelineState.PIPELINE_STATE_RUNNING\n",
      "INFO:google.cloud.aiplatform.training_jobs:AutoMLForecastingTrainingJob projects/939655404703/locations/us-central1/trainingPipelines/7541140411956330496 current state:\n",
      "PipelineState.PIPELINE_STATE_RUNNING\n",
      "INFO:google.cloud.aiplatform.training_jobs:AutoMLForecastingTrainingJob projects/939655404703/locations/us-central1/trainingPipelines/7541140411956330496 current state:\n",
      "PipelineState.PIPELINE_STATE_RUNNING\n",
      "INFO:google.cloud.aiplatform.training_jobs:AutoMLForecastingTrainingJob projects/939655404703/locations/us-central1/trainingPipelines/7541140411956330496 current state:\n",
      "PipelineState.PIPELINE_STATE_RUNNING\n",
      "INFO:google.cloud.aiplatform.training_jobs:AutoMLForecastingTrainingJob projects/939655404703/locations/us-central1/trainingPipelines/7541140411956330496 current state:\n",
      "PipelineState.PIPELINE_STATE_RUNNING\n",
      "INFO:google.cloud.aiplatform.training_jobs:AutoMLForecastingTrainingJob projects/939655404703/locations/us-central1/trainingPipelines/7541140411956330496 current state:\n",
      "PipelineState.PIPELINE_STATE_RUNNING\n",
      "INFO:google.cloud.aiplatform.training_jobs:AutoMLForecastingTrainingJob projects/939655404703/locations/us-central1/trainingPipelines/7541140411956330496 current state:\n",
      "PipelineState.PIPELINE_STATE_RUNNING\n",
      "INFO:google.cloud.aiplatform.training_jobs:AutoMLForecastingTrainingJob projects/939655404703/locations/us-central1/trainingPipelines/7541140411956330496 current state:\n",
      "PipelineState.PIPELINE_STATE_RUNNING\n",
      "INFO:google.cloud.aiplatform.training_jobs:AutoMLForecastingTrainingJob run completed. Resource name: projects/939655404703/locations/us-central1/trainingPipelines/7541140411956330496\n",
      "INFO:google.cloud.aiplatform.training_jobs:Model available at projects/939655404703/locations/us-central1/models/8609030909951213568\n",
      "INFO:google.cloud.aiplatform.training_jobs:Exported examples available at:\n",
      "bq://cpg-cdp.trendspotting.classification_term_forecast_png_hair_22\n",
      "forecast_class_jw_pl_png_hair_22_v2\n",
      "projects/939655404703/locations/us-central1/models/8609030909951213568\n",
      "None\n"
     ]
    }
   ],
   "source": [
    "model_display_name = 'forecast_class_jw_pl_png_hair_22_v2'\n",
    "train_budget_milli_node_hours = 1000\n",
    "\n",
    "\n",
    "\n",
    "forecasting_job = aiplatform.AutoMLForecastingTrainingJob(\n",
    "        display_name=model_display_name, \n",
    "        column_transformations=forecast_class_colspecs\n",
    "    )\n",
    "\n",
    "\n",
    "model = forecasting_job.run(\n",
    "        dataset=ds,\n",
    "        target_column=\"category_rank\",\n",
    "        unavailable_at_forecast_columns=[\"category_rank\"],\n",
    "        available_at_forecast_columns=[\"date\"],\n",
    "        time_column=\"date\",\n",
    "        time_series_identifier_column=\"series_id\",\n",
    "        data_granularity_unit='week',\n",
    "        data_granularity_count=1,\n",
    "        predefined_split_column_name= 'split_col', \n",
    "        time_series_attribute_columns = ['predicted_label', 'geo_id', 'sentences'],\n",
    "        context_window=52,\n",
    "        forecast_horizon=52,\n",
    "        budget_milli_node_hours=1000,\n",
    "        export_evaluated_data_items=True,\n",
    "        export_evaluated_data_items_override_destination=True,\n",
    "        export_evaluated_data_items_bigquery_destination_uri = 'bq://cpg-cdp.trendspotting.classification_term_forecast_png_hair_22',\n",
    "        sync=False,\n",
    "    )\n",
    "\n",
    "model.wait()\n",
    "\n",
    "print(model.display_name)\n",
    "print(model.resource_name)\n",
    "print(model.uri)"
   ]
  }
 ],
 "metadata": {
  "environment": {
   "kernel": "python3",
   "name": "tf2-gpu.2-7.m87",
   "type": "gcloud",
   "uri": "gcr.io/deeplearning-platform-release/tf2-gpu.2-7:m87"
  },
  "kernelspec": {
   "display_name": "Python 3",
   "language": "python",
   "name": "python3"
  },
  "language_info": {
   "codemirror_mode": {
    "name": "ipython",
    "version": 3
   },
   "file_extension": ".py",
   "mimetype": "text/x-python",
   "name": "python",
   "nbconvert_exporter": "python",
   "pygments_lexer": "ipython3",
   "version": "3.7.12"
  }
 },
 "nbformat": 4,
 "nbformat_minor": 5
}
