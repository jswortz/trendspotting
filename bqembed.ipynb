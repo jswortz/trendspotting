{
 "cells": [
  {
   "cell_type": "code",
   "execution_count": 5,
   "id": "5f75ef5a-21f9-4b6b-976f-8b4e8ffa63f1",
   "metadata": {},
   "outputs": [
    {
     "name": "stdout",
     "output_type": "stream",
     "text": [
      "assets/\n",
      "assets/tokens.txt\n",
      "saved_model.pb\n",
      "variables/\n",
      "variables/variables.data-00000-of-00001\n",
      "variables/variables.index\n"
     ]
    },
    {
     "name": "stderr",
     "output_type": "stream",
     "text": [
      "Copying file://swivel/swivel.tar.gz [Content-Type=application/x-tar]...\n",
      "Copying file://swivel/saved_model.pb [Content-Type=application/octet-stream]...\n",
      "Copying file://swivel/variables/variables.data-00000-of-00001 [Content-Type=application/octet-stream]...\n",
      "Copying file://swivel/variables/variables.index [Content-Type=application/octet-stream]...\n",
      "Copying file://swivel/assets/tokens.txt [Content-Type=text/plain]...\n",
      "/ [5/5 files][  3.2 MiB/  3.2 MiB] 100% Done                                    \n",
      "Operation completed over 5 objects/3.2 MiB.                                      \n"
     ]
    }
   ],
   "source": [
    "# %%bash\n",
    "# mkdir tmp\n",
    "# FILE=swivel.tar.gz\n",
    "# wget --quiet -O tmp/swivel.tar.gz  https://tfhub.dev/google/tf2-preview/gnews-swivel-20dim/1?tf-hub-format=compressed\n",
    "# cd tmp\n",
    "# tar xvfz swivel.tar.gz\n",
    "# cd ..\n",
    "# mv tmp swivel\n",
    "# gsutil -m cp -R swivel gs://trendspotting-pipeline/swivel"
   ]
  },
  {
   "cell_type": "code",
   "execution_count": 8,
   "id": "3dbe2590-0b20-4601-b6c3-d2bca77c7283",
   "metadata": {},
   "outputs": [
    {
     "name": "stderr",
     "output_type": "stream",
     "text": [
      "Query complete after 0.01s: 100%|██████████| 2/2 [00:00<00:00, 823.62query/s]                        \n"
     ]
    },
    {
     "data": {
      "text/html": [
       "<div>\n",
       "<style scoped>\n",
       "    .dataframe tbody tr th:only-of-type {\n",
       "        vertical-align: middle;\n",
       "    }\n",
       "\n",
       "    .dataframe tbody tr th {\n",
       "        vertical-align: top;\n",
       "    }\n",
       "\n",
       "    .dataframe thead th {\n",
       "        text-align: right;\n",
       "    }\n",
       "</style>\n",
       "<table border=\"1\" class=\"dataframe\">\n",
       "  <thead>\n",
       "    <tr style=\"text-align: right;\">\n",
       "      <th></th>\n",
       "    </tr>\n",
       "  </thead>\n",
       "  <tbody>\n",
       "  </tbody>\n",
       "</table>\n",
       "</div>"
      ],
      "text/plain": [
       "Empty DataFrame\n",
       "Columns: []\n",
       "Index: []"
      ]
     },
     "execution_count": 8,
     "metadata": {},
     "output_type": "execute_result"
    }
   ],
   "source": [
    "%%bigquery\n",
    "CREATE OR REPLACE MODEL trendspotting.swivel_text_embed\n",
    "OPTIONS(model_type='tensorflow', model_path='gs://trendspotting-pipeline/swivel/*')"
   ]
  },
  {
   "cell_type": "code",
   "execution_count": 35,
   "id": "5d5b1a47-3fe0-439f-bcbe-e3e3482441e3",
   "metadata": {},
   "outputs": [
    {
     "name": "stderr",
     "output_type": "stream",
     "text": [
      "Query complete after 0.00s: 100%|██████████| 3/3 [00:00<00:00, 1289.36query/s]                        \n"
     ]
    },
    {
     "data": {
      "text/html": [
       "<div>\n",
       "<style scoped>\n",
       "    .dataframe tbody tr th:only-of-type {\n",
       "        vertical-align: middle;\n",
       "    }\n",
       "\n",
       "    .dataframe tbody tr th {\n",
       "        vertical-align: top;\n",
       "    }\n",
       "\n",
       "    .dataframe thead th {\n",
       "        text-align: right;\n",
       "    }\n",
       "</style>\n",
       "<table border=\"1\" class=\"dataframe\">\n",
       "  <thead>\n",
       "    <tr style=\"text-align: right;\">\n",
       "      <th></th>\n",
       "    </tr>\n",
       "  </thead>\n",
       "  <tbody>\n",
       "  </tbody>\n",
       "</table>\n",
       "</div>"
      ],
      "text/plain": [
       "Empty DataFrame\n",
       "Columns: []\n",
       "Index: []"
      ]
     },
     "execution_count": 35,
     "metadata": {},
     "output_type": "execute_result"
    }
   ],
   "source": [
    "%%bigquery\n",
    "CREATE TEMPORARY FUNCTION arr_to_input_20(arr ARRAY<FLOAT64>)\n",
    "RETURNS \n",
    "STRUCT<p1 FLOAT64, p2 FLOAT64, p3 FLOAT64, p4 FLOAT64,\n",
    "       p5 FLOAT64, p6 FLOAT64, p7 FLOAT64, p8 FLOAT64, \n",
    "       p9 FLOAT64, p10 FLOAT64, p11 FLOAT64, p12 FLOAT64, \n",
    "       p13 FLOAT64, p14 FLOAT64, p15 FLOAT64, p16 FLOAT64,\n",
    "       p17 FLOAT64, p18 FLOAT64, p19 FLOAT64, p20 FLOAT64>\n",
    "AS (\n",
    "STRUCT(\n",
    "    arr[OFFSET(0)]\n",
    "    , arr[OFFSET(1)]\n",
    "    , arr[OFFSET(2)]\n",
    "    , arr[OFFSET(3)]\n",
    "    , arr[OFFSET(4)]\n",
    "    , arr[OFFSET(5)]\n",
    "    , arr[OFFSET(6)]\n",
    "    , arr[OFFSET(7)]\n",
    "    , arr[OFFSET(8)]\n",
    "    , arr[OFFSET(9)]\n",
    "    , arr[OFFSET(10)]\n",
    "    , arr[OFFSET(11)]\n",
    "    , arr[OFFSET(12)]\n",
    "    , arr[OFFSET(13)]\n",
    "    , arr[OFFSET(14)]\n",
    "    , arr[OFFSET(15)]\n",
    "    , arr[OFFSET(16)]\n",
    "    , arr[OFFSET(17)]\n",
    "    , arr[OFFSET(18)]\n",
    "    , arr[OFFSET(19)]    \n",
    "));\n",
    "\n",
    "CREATE OR REPLACE MODEL trendspotting.embed_clustering_100\n",
    "OPTIONS(model_type='kmeans', NUM_CLUSTERS=100, kmeans_init_method = 'KMEANS++') AS\n",
    "SELECT\n",
    "  arr_to_input_20(output_0) AS comments_embed\n",
    "FROM ML.PREDICT(MODEL trendspotting.swivel_text_embed,(\n",
    "  SELECT date, geo_name, term AS sentences, volume\n",
    "  FROM `cpg-cdp.trendspotting.futurama_weekly`\n",
    "  WHERE date between '2019-01-01' and '2021-12-31' and category_id = 10047\n",
    "))"
   ]
  },
  {
   "cell_type": "markdown",
   "id": "2de6dbe4-57d8-4a02-9223-5864f62a7d51",
   "metadata": {},
   "source": [
    "### Predict swivel embedding clusters"
   ]
  },
  {
   "cell_type": "code",
   "execution_count": 36,
   "id": "b8f37dc6-0c46-4610-b5b9-f25fe5cc1d96",
   "metadata": {},
   "outputs": [
    {
     "name": "stderr",
     "output_type": "stream",
     "text": [
      "Query complete after 0.00s: 100%|██████████| 45/45 [00:00<00:00, 20997.18query/s]                      \n"
     ]
    },
    {
     "data": {
      "text/html": [
       "<div>\n",
       "<style scoped>\n",
       "    .dataframe tbody tr th:only-of-type {\n",
       "        vertical-align: middle;\n",
       "    }\n",
       "\n",
       "    .dataframe tbody tr th {\n",
       "        vertical-align: top;\n",
       "    }\n",
       "\n",
       "    .dataframe thead th {\n",
       "        text-align: right;\n",
       "    }\n",
       "</style>\n",
       "<table border=\"1\" class=\"dataframe\">\n",
       "  <thead>\n",
       "    <tr style=\"text-align: right;\">\n",
       "      <th></th>\n",
       "    </tr>\n",
       "  </thead>\n",
       "  <tbody>\n",
       "  </tbody>\n",
       "</table>\n",
       "</div>"
      ],
      "text/plain": [
       "Empty DataFrame\n",
       "Columns: []\n",
       "Index: []"
      ]
     },
     "execution_count": 36,
     "metadata": {},
     "output_type": "execute_result"
    }
   ],
   "source": [
    "%%bigquery\n",
    "CREATE TEMPORARY FUNCTION arr_to_input_20(arr ARRAY<FLOAT64>)\n",
    "RETURNS \n",
    "STRUCT<p1 FLOAT64, p2 FLOAT64, p3 FLOAT64, p4 FLOAT64,\n",
    "       p5 FLOAT64, p6 FLOAT64, p7 FLOAT64, p8 FLOAT64, \n",
    "       p9 FLOAT64, p10 FLOAT64, p11 FLOAT64, p12 FLOAT64, \n",
    "       p13 FLOAT64, p14 FLOAT64, p15 FLOAT64, p16 FLOAT64,\n",
    "       p17 FLOAT64, p18 FLOAT64, p19 FLOAT64, p20 FLOAT64>\n",
    "AS (\n",
    "STRUCT(\n",
    "    arr[OFFSET(0)]\n",
    "    , arr[OFFSET(1)]\n",
    "    , arr[OFFSET(2)]\n",
    "    , arr[OFFSET(3)]\n",
    "    , arr[OFFSET(4)]\n",
    "    , arr[OFFSET(5)]\n",
    "    , arr[OFFSET(6)]\n",
    "    , arr[OFFSET(7)]\n",
    "    , arr[OFFSET(8)]\n",
    "    , arr[OFFSET(9)]\n",
    "    , arr[OFFSET(10)]\n",
    "    , arr[OFFSET(11)]\n",
    "    , arr[OFFSET(12)]\n",
    "    , arr[OFFSET(13)]\n",
    "    , arr[OFFSET(14)]\n",
    "    , arr[OFFSET(15)]\n",
    "    , arr[OFFSET(16)]\n",
    "    , arr[OFFSET(17)]\n",
    "    , arr[OFFSET(18)]\n",
    "    , arr[OFFSET(19)]    \n",
    "));\n",
    "\n",
    "CREATE OR REPLACE TABLE trendspotting.futurama_weekly_embed_cluster_100 as (\n",
    "    select * \n",
    "    from ML.PREDICT(MODEL trendspotting.embed_clustering_100, (\n",
    "        select *, arr_to_input_20(output_0) AS comments_embed from \n",
    "            ML.PREDICT(MODEL trendspotting.swivel_text_embed,(\n",
    "          SELECT date, geo_name, term AS sentences, volume\n",
    "          FROM `cpg-cdp.trendspotting.futurama_weekly`\n",
    "          WHERE date between '2019-01-01' and '2021-12-31' and category_id = 10047\n",
    "        ))\n",
    "        )\n",
    "    )\n",
    ")"
   ]
  },
  {
   "cell_type": "code",
   "execution_count": 37,
   "id": "31fbc1d0-a03f-4da4-8d64-d777c88bffca",
   "metadata": {},
   "outputs": [
    {
     "name": "stderr",
     "output_type": "stream",
     "text": [
      "Query complete after 0.00s: 100%|██████████| 7/7 [00:00<00:00, 4051.35query/s]                        \n"
     ]
    },
    {
     "data": {
      "text/html": [
       "<div>\n",
       "<style scoped>\n",
       "    .dataframe tbody tr th:only-of-type {\n",
       "        vertical-align: middle;\n",
       "    }\n",
       "\n",
       "    .dataframe tbody tr th {\n",
       "        vertical-align: top;\n",
       "    }\n",
       "\n",
       "    .dataframe thead th {\n",
       "        text-align: right;\n",
       "    }\n",
       "</style>\n",
       "<table border=\"1\" class=\"dataframe\">\n",
       "  <thead>\n",
       "    <tr style=\"text-align: right;\">\n",
       "      <th></th>\n",
       "    </tr>\n",
       "  </thead>\n",
       "  <tbody>\n",
       "  </tbody>\n",
       "</table>\n",
       "</div>"
      ],
      "text/plain": [
       "Empty DataFrame\n",
       "Columns: []\n",
       "Index: []"
      ]
     },
     "execution_count": 37,
     "metadata": {},
     "output_type": "execute_result"
    }
   ],
   "source": [
    "%%bigquery\n",
    "\n",
    "CREATE OR REPLACE TABLE trendspotting.futurama_weekly_embed_cluster_agg_100 as (\n",
    "with centroids as (select * from \n",
    "(SELECT\n",
    "centroid_id, feature, numerical_value\n",
    "FROM\n",
    "  ML.CENTROIDS(MODEL `trendspotting.embed_clustering_100`)\n",
    ")\n",
    "PIVOT(sum(numerical_value) for feature in ('comments_embed_p1',\n",
    "'comments_embed_p2',\n",
    "'comments_embed_p3',\n",
    "'comments_embed_p4',\n",
    "'comments_embed_p5',\n",
    "'comments_embed_p6',\n",
    "'comments_embed_p7',\n",
    "'comments_embed_p8',\n",
    "'comments_embed_p9',\n",
    "'comments_embed_p10',\n",
    "'comments_embed_p11',\n",
    "'comments_embed_p12',\n",
    "'comments_embed_p13',\n",
    "'comments_embed_p14',\n",
    "'comments_embed_p15',\n",
    "'comments_embed_p16',\n",
    "'comments_embed_p17',\n",
    "'comments_embed_p18',\n",
    "'comments_embed_p19',\n",
    "'comments_embed_p20'))\n",
    "                  )\n",
    "select volume, date, b.*,\n",
    "case when date between '2019-01-01' and  '2020-12-31' then 'TRAIN'\n",
    "          when date between '2021-01-01' and '2021-05-31' then 'VALIDATE'\n",
    "         else 'TEST' end as split_col\n",
    "from (\n",
    "    select sum(volume) as volume, date, centroid_id \n",
    "    from trendspotting.futurama_weekly_embed_cluster_100 group by date, centroid_id\n",
    ") a\n",
    "inner join centroids b on a.centroid_id = b.centroid_id\n",
    ")"
   ]
  },
  {
   "cell_type": "code",
   "execution_count": null,
   "id": "e76d3e7d-e360-406a-9e31-c15ed357923d",
   "metadata": {},
   "outputs": [],
   "source": [
    "create table trendspotting.cluster_forecast_test_clean as (\n",
    "    SELECT centroid_id, cast(volume as int) as volume, cast(predicted_volume.value as float64) as predicted_volume, date, predicted_on_date  FROM `cpg-cdp.trendspotting.cluster_forecast_test` \n",
    ")"
   ]
  }
 ],
 "metadata": {
  "environment": {
   "kernel": "python3",
   "name": "tf2-gpu.2-7.m87",
   "type": "gcloud",
   "uri": "gcr.io/deeplearning-platform-release/tf2-gpu.2-7:m87"
  },
  "kernelspec": {
   "display_name": "Python 3",
   "language": "python",
   "name": "python3"
  },
  "language_info": {
   "codemirror_mode": {
    "name": "ipython",
    "version": 3
   },
   "file_extension": ".py",
   "mimetype": "text/x-python",
   "name": "python",
   "nbconvert_exporter": "python",
   "pygments_lexer": "ipython3",
   "version": "3.7.12"
  }
 },
 "nbformat": 4,
 "nbformat_minor": 5
}
