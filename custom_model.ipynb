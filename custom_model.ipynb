{
 "cells": [
  {
   "cell_type": "code",
   "execution_count": 24,
   "id": "e150a42b-0221-4da7-a53e-91d8621f454a",
   "metadata": {},
   "outputs": [],
   "source": [
    "# !pip install pandas-gbq==0.12.0 keras-tuner --user"
   ]
  },
  {
   "cell_type": "code",
   "execution_count": 1,
   "id": "5179d751-9fd5-4e5a-b1d8-8c46095b9dee",
   "metadata": {},
   "outputs": [],
   "source": [
    "import pandas as pd\n",
    "from google.cloud import bigquery\n",
    "import time\n",
    "\n",
    "PROJECT_ID = 'cpg-cdp'\n",
    "REGION = 'us-central1'"
   ]
  },
  {
   "cell_type": "markdown",
   "id": "ddb85e81-7595-4a33-b592-d7202660ce5f",
   "metadata": {},
   "source": [
    "### Download your data after manually labeling\n",
    "Process: BQ -> sheets (label) -> csv -> upload to notebook"
   ]
  },
  {
   "cell_type": "code",
   "execution_count": 2,
   "id": "98d4bf4e-322d-43e2-8b7e-8453b3375985",
   "metadata": {},
   "outputs": [],
   "source": [
    "labels = pd.read_csv('P&G Trendspotting Term Classification - Export2BQ.csv')"
   ]
  },
  {
   "cell_type": "code",
   "execution_count": 3,
   "id": "4af935cb-88d9-4cb5-bc3b-0115b315cdde",
   "metadata": {},
   "outputs": [
    {
     "data": {
      "text/html": [
       "<div>\n",
       "<style scoped>\n",
       "    .dataframe tbody tr th:only-of-type {\n",
       "        vertical-align: middle;\n",
       "    }\n",
       "\n",
       "    .dataframe tbody tr th {\n",
       "        vertical-align: top;\n",
       "    }\n",
       "\n",
       "    .dataframe thead th {\n",
       "        text-align: right;\n",
       "    }\n",
       "</style>\n",
       "<table border=\"1\" class=\"dataframe\">\n",
       "  <thead>\n",
       "    <tr style=\"text-align: right;\">\n",
       "      <th></th>\n",
       "      <th>CENTROID_ID</th>\n",
       "      <th>top_terms.sentences</th>\n",
       "      <th>top_terms.n</th>\n",
       "      <th>JW Categorization</th>\n",
       "    </tr>\n",
       "  </thead>\n",
       "  <tbody>\n",
       "    <tr>\n",
       "      <th>0</th>\n",
       "      <td>20</td>\n",
       "      <td>curtain bangs</td>\n",
       "      <td>12541</td>\n",
       "      <td>Hair Styling</td>\n",
       "    </tr>\n",
       "    <tr>\n",
       "      <th>1</th>\n",
       "      <td>20</td>\n",
       "      <td>haircut</td>\n",
       "      <td>12533</td>\n",
       "      <td>Hair Styling</td>\n",
       "    </tr>\n",
       "    <tr>\n",
       "      <th>2</th>\n",
       "      <td>20</td>\n",
       "      <td>mullet haircut</td>\n",
       "      <td>12457</td>\n",
       "      <td>Hair Styling</td>\n",
       "    </tr>\n",
       "    <tr>\n",
       "      <th>3</th>\n",
       "      <td>20</td>\n",
       "      <td>cute hairstyles</td>\n",
       "      <td>12444</td>\n",
       "      <td>Hair Styling</td>\n",
       "    </tr>\n",
       "    <tr>\n",
       "      <th>4</th>\n",
       "      <td>20</td>\n",
       "      <td>shag haircut</td>\n",
       "      <td>12295</td>\n",
       "      <td>Hair Styling</td>\n",
       "    </tr>\n",
       "    <tr>\n",
       "      <th>...</th>\n",
       "      <td>...</td>\n",
       "      <td>...</td>\n",
       "      <td>...</td>\n",
       "      <td>...</td>\n",
       "    </tr>\n",
       "    <tr>\n",
       "      <th>703</th>\n",
       "      <td>2</td>\n",
       "      <td>light brown hair with highlights</td>\n",
       "      <td>9625</td>\n",
       "      <td>Hair Dyes &amp; Coloring</td>\n",
       "    </tr>\n",
       "    <tr>\n",
       "      <th>704</th>\n",
       "      <td>2</td>\n",
       "      <td>short blonde hair</td>\n",
       "      <td>9591</td>\n",
       "      <td>Hair Styling</td>\n",
       "    </tr>\n",
       "    <tr>\n",
       "      <th>705</th>\n",
       "      <td>2</td>\n",
       "      <td>gray color</td>\n",
       "      <td>9501</td>\n",
       "      <td>Hair Dyes &amp; Coloring</td>\n",
       "    </tr>\n",
       "    <tr>\n",
       "      <th>706</th>\n",
       "      <td>2</td>\n",
       "      <td>wedding hair styles</td>\n",
       "      <td>9431</td>\n",
       "      <td>Hair Styling</td>\n",
       "    </tr>\n",
       "    <tr>\n",
       "      <th>707</th>\n",
       "      <td>2</td>\n",
       "      <td>short layered hair</td>\n",
       "      <td>9424</td>\n",
       "      <td>Hair Styling</td>\n",
       "    </tr>\n",
       "  </tbody>\n",
       "</table>\n",
       "<p>708 rows × 4 columns</p>\n",
       "</div>"
      ],
      "text/plain": [
       "     CENTROID_ID               top_terms.sentences  top_terms.n  \\\n",
       "0             20                     curtain bangs        12541   \n",
       "1             20                           haircut        12533   \n",
       "2             20                    mullet haircut        12457   \n",
       "3             20                   cute hairstyles        12444   \n",
       "4             20                      shag haircut        12295   \n",
       "..           ...                               ...          ...   \n",
       "703            2  light brown hair with highlights         9625   \n",
       "704            2                 short blonde hair         9591   \n",
       "705            2                        gray color         9501   \n",
       "706            2               wedding hair styles         9431   \n",
       "707            2                short layered hair         9424   \n",
       "\n",
       "        JW Categorization  \n",
       "0            Hair Styling  \n",
       "1            Hair Styling  \n",
       "2            Hair Styling  \n",
       "3            Hair Styling  \n",
       "4            Hair Styling  \n",
       "..                    ...  \n",
       "703  Hair Dyes & Coloring  \n",
       "704          Hair Styling  \n",
       "705  Hair Dyes & Coloring  \n",
       "706          Hair Styling  \n",
       "707          Hair Styling  \n",
       "\n",
       "[708 rows x 4 columns]"
      ]
     },
     "execution_count": 3,
     "metadata": {},
     "output_type": "execute_result"
    }
   ],
   "source": [
    "labels"
   ]
  },
  {
   "cell_type": "code",
   "execution_count": 4,
   "id": "d1609a75-2386-485d-aaaf-61db2ba2a147",
   "metadata": {},
   "outputs": [],
   "source": [
    "### Upload the data to BQ"
   ]
  },
  {
   "cell_type": "code",
   "execution_count": 5,
   "id": "759bf31a-6614-4303-b936-b1eac1b2fb5b",
   "metadata": {},
   "outputs": [
    {
     "name": "stderr",
     "output_type": "stream",
     "text": [
      "1it [00:04,  4.21s/it]\n"
     ]
    }
   ],
   "source": [
    "#fix column names\n",
    "\n",
    "col_names = ['CENTROID_ID', 'terms', 'count', 'label']\n",
    "labels.columns = col_names\n",
    "labels.to_gbq(\n",
    "destination_table=f'trendspotting.labels_jw_pl_png_hair_22', \n",
    "project_id=PROJECT_ID, # TODO: param\n",
    "location='US', \n",
    "progress_bar=True, \n",
    "reauth=True, \n",
    "if_exists='append'\n",
    ") "
   ]
  },
  {
   "cell_type": "code",
   "execution_count": 6,
   "id": "c306e24e-6568-457a-bb08-c0606254188a",
   "metadata": {},
   "outputs": [
    {
     "name": "stdout",
     "output_type": "stream",
     "text": [
      "CPU times: user 28.2 ms, sys: 6.15 ms, total: 34.3 ms\n",
      "Wall time: 15.3 s\n"
     ]
    },
    {
     "data": {
      "text/plain": [
       "<google.cloud.bigquery.table._EmptyRowIterator at 0x7fda71358e90>"
      ]
     },
     "execution_count": 6,
     "metadata": {},
     "output_type": "execute_result"
    }
   ],
   "source": [
    "%%time\n",
    "bq_client = bigquery.Client(PROJECT_ID)\n",
    "\n",
    "sql = f\"\"\" CREATE OR REPLACE TABLE\n",
    "  trendspotting.labeled_training_jw_pl_png_hair_22 AS (\n",
    "  SELECT\n",
    "    * EXCEPT(category_rank,\n",
    "      split_col)\n",
    "  FROM\n",
    "    cpg-cdp.trendspotting.ETL_futurama_weekly_embed_aml_pl_png_hair_22 a\n",
    "  INNER JOIN\n",
    "    trendspotting.labels_jw_pl_png_hair_22 b\n",
    "  ON\n",
    "    a.sentences = b.terms )\n",
    "\"\"\"\n",
    "\n",
    "bq_client.query(sql).result()"
   ]
  },
  {
   "cell_type": "markdown",
   "id": "a8b5bb2f-a890-4664-9f06-6760d0ef6d93",
   "metadata": {},
   "source": [
    "### Create a managed dataset for an autoML model to classify the new categories"
   ]
  },
  {
   "cell_type": "code",
   "execution_count": 49,
   "id": "2be118e9-a7ce-406a-8fae-8e1fff250169",
   "metadata": {},
   "outputs": [
    {
     "name": "stdout",
     "output_type": "stream",
     "text": [
      "INFO:google.cloud.aiplatform.datasets.dataset:Creating TabularDataset\n",
      "INFO:google.cloud.aiplatform.datasets.dataset:Create TabularDataset backing LRO: projects/939655404703/locations/us-central1/datasets/3949834994087624704/operations/531240381673635840\n",
      "INFO:google.cloud.aiplatform.datasets.dataset:TabularDataset created. Resource name: projects/939655404703/locations/us-central1/datasets/3949834994087624704\n",
      "INFO:google.cloud.aiplatform.datasets.dataset:To use this TabularDataset in another session:\n",
      "INFO:google.cloud.aiplatform.datasets.dataset:ds = aiplatform.TabularDataset('projects/939655404703/locations/us-central1/datasets/3949834994087624704')\n",
      "classification_jw_pl_png_hair_22\n",
      "projects/939655404703/locations/us-central1/datasets/3949834994087624704\n"
     ]
    }
   ],
   "source": [
    "from typing import List, Union\n",
    "\n",
    "from google.cloud import aiplatform\n",
    "\n",
    "\n",
    "dataset_display_name = \"classification_jw_pl_png_hair_22\"\n",
    "path = \"bq://cpg-cdp.trendspotting.labeled_training_jw_pl_png_hair_22\"\n",
    "\n",
    "aiplatform.init(project=PROJECT_ID, location=REGION)\n",
    "\n",
    "ds = aiplatform.TabularDataset.create(\n",
    "    display_name=dataset_display_name,\n",
    "    bq_source=path,\n",
    "    sync=True,\n",
    ")\n",
    "\n",
    "ds.wait()\n",
    "\n",
    "print(ds.display_name)\n",
    "print(ds.resource_name)"
   ]
  },
  {
   "cell_type": "markdown",
   "id": "5b9fc396-d77a-4c2b-859b-56e14d452f52",
   "metadata": {},
   "source": [
    "#### Train the model\n",
    "\n",
    "Below we get the column specs - manually created or you can copy/paste when manually creating an automl job from the dataset"
   ]
  },
  {
   "cell_type": "code",
   "execution_count": 55,
   "id": "e20b23df-bce5-42f4-8830-d07cf32a2956",
   "metadata": {},
   "outputs": [
    {
     "data": {
      "text/plain": [
       "[{'auto': {'columnName': 'date'}},\n",
       " {'auto': {'columnName': 'geo_id'}},\n",
       " {'auto': {'columnName': 'sentences'}},\n",
       " {'auto': {'columnName': 'series_id'}},\n",
       " {'auto': {'columnName': 'emb1'}},\n",
       " {'auto': {'columnName': 'emb2'}},\n",
       " {'auto': {'columnName': 'emb3'}},\n",
       " {'auto': {'columnName': 'emb4'}},\n",
       " {'auto': {'columnName': 'emb5'}},\n",
       " {'auto': {'columnName': 'emb6'}},\n",
       " {'auto': {'columnName': 'emb7'}},\n",
       " {'auto': {'columnName': 'emb8'}},\n",
       " {'auto': {'columnName': 'emb9'}},\n",
       " {'auto': {'columnName': 'emb10'}},\n",
       " {'auto': {'columnName': 'emb11'}},\n",
       " {'auto': {'columnName': 'emb12'}},\n",
       " {'auto': {'columnName': 'emb13'}},\n",
       " {'auto': {'columnName': 'emb14'}},\n",
       " {'auto': {'columnName': 'emb15'}},\n",
       " {'auto': {'columnName': 'emb16'}},\n",
       " {'auto': {'columnName': 'emb17'}},\n",
       " {'auto': {'columnName': 'emb18'}},\n",
       " {'auto': {'columnName': 'emb19'}},\n",
       " {'auto': {'columnName': 'emb20'}},\n",
       " {'auto': {'columnName': 'CENTROID_ID'}},\n",
       " {'auto': {'columnName': 'terms'}}]"
      ]
     },
     "execution_count": 55,
     "metadata": {},
     "output_type": "execute_result"
    }
   ],
   "source": [
    "from src.colspecs import col_spec\n",
    "col_spec"
   ]
  },
  {
   "cell_type": "code",
   "execution_count": null,
   "id": "669fe3dc-8936-4aa7-807b-8f1c4e973cfa",
   "metadata": {},
   "outputs": [],
   "source": [
    "model_display_name = 'class_jw_pl_png_hair_22_v2'\n",
    "train_budget_milli_node_hours = 1000\n",
    "\n",
    "\n",
    "\n",
    "tabular_classification_job = aiplatform.AutoMLTabularTrainingJob(\n",
    "        display_name=model_display_name, optimization_prediction_type=\"classification\",\n",
    "        column_transformations=col_spec\n",
    "    )\n",
    "\n",
    "\n",
    "model = tabular_classification_job.run(\n",
    "        dataset=ds,\n",
    "        target_column='label',\n",
    "        training_fraction_split=0.8,\n",
    "        validation_fraction_split=0.1,\n",
    "        test_fraction_split=0.1,\n",
    "        budget_milli_node_hours=train_budget_milli_node_hours,\n",
    "        model_display_name=model_display_name,\n",
    "        disable_early_stopping=False,\n",
    "        sync=True,\n",
    "    )\n",
    "\n",
    "model.wait()\n",
    "\n",
    "print(model.display_name)\n",
    "print(model.resource_name)\n",
    "print(model.uri)"
   ]
  },
  {
   "cell_type": "markdown",
   "id": "d0aa83e7-eeb1-4677-89f3-93de37336050",
   "metadata": {
    "tags": []
   },
   "source": [
    "### Create a batch prediction job to run against the `cpg-cdp.trendspotting.ETL_futurama_weekly_embed_aml_{SUFFIX}` table"
   ]
  },
  {
   "cell_type": "code",
   "execution_count": null,
   "id": "0aa50807-50c3-49b0-82f6-c313a22431cb",
   "metadata": {},
   "outputs": [],
   "source": [
    "# The AI Platform services require regional API endpoints.\n",
    "client_options = {\"api_endpoint\": \"us-central1-aiplatform.googleapis.com\"}\n",
    "# Initialize client that will be used to create and send requests.\n",
    "# This client only needs to be created once, and can be reused for multiple requests.\n",
    "client_v1beta = aiplatform_v1beta1.JobServiceClient(client_options=client_options)\n",
    "model_parameters_dict = {}\n",
    "model_parameters = json_format.ParseDict(model_parameters_dict, Value())\n",
    "\n",
    "batch_prediction_job = {\n",
    "    \"display_name\": display_name,\n",
    "    # Format: 'projects/{project}/locations/{location}/models/{model_id}'\n",
    "    \"model\": model_name,\n",
    "    \"model_parameters\": model_parameters,\n",
    "    \"input_config\": {\n",
    "        \"instances_format\": instances_format,\n",
    "        \"bigquery_source\": {\"input_uri\": bigquery_source_input_uri},\n",
    "    },\n",
    "    \"output_config\": {\n",
    "        \"predictions_format\": predictions_format,\n",
    "        \"bigquery_destination\": {\"output_uri\": bigquery_destination_output_uri},\n",
    "    },\n",
    "    # optional\n",
    "    \"generate_explanation\": True,\n",
    "}\n",
    "parent = f\"projects/{project}/locations/{location}\"\n",
    "response = client.create_batch_prediction_job(\n",
    "    parent=parent, batch_prediction_job=batch_prediction_job\n",
    ")\n",
    "print(\"response:\", response)"
   ]
  },
  {
   "cell_type": "markdown",
   "id": "7d2e7c5b-c036-45ea-99ea-583c4d84b4ad",
   "metadata": {},
   "source": [
    "## Unique data - possibly better model"
   ]
  },
  {
   "cell_type": "code",
   "execution_count": 6,
   "id": "f559d126-250d-4506-bdb3-156b72565b7e",
   "metadata": {},
   "outputs": [
    {
     "name": "stdout",
     "output_type": "stream",
     "text": [
      "CPU times: user 31 ms, sys: 0 ns, total: 31 ms\n",
      "Wall time: 9.42 s\n"
     ]
    },
    {
     "data": {
      "text/plain": [
       "<google.cloud.bigquery.table._EmptyRowIterator at 0x7f5a6821bc90>"
      ]
     },
     "execution_count": 6,
     "metadata": {},
     "output_type": "execute_result"
    }
   ],
   "source": [
    "%%time\n",
    "bq_client = bigquery.Client(PROJECT_ID)\n",
    "\n",
    "sql = f\"\"\" CREATE OR REPLACE TABLE\n",
    "  trendspotting.labeled_distinct_training_jw_pl_png_hair_22 AS (\n",
    "  SELECT DISTINCT\n",
    "    * EXCEPT(category_rank,\n",
    "      split_col, geo_id, date, count, CENTROID_ID)\n",
    "  FROM\n",
    "    cpg-cdp.trendspotting.ETL_futurama_weekly_embed_aml_pl_png_hair_22 a\n",
    "  INNER JOIN\n",
    "    trendspotting.labels_jw_pl_png_hair_22 b\n",
    "  ON\n",
    "    a.sentences = b.terms )\n",
    "\"\"\"\n",
    "\n",
    "bq_client.query(sql).result()"
   ]
  },
  {
   "cell_type": "code",
   "execution_count": 4,
   "id": "a1ee814e-3046-4f86-b181-6026f6f06686",
   "metadata": {},
   "outputs": [],
   "source": [
    "### BQML for classification"
   ]
  },
  {
   "cell_type": "code",
   "execution_count": 9,
   "id": "22f8690d-ad99-4c23-93e8-45dfd5519f54",
   "metadata": {},
   "outputs": [
    {
     "data": {
      "text/plain": [
       "<google.cloud.bigquery.table._EmptyRowIterator at 0x7f5a68214850>"
      ]
     },
     "execution_count": 9,
     "metadata": {},
     "output_type": "execute_result"
    }
   ],
   "source": [
    "sql = f\"\"\" CREATE OR REPLACE TABLE\n",
    "  trendspotting.labeled_distinct_training_jw_pl_png_hair_22 AS (\n",
    "  with distinct_data as (\n",
    "  SELECT DISTINCT\n",
    "    * EXCEPT(category_rank,\n",
    "      split_col, geo_id, date, count, CENTROID_ID),\n",
    "      rand() as rand_digit\n",
    "  FROM\n",
    "    cpg-cdp.trendspotting.ETL_futurama_weekly_embed_aml_pl_png_hair_22 a\n",
    "  INNER JOIN\n",
    "    trendspotting.labels_jw_pl_png_hair_22 b\n",
    "  ON\n",
    "    a.sentences = b.terms )\n",
    "  select * EXCEPT(rand_digit),\n",
    "  case when rand_digit > 0.9 then 'test' when rand_digit > 0.8 then 'valid' else 'train' end as dataframe\n",
    "  from distinct_data\n",
    "    )\n",
    "\"\"\"\n",
    "\n",
    "bq_client.query(sql).result()"
   ]
  },
  {
   "cell_type": "code",
   "execution_count": 11,
   "id": "a522e9c3-9a53-4be6-a7da-1a411720a842",
   "metadata": {},
   "outputs": [
    {
     "name": "stderr",
     "output_type": "stream",
     "text": [
      "Query complete after 0.00s: 100%|██████████| 3/3 [00:00<00:00, 2134.51query/s]                        \n"
     ]
    },
    {
     "data": {
      "text/html": [
       "<div>\n",
       "<style scoped>\n",
       "    .dataframe tbody tr th:only-of-type {\n",
       "        vertical-align: middle;\n",
       "    }\n",
       "\n",
       "    .dataframe tbody tr th {\n",
       "        vertical-align: top;\n",
       "    }\n",
       "\n",
       "    .dataframe thead th {\n",
       "        text-align: right;\n",
       "    }\n",
       "</style>\n",
       "<table border=\"1\" class=\"dataframe\">\n",
       "  <thead>\n",
       "    <tr style=\"text-align: right;\">\n",
       "      <th></th>\n",
       "    </tr>\n",
       "  </thead>\n",
       "  <tbody>\n",
       "  </tbody>\n",
       "</table>\n",
       "</div>"
      ],
      "text/plain": [
       "Empty DataFrame\n",
       "Columns: []\n",
       "Index: []"
      ]
     },
     "execution_count": 11,
     "metadata": {},
     "output_type": "execute_result"
    }
   ],
   "source": [
    "%%bigquery\n",
    "CREATE OR REPLACE MODEL\n",
    "  `trendspotting.bqml_distinct_pl_png_hair_22`\n",
    "OPTIONS\n",
    "  ( model_type='LOGISTIC_REG',\n",
    "    auto_class_weights=TRUE,\n",
    "    input_label_cols=['label']\n",
    "  ) AS\n",
    "SELECT\n",
    "  * EXCEPT(dataframe)\n",
    "FROM\n",
    "  `trendspotting.labeled_distinct_training_jw_pl_png_hair_22`\n",
    "WHERE\n",
    "  dataframe = 'train'"
   ]
  },
  {
   "cell_type": "code",
   "execution_count": 15,
   "id": "e1b0bd65-96af-4e1f-9f49-e8a02e618a91",
   "metadata": {},
   "outputs": [
    {
     "name": "stderr",
     "output_type": "stream",
     "text": [
      "Query complete after 0.00s: 100%|██████████| 8/8 [00:00<00:00, 5260.96query/s]                        \n",
      "Downloading: 100%|██████████| 1/1 [00:01<00:00,  1.12s/rows]\n"
     ]
    },
    {
     "data": {
      "text/html": [
       "<div>\n",
       "<style scoped>\n",
       "    .dataframe tbody tr th:only-of-type {\n",
       "        vertical-align: middle;\n",
       "    }\n",
       "\n",
       "    .dataframe tbody tr th {\n",
       "        vertical-align: top;\n",
       "    }\n",
       "\n",
       "    .dataframe thead th {\n",
       "        text-align: right;\n",
       "    }\n",
       "</style>\n",
       "<table border=\"1\" class=\"dataframe\">\n",
       "  <thead>\n",
       "    <tr style=\"text-align: right;\">\n",
       "      <th></th>\n",
       "      <th>precision</th>\n",
       "      <th>recall</th>\n",
       "      <th>accuracy</th>\n",
       "      <th>f1_score</th>\n",
       "      <th>log_loss</th>\n",
       "      <th>roc_auc</th>\n",
       "    </tr>\n",
       "  </thead>\n",
       "  <tbody>\n",
       "    <tr>\n",
       "      <th>0</th>\n",
       "      <td>1.0</td>\n",
       "      <td>1.0</td>\n",
       "      <td>1.0</td>\n",
       "      <td>1.0</td>\n",
       "      <td>7.694364e-07</td>\n",
       "      <td>1.0</td>\n",
       "    </tr>\n",
       "  </tbody>\n",
       "</table>\n",
       "</div>"
      ],
      "text/plain": [
       "   precision  recall  accuracy  f1_score      log_loss  roc_auc\n",
       "0        1.0     1.0       1.0       1.0  7.694364e-07      1.0"
      ]
     },
     "execution_count": 15,
     "metadata": {},
     "output_type": "execute_result"
    }
   ],
   "source": [
    "%%bigquery\n",
    "SELECT\n",
    "  *\n",
    "FROM\n",
    "  ML.EVALUATE (MODEL `trendspotting.bqml_distinct_pl_png_hair_22`,\n",
    "    (\n",
    "    SELECT\n",
    "      *\n",
    "    FROM\n",
    "      `trendspotting.labeled_distinct_training_jw_pl_png_hair_22`\n",
    "    WHERE\n",
    "      dataframe = 'test'\n",
    "    )\n",
    "  )"
   ]
  },
  {
   "cell_type": "markdown",
   "id": "4199cf84-97f7-485f-b78b-86333312777c",
   "metadata": {},
   "source": [
    "## Now predict on the entire dataset"
   ]
  },
  {
   "cell_type": "code",
   "execution_count": 21,
   "id": "046fa555-72be-4df1-824c-4987142ae8c9",
   "metadata": {},
   "outputs": [
    {
     "name": "stderr",
     "output_type": "stream",
     "text": [
      "Query complete after 0.00s: 100%|██████████| 30/30 [00:00<00:00, 13854.78query/s]                      \n"
     ]
    },
    {
     "data": {
      "text/html": [
       "<div>\n",
       "<style scoped>\n",
       "    .dataframe tbody tr th:only-of-type {\n",
       "        vertical-align: middle;\n",
       "    }\n",
       "\n",
       "    .dataframe tbody tr th {\n",
       "        vertical-align: top;\n",
       "    }\n",
       "\n",
       "    .dataframe thead th {\n",
       "        text-align: right;\n",
       "    }\n",
       "</style>\n",
       "<table border=\"1\" class=\"dataframe\">\n",
       "  <thead>\n",
       "    <tr style=\"text-align: right;\">\n",
       "      <th></th>\n",
       "    </tr>\n",
       "  </thead>\n",
       "  <tbody>\n",
       "  </tbody>\n",
       "</table>\n",
       "</div>"
      ],
      "text/plain": [
       "Empty DataFrame\n",
       "Columns: []\n",
       "Index: []"
      ]
     },
     "execution_count": 21,
     "metadata": {},
     "output_type": "execute_result"
    }
   ],
   "source": [
    "%%bigquery\n",
    "CREATE OR REPLACE TABLE cpg-cdp.trendspotting.classified_terms_bqml_aml_pl_png_hair_22 as (\n",
    "SELECT\n",
    "  *\n",
    "FROM\n",
    "  ML.PREDICT (MODEL `trendspotting.bqml_distinct_pl_png_hair_22`,\n",
    "    (\n",
    "    SELECT\n",
    "      *,\n",
    "        sentences as terms\n",
    "    FROM\n",
    "      `cpg-cdp.trendspotting.ETL_futurama_weekly_embed_aml_pl_png_hair_22`\n",
    "     )\n",
    "  )\n",
    ")"
   ]
  },
  {
   "cell_type": "markdown",
   "id": "30b6dd3a-4bb3-4114-b284-24512556b173",
   "metadata": {},
   "source": [
    "### Analysis this to see how well it classified terms"
   ]
  },
  {
   "cell_type": "markdown",
   "id": "30b23df4-0549-4a20-ba0d-33ec794045d7",
   "metadata": {},
   "source": [
    "### Basic counts"
   ]
  },
  {
   "cell_type": "code",
   "execution_count": 24,
   "id": "45ba9222-009b-4db1-aef1-1123194b74f0",
   "metadata": {},
   "outputs": [
    {
     "name": "stderr",
     "output_type": "stream",
     "text": [
      "Query complete after 0.00s: 100%|██████████| 2/2 [00:00<00:00, 1206.13query/s]                        \n",
      "Downloading: 100%|██████████| 7/7 [00:01<00:00,  5.71rows/s]\n"
     ]
    },
    {
     "data": {
      "text/html": [
       "<div>\n",
       "<style scoped>\n",
       "    .dataframe tbody tr th:only-of-type {\n",
       "        vertical-align: middle;\n",
       "    }\n",
       "\n",
       "    .dataframe tbody tr th {\n",
       "        vertical-align: top;\n",
       "    }\n",
       "\n",
       "    .dataframe thead th {\n",
       "        text-align: right;\n",
       "    }\n",
       "</style>\n",
       "<table border=\"1\" class=\"dataframe\">\n",
       "  <thead>\n",
       "    <tr style=\"text-align: right;\">\n",
       "      <th></th>\n",
       "      <th>predicted_label</th>\n",
       "      <th>count</th>\n",
       "    </tr>\n",
       "  </thead>\n",
       "  <tbody>\n",
       "    <tr>\n",
       "      <th>0</th>\n",
       "      <td>Hair Styling</td>\n",
       "      <td>295783310</td>\n",
       "    </tr>\n",
       "    <tr>\n",
       "      <th>1</th>\n",
       "      <td>Hair Straighteners and Relaxers</td>\n",
       "      <td>1783415</td>\n",
       "    </tr>\n",
       "    <tr>\n",
       "      <th>2</th>\n",
       "      <td>Scalp/Anti-Dandruff Products</td>\n",
       "      <td>891217</td>\n",
       "    </tr>\n",
       "    <tr>\n",
       "      <th>3</th>\n",
       "      <td>Hair Dyes &amp; Coloring</td>\n",
       "      <td>99345003</td>\n",
       "    </tr>\n",
       "    <tr>\n",
       "      <th>4</th>\n",
       "      <td>Damaged Hair</td>\n",
       "      <td>141862</td>\n",
       "    </tr>\n",
       "    <tr>\n",
       "      <th>5</th>\n",
       "      <td>Shampoos &amp; Conditioners</td>\n",
       "      <td>4544975</td>\n",
       "    </tr>\n",
       "    <tr>\n",
       "      <th>6</th>\n",
       "      <td>Hair Loss Products</td>\n",
       "      <td>15387134</td>\n",
       "    </tr>\n",
       "  </tbody>\n",
       "</table>\n",
       "</div>"
      ],
      "text/plain": [
       "                   predicted_label      count\n",
       "0                     Hair Styling  295783310\n",
       "1  Hair Straighteners and Relaxers    1783415\n",
       "2     Scalp/Anti-Dandruff Products     891217\n",
       "3             Hair Dyes & Coloring   99345003\n",
       "4                     Damaged Hair     141862\n",
       "5          Shampoos & Conditioners    4544975\n",
       "6               Hair Loss Products   15387134"
      ]
     },
     "execution_count": 24,
     "metadata": {},
     "output_type": "execute_result"
    }
   ],
   "source": [
    "%%bigquery\n",
    "select \n",
    "predicted_label, \n",
    "count(1) as count \n",
    "from cpg-cdp.trendspotting.classified_terms_bqml_aml_pl_png_hair_22 group by 1"
   ]
  },
  {
   "cell_type": "markdown",
   "id": "2b437e6e-56b1-4e56-9931-f43bb44c7fdf",
   "metadata": {},
   "source": [
    "### Examples\n",
    "Top n terms"
   ]
  },
  {
   "cell_type": "code",
   "execution_count": 37,
   "id": "ecacbcbd-3e17-43cb-ae40-8e45fffded76",
   "metadata": {},
   "outputs": [
    {
     "name": "stderr",
     "output_type": "stream",
     "text": [
      "Query complete after 0.00s: 100%|██████████| 5/5 [00:00<00:00, 2734.23query/s]                        \n",
      "Downloading: 100%|██████████| 20/20 [00:01<00:00, 18.71rows/s]\n"
     ]
    },
    {
     "data": {
      "text/html": [
       "<div>\n",
       "<style scoped>\n",
       "    .dataframe tbody tr th:only-of-type {\n",
       "        vertical-align: middle;\n",
       "    }\n",
       "\n",
       "    .dataframe tbody tr th {\n",
       "        vertical-align: top;\n",
       "    }\n",
       "\n",
       "    .dataframe thead th {\n",
       "        text-align: right;\n",
       "    }\n",
       "</style>\n",
       "<table border=\"1\" class=\"dataframe\">\n",
       "  <thead>\n",
       "    <tr style=\"text-align: right;\">\n",
       "      <th></th>\n",
       "      <th>predicted_label</th>\n",
       "      <th>sentences</th>\n",
       "      <th>count</th>\n",
       "    </tr>\n",
       "  </thead>\n",
       "  <tbody>\n",
       "    <tr>\n",
       "      <th>0</th>\n",
       "      <td>Hair Styling</td>\n",
       "      <td>hair salons near me</td>\n",
       "      <td>12361</td>\n",
       "    </tr>\n",
       "    <tr>\n",
       "      <th>1</th>\n",
       "      <td>Hair Styling</td>\n",
       "      <td>curtain bangs</td>\n",
       "      <td>12331</td>\n",
       "    </tr>\n",
       "    <tr>\n",
       "      <th>2</th>\n",
       "      <td>Hair Styling</td>\n",
       "      <td>haircut near me</td>\n",
       "      <td>12331</td>\n",
       "    </tr>\n",
       "    <tr>\n",
       "      <th>3</th>\n",
       "      <td>Hair Styling</td>\n",
       "      <td>mullet</td>\n",
       "      <td>12328</td>\n",
       "    </tr>\n",
       "    <tr>\n",
       "      <th>4</th>\n",
       "      <td>Hair Styling</td>\n",
       "      <td>mens haircuts</td>\n",
       "      <td>12325</td>\n",
       "    </tr>\n",
       "    <tr>\n",
       "      <th>5</th>\n",
       "      <td>Hair Styling</td>\n",
       "      <td>haircut</td>\n",
       "      <td>12324</td>\n",
       "    </tr>\n",
       "    <tr>\n",
       "      <th>6</th>\n",
       "      <td>Hair Styling</td>\n",
       "      <td>barber shops near me</td>\n",
       "      <td>12319</td>\n",
       "    </tr>\n",
       "    <tr>\n",
       "      <th>7</th>\n",
       "      <td>Hair Styling</td>\n",
       "      <td>barbershop near me</td>\n",
       "      <td>12319</td>\n",
       "    </tr>\n",
       "    <tr>\n",
       "      <th>8</th>\n",
       "      <td>Hair Styling</td>\n",
       "      <td>sallys</td>\n",
       "      <td>12317</td>\n",
       "    </tr>\n",
       "    <tr>\n",
       "      <th>9</th>\n",
       "      <td>Hair Styling</td>\n",
       "      <td>short haircuts for women</td>\n",
       "      <td>12312</td>\n",
       "    </tr>\n",
       "    <tr>\n",
       "      <th>10</th>\n",
       "      <td>Hair Styling</td>\n",
       "      <td>pixie cut</td>\n",
       "      <td>12308</td>\n",
       "    </tr>\n",
       "    <tr>\n",
       "      <th>11</th>\n",
       "      <td>Hair Styling</td>\n",
       "      <td>short haircuts</td>\n",
       "      <td>12306</td>\n",
       "    </tr>\n",
       "    <tr>\n",
       "      <th>12</th>\n",
       "      <td>Hair Styling</td>\n",
       "      <td>hair salon near me</td>\n",
       "      <td>12302</td>\n",
       "    </tr>\n",
       "    <tr>\n",
       "      <th>13</th>\n",
       "      <td>Hair Styling</td>\n",
       "      <td>barber shop</td>\n",
       "      <td>12276</td>\n",
       "    </tr>\n",
       "    <tr>\n",
       "      <th>14</th>\n",
       "      <td>Hair Styling</td>\n",
       "      <td>short hair styles</td>\n",
       "      <td>12274</td>\n",
       "    </tr>\n",
       "    <tr>\n",
       "      <th>15</th>\n",
       "      <td>Hair Styling</td>\n",
       "      <td>barber</td>\n",
       "      <td>12274</td>\n",
       "    </tr>\n",
       "    <tr>\n",
       "      <th>16</th>\n",
       "      <td>Hair Styling</td>\n",
       "      <td>hairstyles</td>\n",
       "      <td>12264</td>\n",
       "    </tr>\n",
       "    <tr>\n",
       "      <th>17</th>\n",
       "      <td>Hair Styling</td>\n",
       "      <td>balayage</td>\n",
       "      <td>12257</td>\n",
       "    </tr>\n",
       "    <tr>\n",
       "      <th>18</th>\n",
       "      <td>Hair Styling</td>\n",
       "      <td>fade haircut</td>\n",
       "      <td>12251</td>\n",
       "    </tr>\n",
       "    <tr>\n",
       "      <th>19</th>\n",
       "      <td>Hair Styling</td>\n",
       "      <td>mullet haircut</td>\n",
       "      <td>12249</td>\n",
       "    </tr>\n",
       "  </tbody>\n",
       "</table>\n",
       "</div>"
      ],
      "text/plain": [
       "   predicted_label                 sentences  count\n",
       "0     Hair Styling       hair salons near me  12361\n",
       "1     Hair Styling             curtain bangs  12331\n",
       "2     Hair Styling           haircut near me  12331\n",
       "3     Hair Styling                    mullet  12328\n",
       "4     Hair Styling             mens haircuts  12325\n",
       "5     Hair Styling                   haircut  12324\n",
       "6     Hair Styling      barber shops near me  12319\n",
       "7     Hair Styling        barbershop near me  12319\n",
       "8     Hair Styling                    sallys  12317\n",
       "9     Hair Styling  short haircuts for women  12312\n",
       "10    Hair Styling                 pixie cut  12308\n",
       "11    Hair Styling            short haircuts  12306\n",
       "12    Hair Styling        hair salon near me  12302\n",
       "13    Hair Styling               barber shop  12276\n",
       "14    Hair Styling         short hair styles  12274\n",
       "15    Hair Styling                    barber  12274\n",
       "16    Hair Styling                hairstyles  12264\n",
       "17    Hair Styling                  balayage  12257\n",
       "18    Hair Styling              fade haircut  12251\n",
       "19    Hair Styling            mullet haircut  12249"
      ]
     },
     "execution_count": 37,
     "metadata": {},
     "output_type": "execute_result"
    }
   ],
   "source": [
    "%%bigquery\n",
    "with distinct_counts as (select distinct predicted_label, sentences, count(1) as count from cpg-cdp.trendspotting.classified_terms_bqml_aml_pl_png_hair_22 group by 1,2)\n",
    "select\n",
    "predicted_label, sentences, count\n",
    "from distinct_counts where predicted_label = 'Hair Styling' order by count desc limit 20"
   ]
  },
  {
   "cell_type": "markdown",
   "id": "f5779f4c-e9c9-452f-b9b0-b518e54e67e8",
   "metadata": {},
   "source": [
    "### Examine the probabilities "
   ]
  },
  {
   "cell_type": "code",
   "execution_count": 39,
   "id": "50bd6525-4461-4352-96eb-367e7268061b",
   "metadata": {},
   "outputs": [
    {
     "name": "stderr",
     "output_type": "stream",
     "text": [
      "Query complete after 0.00s: 100%|██████████| 1/1 [00:00<00:00, 927.12query/s] \n",
      "Downloading: 100%|██████████| 20/20 [00:01<00:00, 19.66rows/s]\n"
     ]
    }
   ],
   "source": [
    "%%bigquery predicted_probs\n",
    "WITH\n",
    "  distinct_counts AS (\n",
    "  SELECT\n",
    "    DISTINCT predicted_label,\n",
    "    sentences,\n",
    "    COUNT(1) AS count\n",
    "  FROM\n",
    "    cpg-cdp.trendspotting.classified_terms_bqml_aml_pl_png_hair_22\n",
    "  GROUP BY\n",
    "    1,\n",
    "    2)\n",
    "SELECT\n",
    "  a.predicted_label,\n",
    "  a.sentences,\n",
    "  count,\n",
    "  b.predicted_label_probs\n",
    "FROM\n",
    "  distinct_counts a\n",
    "INNER JOIN\n",
    "  cpg-cdp.trendspotting.classified_terms_bqml_aml_pl_png_hair_22 b\n",
    "ON\n",
    "  a.sentences = b.sentences\n",
    "WHERE\n",
    "  a.predicted_label = 'Hair Styling'\n",
    "ORDER BY\n",
    "  count DESC\n",
    "LIMIT\n",
    "  20"
   ]
  },
  {
   "cell_type": "code",
   "execution_count": 46,
   "id": "d43abdc1-8d96-45a2-8e49-01c9b1845dbb",
   "metadata": {},
   "outputs": [
    {
     "name": "stdout",
     "output_type": "stream",
     "text": [
      "hair salons near me [{'label': 'Hair Styling', 'prob': 0.6659966652121528}\n",
      " {'label': 'Scalp/Anti-Dandruff Products', 'prob': 0.06550108975260646}\n",
      " {'label': 'Damaged Hair', 'prob': 0.06313380901178574}\n",
      " {'label': 'Hair Dyes & Coloring', 'prob': 0.05953301587697524}\n",
      " {'label': 'Hair Straighteners and Relaxers', 'prob': 0.05402233680822926}\n",
      " {'label': 'Shampoos & Conditioners', 'prob': 0.048485963395612244}\n",
      " {'label': 'Hair Loss Products', 'prob': 0.043327119942638236}]\n",
      "hair salons near me [{'label': 'Hair Styling', 'prob': 0.6659966652121528}\n",
      " {'label': 'Scalp/Anti-Dandruff Products', 'prob': 0.06550108975260646}\n",
      " {'label': 'Damaged Hair', 'prob': 0.06313380901178574}\n",
      " {'label': 'Hair Dyes & Coloring', 'prob': 0.05953301587697524}\n",
      " {'label': 'Hair Straighteners and Relaxers', 'prob': 0.05402233680822926}\n",
      " {'label': 'Shampoos & Conditioners', 'prob': 0.048485963395612244}\n",
      " {'label': 'Hair Loss Products', 'prob': 0.043327119942638236}]\n",
      "hair salons near me [{'label': 'Hair Styling', 'prob': 0.6659966652121528}\n",
      " {'label': 'Scalp/Anti-Dandruff Products', 'prob': 0.06550108975260646}\n",
      " {'label': 'Damaged Hair', 'prob': 0.06313380901178574}\n",
      " {'label': 'Hair Dyes & Coloring', 'prob': 0.05953301587697524}\n",
      " {'label': 'Hair Straighteners and Relaxers', 'prob': 0.05402233680822926}\n",
      " {'label': 'Shampoos & Conditioners', 'prob': 0.048485963395612244}\n",
      " {'label': 'Hair Loss Products', 'prob': 0.043327119942638236}]\n",
      "hair salons near me [{'label': 'Hair Styling', 'prob': 0.6659966652121528}\n",
      " {'label': 'Scalp/Anti-Dandruff Products', 'prob': 0.06550108975260646}\n",
      " {'label': 'Damaged Hair', 'prob': 0.06313380901178574}\n",
      " {'label': 'Hair Dyes & Coloring', 'prob': 0.05953301587697524}\n",
      " {'label': 'Hair Straighteners and Relaxers', 'prob': 0.05402233680822926}\n",
      " {'label': 'Shampoos & Conditioners', 'prob': 0.048485963395612244}\n",
      " {'label': 'Hair Loss Products', 'prob': 0.043327119942638236}]\n",
      "hair salons near me [{'label': 'Hair Styling', 'prob': 0.6659966652121528}\n",
      " {'label': 'Scalp/Anti-Dandruff Products', 'prob': 0.06550108975260646}\n",
      " {'label': 'Damaged Hair', 'prob': 0.06313380901178574}\n",
      " {'label': 'Hair Dyes & Coloring', 'prob': 0.05953301587697524}\n",
      " {'label': 'Hair Straighteners and Relaxers', 'prob': 0.05402233680822926}\n",
      " {'label': 'Shampoos & Conditioners', 'prob': 0.048485963395612244}\n",
      " {'label': 'Hair Loss Products', 'prob': 0.043327119942638236}]\n"
     ]
    }
   ],
   "source": [
    "for i in range(5):\n",
    "    print(predicted_probs.sentences[i], predicted_probs.predicted_label_probs[i])"
   ]
  },
  {
   "cell_type": "code",
   "execution_count": null,
   "id": "0bbfbb49-eeca-4c33-9247-4ed0c0d58af4",
   "metadata": {},
   "outputs": [],
   "source": []
  }
 ],
 "metadata": {
  "environment": {
   "kernel": "python3",
   "name": "tf2-gpu.2-7.m87",
   "type": "gcloud",
   "uri": "gcr.io/deeplearning-platform-release/tf2-gpu.2-7:m87"
  },
  "kernelspec": {
   "display_name": "Python 3",
   "language": "python",
   "name": "python3"
  },
  "language_info": {
   "codemirror_mode": {
    "name": "ipython",
    "version": 3
   },
   "file_extension": ".py",
   "mimetype": "text/x-python",
   "name": "python",
   "nbconvert_exporter": "python",
   "pygments_lexer": "ipython3",
   "version": "3.7.12"
  }
 },
 "nbformat": 4,
 "nbformat_minor": 5
}
