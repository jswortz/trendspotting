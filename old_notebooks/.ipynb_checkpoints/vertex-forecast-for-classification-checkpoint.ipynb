{
 "cells": [
  {
   "cell_type": "code",
   "execution_count": 2,
   "id": "5daa4ea3-4b62-494b-a9f2-475c5bdab5e3",
   "metadata": {},
   "outputs": [],
   "source": [
    "PROJECT_ID = 'cpg-cdp'\n",
    "REGION = 'us-central1'"
   ]
  },
  {
   "cell_type": "code",
   "execution_count": 6,
   "id": "92e07c46-10eb-48dd-a022-f7ef413bab3f",
   "metadata": {},
   "outputs": [
    {
     "name": "stdout",
     "output_type": "stream",
     "text": [
      "CPU times: user 28.2 ms, sys: 6.15 ms, total: 34.3 ms\n",
      "Wall time: 15.3 s\n"
     ]
    },
    {
     "data": {
      "text/plain": [
       "<google.cloud.bigquery.table._EmptyRowIterator at 0x7fda71358e90>"
      ]
     },
     "execution_count": 6,
     "metadata": {},
     "output_type": "execute_result"
    }
   ],
   "source": [
    "%%time\n",
    "bq_client = bigquery.Client(PROJECT_ID)\n",
    "\n",
    "sql = f\"\"\" CREATE OR REPLACE TABLE\n",
    "  trendspotting.labeled_training_jw_pl_png_hair_22 AS (\n",
    "  SELECT\n",
    "    * EXCEPT(category_rank,\n",
    "      split_col)\n",
    "  FROM\n",
    "    cpg-cdp.trendspotting.ETL_futurama_weekly_embed_aml_pl_png_hair_22 a\n",
    "  INNER JOIN\n",
    "    trendspotting.labels_jw_pl_png_hair_22 b\n",
    "  ON\n",
    "    a.sentences = b.terms )\n",
    "\"\"\"\n",
    "\n",
    "bq_client.query(sql).result()"
   ]
  },
  {
   "cell_type": "markdown",
   "id": "ef1cdb91-32fb-405a-b0e7-46984c4999db",
   "metadata": {},
   "source": [
    "### Create a managed dataset for an autoML model to classify the new categories"
   ]
  },
  {
   "cell_type": "code",
   "execution_count": 4,
   "id": "12f56a83-2785-467e-8f4b-e12a74fe21bb",
   "metadata": {
    "tags": []
   },
   "outputs": [
    {
     "name": "stdout",
     "output_type": "stream",
     "text": [
      "INFO:google.cloud.aiplatform.datasets.dataset:Creating TabularDataset\n",
      "INFO:google.cloud.aiplatform.datasets.dataset:Create TabularDataset backing LRO: projects/939655404703/locations/us-central1/datasets/8568206043211890688/operations/4500666473944973312\n",
      "INFO:google.cloud.aiplatform.datasets.dataset:TabularDataset created. Resource name: projects/939655404703/locations/us-central1/datasets/8568206043211890688\n",
      "INFO:google.cloud.aiplatform.datasets.dataset:To use this TabularDataset in another session:\n",
      "INFO:google.cloud.aiplatform.datasets.dataset:ds = aiplatform.TabularDataset('projects/939655404703/locations/us-central1/datasets/8568206043211890688')\n",
      "classification_jw_pl_png_hair_22\n",
      "projects/939655404703/locations/us-central1/datasets/8568206043211890688\n"
     ]
    }
   ],
   "source": [
    "from typing import List, Union\n",
    "\n",
    "from google.cloud import aiplatform\n",
    "\n",
    "\n",
    "dataset_display_name = \"classification_jw_pl_png_hair_22\"\n",
    "path = \"bq://cpg-cdp.trendspotting.labeled_distinct_training_jw_pl_png_hair_22\"\n",
    "\n",
    "aiplatform.init(project=PROJECT_ID, location=REGION)\n",
    "\n",
    "ds = aiplatform.TabularDataset.create(\n",
    "    display_name=dataset_display_name,\n",
    "    bq_source=path,\n",
    "    sync=True,\n",
    ")\n",
    "\n",
    "ds.wait()\n",
    "\n",
    "print(ds.display_name)\n",
    "print(ds.resource_name)"
   ]
  },
  {
   "cell_type": "markdown",
   "id": "e1b92d3d-5366-436a-bd6b-a99711e0e7b1",
   "metadata": {},
   "source": [
    "#### Train the model\n",
    "\n",
    "Below we get the column specs - manually created or you can copy/paste when manually creating an automl job from the dataset"
   ]
  },
  {
   "cell_type": "code",
   "execution_count": 7,
   "id": "7e99ca08-c205-4dc8-8e45-1f44beb30414",
   "metadata": {},
   "outputs": [],
   "source": [
    "col_spec = [{'auto': {'columnName': 'sentences'}},\n",
    " {'auto': {'columnName': 'emb1'}},\n",
    " {'auto': {'columnName': 'emb2'}},\n",
    " {'auto': {'columnName': 'emb3'}},\n",
    " {'auto': {'columnName': 'emb4'}},\n",
    " {'auto': {'columnName': 'emb5'}},\n",
    " {'auto': {'columnName': 'emb6'}},\n",
    " {'auto': {'columnName': 'emb7'}},\n",
    " {'auto': {'columnName': 'emb8'}},\n",
    " {'auto': {'columnName': 'emb9'}},\n",
    " {'auto': {'columnName': 'emb10'}},\n",
    " {'auto': {'columnName': 'emb11'}},\n",
    " {'auto': {'columnName': 'emb12'}},\n",
    " {'auto': {'columnName': 'emb13'}},\n",
    " {'auto': {'columnName': 'emb14'}},\n",
    " {'auto': {'columnName': 'emb15'}},\n",
    " {'auto': {'columnName': 'emb16'}},\n",
    " {'auto': {'columnName': 'emb17'}},\n",
    " {'auto': {'columnName': 'emb18'}},\n",
    " {'auto': {'columnName': 'emb19'}},\n",
    " {'auto': {'columnName': 'emb20'}},\n",
    " {'auto': {'columnName': 'terms'}}]"
   ]
  },
  {
   "cell_type": "code",
   "execution_count": null,
   "id": "43aba5aa-36a9-46d3-8cd9-15ab387bd92a",
   "metadata": {},
   "outputs": [
    {
     "name": "stderr",
     "output_type": "stream",
     "text": [
      "/opt/conda/lib/python3.7/site-packages/google/cloud/aiplatform/training_jobs.py:3345: DeprecationWarning: consider using column_specs instead. column_transformations will be deprecated in the future.\n",
      "  column_specs, column_transformations\n"
     ]
    }
   ],
   "source": [
    "model_display_name = 'class_jw_pl_png_hair_22_v2'\n",
    "train_budget_milli_node_hours = 1000\n",
    "\n",
    "\n",
    "\n",
    "tabular_classification_job = aiplatform.AutoMLTabularTrainingJob(\n",
    "        display_name=model_display_name, optimization_prediction_type=\"classification\",\n",
    "        column_transformations=col_spec\n",
    "    )\n",
    "\n",
    "\n",
    "model = tabular_classification_job.run(\n",
    "        dataset=ds,\n",
    "        target_column='label',\n",
    "        predefined_split_column_name='dataframe',\n",
    "        budget_milli_node_hours=train_budget_milli_node_hours,\n",
    "        model_display_name=model_display_name,\n",
    "        disable_early_stopping=False,\n",
    "        sync=True,\n",
    "    )\n",
    "\n",
    "model.wait()\n",
    "\n",
    "print(model.display_name)\n",
    "print(model.resource_name)\n",
    "print(model.uri)"
   ]
  },
  {
   "cell_type": "markdown",
   "id": "f3bc5b49-bbc0-4c84-bd73-3ced9ad84b95",
   "metadata": {
    "tags": []
   },
   "source": [
    "### Create a batch prediction job to run against the `cpg-cdp.trendspotting.ETL_futurama_weekly_embed_aml_{SUFFIX}` table"
   ]
  },
  {
   "cell_type": "code",
   "execution_count": null,
   "id": "11a12ea2-8e21-473e-a568-05717a705aa2",
   "metadata": {},
   "outputs": [],
   "source": [
    "# The AI Platform services require regional API endpoints.\n",
    "client_options = {\"api_endpoint\": \"us-central1-aiplatform.googleapis.com\"}\n",
    "# Initialize client that will be used to create and send requests.\n",
    "# This client only needs to be created once, and can be reused for multiple requests.\n",
    "client_v1beta = aiplatform_v1beta1.JobServiceClient(client_options=client_options)\n",
    "model_parameters_dict = {}\n",
    "model_parameters = json_format.ParseDict(model_parameters_dict, Value())\n",
    "\n",
    "batch_prediction_job = {\n",
    "    \"display_name\": display_name,\n",
    "    # Format: 'projects/{project}/locations/{location}/models/{model_id}'\n",
    "    \"model\": model_name,\n",
    "    \"model_parameters\": model_parameters,\n",
    "    \"input_config\": {\n",
    "        \"instances_format\": instances_format,\n",
    "        \"bigquery_source\": {\"input_uri\": bigquery_source_input_uri},\n",
    "    },\n",
    "    \"output_config\": {\n",
    "        \"predictions_format\": predictions_format,\n",
    "        \"bigquery_destination\": {\"output_uri\": bigquery_destination_output_uri},\n",
    "    },\n",
    "    # optional\n",
    "    \"generate_explanation\": True,\n",
    "}\n",
    "parent = f\"projects/{project}/locations/{location}\"\n",
    "response = client.create_batch_prediction_job(\n",
    "    parent=parent, batch_prediction_job=batch_prediction_job\n",
    ")\n",
    "print(\"response:\", response)"
   ]
  }
 ],
 "metadata": {
  "environment": {
   "kernel": "python3",
   "name": "tf2-gpu.2-7.m87",
   "type": "gcloud",
   "uri": "gcr.io/deeplearning-platform-release/tf2-gpu.2-7:m87"
  },
  "kernelspec": {
   "display_name": "Python 3",
   "language": "python",
   "name": "python3"
  },
  "language_info": {
   "codemirror_mode": {
    "name": "ipython",
    "version": 3
   },
   "file_extension": ".py",
   "mimetype": "text/x-python",
   "name": "python",
   "nbconvert_exporter": "python",
   "pygments_lexer": "ipython3",
   "version": "3.7.12"
  }
 },
 "nbformat": 4,
 "nbformat_minor": 5
}
