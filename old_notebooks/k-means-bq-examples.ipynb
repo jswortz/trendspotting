{
 "cells": [
  {
   "cell_type": "markdown",
   "id": "f3c875b0-519a-43d5-81d6-4cefc8ce9471",
   "metadata": {},
   "source": [
    "# BQ ML K-Means Examples\n",
    "\n",
    "This notebook shows how K-means is being and can be used to find insights in the search data"
   ]
  },
  {
   "cell_type": "code",
   "execution_count": 34,
   "id": "b612a103-b0ce-4f3d-a1a8-3d55c70e94c5",
   "metadata": {},
   "outputs": [],
   "source": [
    "from google.cloud import bigquery\n",
    "\n",
    "\n",
    "PREDICTED_ON_DATE = '2021-06-06'\n",
    "FORECAST_WEEKS = 30\n",
    "project = 'cpg-cdp'\n",
    "source_table = 'prqedict_c52_h52_fixed'"
   ]
  },
  {
   "cell_type": "code",
   "execution_count": 35,
   "id": "09b75a8e-b45e-46ca-aadc-cee5ce342da4",
   "metadata": {},
   "outputs": [],
   "source": [
    "bq_client = bigquery.Client(project=project)"
   ]
  },
  {
   "cell_type": "markdown",
   "id": "5e1cf972-c227-4468-bb4f-9ad4abbe5ecc",
   "metadata": {},
   "source": [
    "### Utilized in the pipeline (Can be changed)"
   ]
  },
  {
   "cell_type": "code",
   "execution_count": 36,
   "id": "7f18e797-66c4-4a08-b239-69c321594657",
   "metadata": {},
   "outputs": [
    {
     "data": {
      "text/plain": [
       "<google.cloud.bigquery.table._EmptyRowIterator at 0x7ff474f6cf90>"
      ]
     },
     "execution_count": 36,
     "metadata": {},
     "output_type": "execute_result"
    }
   ],
   "source": [
    "bq_client.query(\n",
    "      f\"\"\"\n",
    "create table if not exists `{project}.trendspotting.cluster_train_{PREDICTED_ON_DATE}_{FORECAST_WEEKS}` as (\n",
    "    with six_mo_val as (select *, predicted_category_rank.value as six_mo_forecast from `cpg-cdp.trendspotting.{source_table}` where predicted_on_date = '2021-06-06' and date = '2021-12-26')\n",
    "    , three_mo_val as (select series_id, predicted_category_rank.value as three_mo_forecast from `cpg-cdp.trendspotting.{source_table}` where predicted_on_date = '2021-06-06' and date = '2021-09-26')\n",
    "    , one_mo_val as (select series_id, predicted_category_rank.value as one_mo_forecast from `cpg-cdp.trendspotting.{source_table}` where predicted_on_date = '2021-06-06' and date = '2021-07-11')\n",
    "    , actuals as (select distinct series_id, max(category_rank_int) as current_rank from `cpg-cdp.trendspotting.{source_table}` where predicted_on_date = '2021-06-06' and date = '2021-06-06' group by series_id)\n",
    "    select a.* \n",
    "        except(predicted_category_rank, split_col,category_rank, category_rank_int, series_id), \n",
    "        b.three_mo_forecast, \n",
    "        c.one_mo_forecast, \n",
    "        d.current_rank\n",
    "    from six_mo_val a\n",
    "        inner join three_mo_val b on (a.series_id = b.series_id)  \n",
    "        inner join one_mo_val c on (a.series_id = c.series_id)\n",
    "        inner join actuals d on (a.series_id = d.series_id)\n",
    "        )\n",
    "          \"\"\").result()"
   ]
  },
  {
   "cell_type": "code",
   "execution_count": null,
   "id": "f1ce3089-a232-4556-a641-75487b1dc39d",
   "metadata": {},
   "outputs": [],
   "source": [
    "bq_client.query(\n",
    "      f\"\"\"\n",
    "CREATE OR REPLACE MODEL\n",
    "  trendspotting.50_clusters_draft OPTIONS(model_type='kmeans',\n",
    "  kmeans_init_method = 'KMEANS++',\n",
    "  STANDARDIZE_FEATURES = True,\n",
    "    num_clusters=50) AS (\n",
    "  select * from (  \n",
    "    with six_mo_val as (select *, predicted_category_rank.value as six_mo_forecast from `cpg-cdp.trendspotting.{source_table}` where predicted_on_date = '2021-06-06' and date = '2021-12-26')\n",
    "    , three_mo_val as (select series_id, predicted_category_rank.value as three_mo_forecast from `cpg-cdp.trendspotting.{source_table}` where predicted_on_date = '2021-06-06' and date = '2021-09-26')\n",
    "    , one_mo_val as (select series_id, predicted_category_rank.value as one_mo_forecast from `cpg-cdp.trendspotting.{source_table}` where predicted_on_date = '2021-06-06' and date = '2021-07-11')\n",
    "    , actuals as (select distinct series_id, max(category_rank_int) as current_rank from `cpg-cdp.trendspotting.{source_table}` where predicted_on_date = '2021-06-06' and date = '2021-06-06' group by series_id)\n",
    "    select a.* \n",
    "        except(date, predicted_on_date, predicted_category_rank, split_col,category_rank, category_rank_int, series_id), \n",
    "        b.three_mo_forecast, \n",
    "        c.one_mo_forecast, \n",
    "        d.current_rank,\n",
    "        six_mo_forecast - d.current_rank as delta_rank\n",
    "    from six_mo_val a\n",
    "        inner join three_mo_val b on (a.series_id = b.series_id)  \n",
    "        inner join one_mo_val c on (a.series_id = c.series_id)\n",
    "        inner join actuals d on (a.series_id = d.series_id)\n",
    "        )) order by delta_rank limit 500\n",
    "          \"\"\").result()"
   ]
  },
  {
   "cell_type": "markdown",
   "id": "e752980c-dd3f-4bc8-9835-00cc1b5e3cd8",
   "metadata": {},
   "source": [
    "### These queries filter results from the forecast to be used in k-means"
   ]
  },
  {
   "cell_type": "code",
   "execution_count": 21,
   "id": "918ff1fa-4b9d-45a7-b514-d7f545168c13",
   "metadata": {},
   "outputs": [
    {
     "data": {
      "text/plain": [
       "<google.cloud.bigquery.table._EmptyRowIterator at 0x7ff4749e5e10>"
      ]
     },
     "execution_count": 21,
     "metadata": {},
     "output_type": "execute_result"
    }
   ],
   "source": [
    "bq_client.query(\n",
    "      f\"\"\"\n",
    "CREATE OR REPLACE MODEL\n",
    "  trendspotting.50_clusters_draft_top500_filtered OPTIONS(model_type='kmeans',\n",
    "  kmeans_init_method = 'KMEANS++',\n",
    "    num_clusters=50) AS (\n",
    "    \n",
    "    with data as \n",
    "(\n",
    "    SELECT term, avg(predicted_category_rank.value) as predicted_rank, avg(category_rank_int) as category_rank FROM `cpg-cdp.trendspotting.predict_c52_h52_fixed` \n",
    "    where predicted_on_date = \n",
    "    '2021-06-06' and date = '2021-12-26' group by term)\n",
    "\n",
    "select * from data\n",
    "order by predicted_rank desc LIMIT 500\n",
    "        )\n",
    "          \"\"\").result()"
   ]
  },
  {
   "cell_type": "markdown",
   "id": "d96830cb-bd69-4b8c-8fa0-baed5668fdd5",
   "metadata": {},
   "source": [
    "### This one looks at the difference between actual and predicted six months out"
   ]
  },
  {
   "cell_type": "code",
   "execution_count": 32,
   "id": "d8e41f26-a396-48b2-bde8-b1368050124c",
   "metadata": {},
   "outputs": [
    {
     "data": {
      "text/plain": [
       "<google.cloud.bigquery.table._EmptyRowIterator at 0x7ff474a29390>"
      ]
     },
     "execution_count": 32,
     "metadata": {},
     "output_type": "execute_result"
    }
   ],
   "source": [
    "bq_client.query(\n",
    "      f\"\"\"\n",
    "CREATE OR REPLACE MODEL\n",
    "  trendspotting.50_clusters_draft_top500_filtered_change OPTIONS(model_type='kmeans',\n",
    "  kmeans_init_method = 'KMEANS++',\n",
    "    num_clusters=50) AS (\n",
    "    \n",
    "    with data as \n",
    "(\n",
    "    SELECT *, \n",
    "    category_rank_int - predicted_category_rank.value as six_mo_change\n",
    "    FROM `cpg-cdp.trendspotting.predict_c52_h52_fixed` \n",
    "    where predicted_on_date = \n",
    "    '2021-06-06' and date = '2021-12-26')\n",
    "\n",
    "select * from data\n",
    "order by six_mo_change desc LIMIT 5000\n",
    "        )\n",
    "          \"\"\").result()"
   ]
  },
  {
   "cell_type": "code",
   "execution_count": 42,
   "id": "c02459ae-5eb2-4650-8955-3578455da345",
   "metadata": {},
   "outputs": [
    {
     "data": {
      "text/plain": [
       "<google.cloud.bigquery.table._EmptyRowIterator at 0x7ff4748c81d0>"
      ]
     },
     "execution_count": 42,
     "metadata": {},
     "output_type": "execute_result"
    }
   ],
   "source": [
    "bq_client.query(\n",
    "      f\"\"\"\n",
    "CREATE OR REPLACE MODEL\n",
    "  trendspotting.50_clusters_draft_top500_filtered_change OPTIONS(model_type='kmeans',\n",
    "  kmeans_init_method = 'KMEANS++',\n",
    "  STANDARDIZE_FEATURES = True,\n",
    "    num_clusters=50) AS (\n",
    "    \n",
    " with data as (select *, current_rank - six_mo_forecast as six_mo_delta\n",
    " from `{project}.trendspotting.cluster_train_{PREDICTED_ON_DATE}_{FORECAST_WEEKS}`\n",
    "        )\n",
    "    select * except(date, predicted_on_date) from data \n",
    "    order by six_mo_delta desc limit 500\n",
    "    )\n",
    "          \"\"\").result()"
   ]
  },
  {
   "cell_type": "code",
   "execution_count": 51,
   "id": "d0eab7da-286c-454b-b0c0-da911e993014",
   "metadata": {},
   "outputs": [],
   "source": [
    "### Cosine distance use this"
   ]
  },
  {
   "cell_type": "code",
   "execution_count": 128,
   "id": "40a15cdd-bd2f-4302-bdf7-52fe7dc3fa1d",
   "metadata": {},
   "outputs": [
    {
     "data": {
      "text/plain": [
       "<google.cloud.bigquery.table._EmptyRowIterator at 0x7ff474cee7d0>"
      ]
     },
     "execution_count": 128,
     "metadata": {},
     "output_type": "execute_result"
    }
   ],
   "source": [
    "top_n_results = 30000 #???\n",
    "n_clusters = 30 # ???\n",
    "distance = \"COSINE\" #better for text\n",
    "k_means_model_name = f\"draft_clusters_{n_clusters}_{top_n_results}_{distance}_top500_filtered_RMSLE\"\n",
    "source_table = f'cpg-cdp.trendspotting.predict_c52_h52_fixed' #rmse table\n",
    "\n",
    "bq_client.query(\n",
    "  f\"\"\"\n",
    "CREATE OR REPLACE MODEL\n",
    "    trendspotting.{k_means_model_name} OPTIONS(model_type='kmeans',\n",
    "    kmeans_init_method = 'KMEANS++',\n",
    "    DISTANCE_TYPE = '{distance}',\n",
    "    STANDARDIZE_FEATURES = TRUE,\n",
    "    num_clusters={n_clusters}) AS (\n",
    "    (select * from ( \n",
    "    with six_mo_val as (select *, predicted_category_rank.value as six_mo_forecast from `{source_table}` \n",
    "        where predicted_on_date = '2021-06-06' and date = '2021-12-26')\n",
    "    , three_mo_val as (select series_id, predicted_category_rank.value as three_mo_forecast from `{source_table}` \n",
    "        where predicted_on_date = '2021-06-06' and date = '2021-09-26')\n",
    "    , one_mo_val as (select series_id, predicted_category_rank.value as one_mo_forecast from `{source_table}` \n",
    "        where predicted_on_date = '2021-06-06' and date = '2021-07-11')\n",
    "    , actuals as (select distinct series_id, max(category_rank_int) as current_rank from `{source_table}` \n",
    "        where predicted_on_date = '2021-06-06' and date = '2021-06-06' group by series_id)\n",
    "    select a.*\n",
    "        except(date, predicted_on_date, predicted_category_rank, split_col,category_rank, category_rank_int, series_id), \n",
    "        b.three_mo_forecast, \n",
    "        c.one_mo_forecast, \n",
    "        d.current_rank,\n",
    "        d.current_rank - six_mo_forecast as rank_delta_6,\n",
    "        d.current_rank - c.one_mo_forecast as rank_delta_1,\n",
    "        d.current_rank - b.three_mo_forecast as rank_delta_3,\n",
    "        case when current_rank >= 500 then 'bottom_500' else 'top_500' end as top_500_flag\n",
    "    from six_mo_val a\n",
    "        inner join three_mo_val b on (a.series_id = b.series_id)  \n",
    "        inner join one_mo_val c on (a.series_id = c.series_id)\n",
    "        inner join actuals d on (a.series_id = d.series_id)\n",
    "        ) order by six_mo_forecast asc limit {top_n_results}))\n",
    "        \"\"\").result()"
   ]
  },
  {
   "cell_type": "code",
   "execution_count": 116,
   "id": "44ceebc6-7371-4fb0-af65-d5c28c973c6e",
   "metadata": {},
   "outputs": [
    {
     "name": "stdout",
     "output_type": "stream",
     "text": [
      "cpg-cdp.trendspotting.predict_c52_h52_fixed_n_clus_30\n"
     ]
    }
   ],
   "source": [
    "print(f\"{source_table}_n_clus_{n_clusters}\")"
   ]
  },
  {
   "cell_type": "code",
   "execution_count": 91,
   "id": "e6cb1d37-8525-4abf-a9c5-c19f2945e721",
   "metadata": {},
   "outputs": [
    {
     "data": {
      "text/plain": [
       "<google.cloud.bigquery.table._EmptyRowIterator at 0x7ff474ceea50>"
      ]
     },
     "execution_count": 91,
     "metadata": {},
     "output_type": "execute_result"
    }
   ],
   "source": [
    "# bq_client.query(\n",
    "    \n",
    "# f\"\"\" \n",
    "#  CREATE TABLE IF NOT EXISTS {source_table}_n_clus_{n_clusters} as (\n",
    "#  select * from ( \n",
    "#     with six_mo_val as (select *, predicted_category_rank.value as six_mo_forecast from `{source_table}` \n",
    "#         where predicted_on_date = '2021-06-06' and date = '2021-12-26')\n",
    "#     , three_mo_val as (select series_id, predicted_category_rank.value as three_mo_forecast from `{source_table}` \n",
    "#         where predicted_on_date = '2021-06-06' and date = '2021-09-26')\n",
    "#     , one_mo_val as (select series_id, predicted_category_rank.value as one_mo_forecast from `{source_table}` \n",
    "#         where predicted_on_date = '2021-06-06' and date = '2021-07-11')\n",
    "#     , actuals as (select distinct series_id, max(category_rank_int) as current_rank from `{source_table}` \n",
    "#         where predicted_on_date = '2021-06-06' and date = '2021-06-06' group by series_id)\n",
    "#     select a.* \n",
    "#         except(date, predicted_on_date, predicted_category_rank, split_col,category_rank, category_rank_int, series_id), \n",
    "#         b.three_mo_forecast, \n",
    "#         c.one_mo_forecast, \n",
    "#         d.current_rank,\n",
    "#         six_mo_forecast - d.current_rank as rank_delta_6,\n",
    "#         c.one_mo_forecast - d.current_rank as rank_delta_1,\n",
    "#         b.three_mo_forecast - d.current_rank as rank_detla_3\n",
    "#     from six_mo_val a\n",
    "#         inner join three_mo_val b on (a.series_id = b.series_id)  \n",
    "#         inner join one_mo_val c on (a.series_id = c.series_id)\n",
    "#         inner join actuals d on (a.series_id = d.series_id)\n",
    "#         )) order by rank_delta_6 desc limit {top_n_results}\n",
    "#      \"\"\"\n",
    "# ).result()"
   ]
  },
  {
   "cell_type": "code",
   "execution_count": 129,
   "id": "c3a633e1-d4b4-4e7d-a16b-06a496f78008",
   "metadata": {},
   "outputs": [
    {
     "data": {
      "text/plain": [
       "<google.cloud.bigquery.table._EmptyRowIterator at 0x7ff474cc7d50>"
      ]
     },
     "execution_count": 129,
     "metadata": {},
     "output_type": "execute_result"
    }
   ],
   "source": [
    "bq_client.query( \n",
    "f\"\"\" \n",
    " CREATE TABLE IF NOT EXISTS {source_table}_n_clus_{n_clusters}_scored_rmsle as (\n",
    " SELECT * \n",
    " FROM \n",
    " ML.PREDICT( MODEL trendspotting.{k_means_model_name}, \n",
    " (select * from (select * from ( \n",
    "    with six_mo_val as (select *, predicted_category_rank.value as six_mo_forecast from `{source_table}` \n",
    "        where predicted_on_date = '2021-06-06' and date = '2021-12-26')\n",
    "    , three_mo_val as (select series_id, predicted_category_rank.value as three_mo_forecast from `{source_table}` \n",
    "        where predicted_on_date = '2021-06-06' and date = '2021-09-26')\n",
    "    , one_mo_val as (select series_id, predicted_category_rank.value as one_mo_forecast from `{source_table}` \n",
    "        where predicted_on_date = '2021-06-06' and date = '2021-07-11')\n",
    "    , actuals as (select distinct series_id, max(category_rank_int) as current_rank from `{source_table}` \n",
    "        where predicted_on_date = '2021-06-06' and date = '2021-06-06' group by series_id)\n",
    "    select a.*\n",
    "        except(date, predicted_on_date, predicted_category_rank, split_col,category_rank, category_rank_int, series_id), \n",
    "        b.three_mo_forecast, \n",
    "        c.one_mo_forecast, \n",
    "        d.current_rank,\n",
    "        d.current_rank - six_mo_forecast as rank_delta_6,\n",
    "        d.current_rank - c.one_mo_forecast as rank_delta_1,\n",
    "        d.current_rank - b.three_mo_forecast as rank_delta_3,\n",
    "        case when current_rank >= 500 then 'bottom_500' else 'top_500' end as top_500_flag\n",
    "    from six_mo_val a\n",
    "        inner join three_mo_val b on (a.series_id = b.series_id)  \n",
    "        inner join one_mo_val c on (a.series_id = c.series_id)\n",
    "        inner join actuals d on (a.series_id = d.series_id)\n",
    "        ) order by six_mo_forecast asc limit {top_n_results}))\n",
    " ))\n",
    "     \"\"\"\n",
    ").result()"
   ]
  },
  {
   "cell_type": "markdown",
   "id": "55883587-60fe-4636-b59e-7084b76f16ee",
   "metadata": {},
   "source": [
    "## Run clustering for the entire futurama dataset"
   ]
  },
  {
   "cell_type": "markdown",
   "id": "8e372537-3936-44dd-884d-48bb82fb6fd2",
   "metadata": {},
   "source": [
    "##### n_clusters = 100 # max\n",
    "distance = \"COSINE\" #better for text\n",
    "k_means_model_name = f\"term_only_20_21_{n_clusters}_{distance}\"\n",
    "source_table = f'cpg-cdp.trendspotting.futurama_weekly' \n",
    "top_n_results = 100_000\n",
    "\n",
    "bq_client.query(\n",
    "  f\"\"\"\n",
    "CREATE OR REPLACE MODEL\n",
    "    trendspotting.{k_means_model_name} OPTIONS(model_type='kmeans',\n",
    "    kmeans_init_method = 'KMEANS++',\n",
    "    DISTANCE_TYPE = '{distance}',\n",
    "    STANDARDIZE_FEATURES = TRUE,\n",
    "    num_clusters={n_clusters}) AS (\n",
    "    (\n",
    "      select term, geo_name from `{source_table}` where date between '2019-01-01' and '2021-12-31' and category_id = 10047\n",
    "      order by category_rank asc limit {top_n_results}\n",
    "    ))\n",
    "        \"\"\").result()"
   ]
  },
  {
   "cell_type": "code",
   "execution_count": 141,
   "id": "1770e958-3d9c-400e-8562-338f8e835451",
   "metadata": {},
   "outputs": [
    {
     "data": {
      "text/plain": [
       "<google.cloud.bigquery.table._EmptyRowIterator at 0x7ff4749d0f90>"
      ]
     },
     "execution_count": 141,
     "metadata": {},
     "output_type": "execute_result"
    }
   ],
   "source": [
    "bq_client.query( \n",
    "f\"\"\" \n",
    " CREATE TABLE IF NOT EXISTS {source_table}_n_clus_{n_clusters}_skincare as (\n",
    " SELECT * \n",
    " FROM \n",
    " ML.PREDICT( MODEL trendspotting.{k_means_model_name}, \n",
    " (\n",
    "    select term from `{source_table}` where date between '2019-01-01' and '2021-12-31' and category_id = 10047\n",
    "      order by category_rank asc limit {top_n_results}\n",
    " )\n",
    " ))\n",
    "     \"\"\"\n",
    ").result()"
   ]
  },
  {
   "cell_type": "markdown",
   "id": "a6e949ea-affb-4b61-8140-7a125c2623cc",
   "metadata": {},
   "source": [
    "## Create table for all clusters"
   ]
  },
  {
   "cell_type": "code",
   "execution_count": null,
   "id": "7e263638-86a7-45c1-8c1d-359eb57cd82b",
   "metadata": {},
   "outputs": [],
   "source": [
    "bq_client.query( \n",
    "f\"\"\" \n",
    " CREATE TABLE IF NOT EXISTS {source_table}_n_clus_{n_clusters}_skincare_all as (\n",
    " SELECT * \n",
    " FROM \n",
    " ML.PREDICT( MODEL trendspotting.{k_means_model_name}, \n",
    " (\n",
    "    select * from `{source_table}` where date between '2019-01-01' and '2021-12-31' and category_id = 10047\n",
    " )\n",
    " ))\n",
    "     \"\"\"\n",
    ").result()"
   ]
  },
  {
   "cell_type": "markdown",
   "id": "e019859d-66d4-44a8-be3b-f60aa061a3ce",
   "metadata": {},
   "source": [
    "## Create forecast table based on new clusters"
   ]
  },
  {
   "cell_type": "code",
   "execution_count": 148,
   "id": "8c2a0cbd-57c2-4d12-b398-3d7a42da82a0",
   "metadata": {},
   "outputs": [
    {
     "data": {
      "text/plain": [
       "<google.cloud.bigquery.table._EmptyRowIterator at 0x7ff4748a7690>"
      ]
     },
     "execution_count": 148,
     "metadata": {},
     "output_type": "execute_result"
    }
   ],
   "source": [
    "bq_client.query( \n",
    "f\"\"\" \n",
    " CREATE OR REPLACE TABLE {source_table}_n_clus_{n_clusters}_skincare_all_agg as (\n",
    "  with strat as (select *, \n",
    "  case when date between '2019-01-01' and  '2020-12-31' then 'TRAIN'\n",
    "          when date between '2021-01-01' and '2021-05-31' then 'VALIDATE'\n",
    "         else 'TEST' end as split_col\n",
    "   from {source_table}_n_clus_{n_clusters}_skincare_all\n",
    "  )\n",
    "  select date, centroid_id, split_col, sum(volume) as volume\n",
    "    from strat\n",
    "  group by date, centroid_id, split_col\n",
    ")\n",
    "     \"\"\"\n",
    ").result()"
   ]
  },
  {
   "cell_type": "code",
   "execution_count": null,
   "id": "a8a063f9-fef4-4572-b1f1-6c051218cd4a",
   "metadata": {},
   "outputs": [],
   "source": []
  }
 ],
 "metadata": {
  "environment": {
   "kernel": "python3",
   "name": "tf2-gpu.2-7.m87",
   "type": "gcloud",
   "uri": "gcr.io/deeplearning-platform-release/tf2-gpu.2-7:m87"
  },
  "kernelspec": {
   "display_name": "Python 3",
   "language": "python",
   "name": "python3"
  },
  "language_info": {
   "codemirror_mode": {
    "name": "ipython",
    "version": 3
   },
   "file_extension": ".py",
   "mimetype": "text/x-python",
   "name": "python",
   "nbconvert_exporter": "python",
   "pygments_lexer": "ipython3",
   "version": "3.7.12"
  }
 },
 "nbformat": 4,
 "nbformat_minor": 5
}
