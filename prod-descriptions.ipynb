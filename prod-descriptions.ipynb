{
 "cells": [
  {
   "cell_type": "code",
   "execution_count": 3,
   "id": "4d797ecf-ea01-420c-9c66-5f7b674017ca",
   "metadata": {},
   "outputs": [],
   "source": [
    "# !pip install datasets --user"
   ]
  },
  {
   "cell_type": "markdown",
   "id": "9e7aecee-b4ea-43a3-957f-1f9677c1c71f",
   "metadata": {},
   "source": [
    "## Example product heirarchy and and summarization\n",
    "\n",
    "1) Get data from here https://huggingface.co/datasets/c-s-ale/Product-Descriptions-and-Ads/viewer/c-s-ale--Product-Descriptions-and-Ads/train \n",
    "2) Load to BQ and establish LLM model\n",
    "3) Predict and from raw descriptions to structured data with BQ LLMs"
   ]
  },
  {
   "cell_type": "code",
   "execution_count": 30,
   "id": "211d22b2-c066-40be-8433-18533a3e4cc2",
   "metadata": {},
   "outputs": [
    {
     "name": "stderr",
     "output_type": "stream",
     "text": [
      "Found cached dataset parquet (/home/jupyter/.cache/huggingface/datasets/c-s-ale___parquet/c-s-ale--Product-Descriptions-and-Ads-4c74ccc0a63de502/0.0.0/14a00e99c0d15a23649d0db8944380ac81082d4b021f398733dd84f3a6c569a7)\n"
     ]
    },
    {
     "data": {
      "application/vnd.jupyter.widget-view+json": {
       "model_id": "7635f3b9ba644ce5b77ccc5b4c7a58a6",
       "version_major": 2,
       "version_minor": 0
      },
      "text/plain": [
       "  0%|          | 0/2 [00:00<?, ?it/s]"
      ]
     },
     "metadata": {},
     "output_type": "display_data"
    }
   ],
   "source": [
    "from datasets import load_dataset\n",
    "\n",
    "dataset = load_dataset(\"c-s-ale/Product-Descriptions-and-Ads\")"
   ]
  },
  {
   "cell_type": "code",
   "execution_count": 31,
   "id": "3f9ec678-b9cc-4d7f-8e69-339332a477f9",
   "metadata": {},
   "outputs": [
    {
     "data": {
      "text/plain": [
       "DatasetDict({\n",
       "    train: Dataset({\n",
       "        features: ['product', 'description', 'ad'],\n",
       "        num_rows: 90\n",
       "    })\n",
       "    test: Dataset({\n",
       "        features: ['product', 'description', 'ad'],\n",
       "        num_rows: 10\n",
       "    })\n",
       "})"
      ]
     },
     "execution_count": 31,
     "metadata": {},
     "output_type": "execute_result"
    }
   ],
   "source": [
    "dataset"
   ]
  },
  {
   "cell_type": "code",
   "execution_count": 39,
   "id": "5e6b40e9-7599-4fc7-9eb7-ead7bd65734d",
   "metadata": {},
   "outputs": [],
   "source": [
    "import pandas as pd\n",
    "train_df = pd.DataFrame(dataset['train'])\n",
    "train_df['split'] = 'train'\n",
    "\n",
    "test_df = pd.DataFrame(dataset['test'])\n",
    "test_df['split'] = 'test'\n",
    "\n",
    "full_df = pd.concat([train_df, test_df])"
   ]
  },
  {
   "cell_type": "code",
   "execution_count": 40,
   "id": "6f90b3e4-17cb-40b4-9228-4678af657337",
   "metadata": {},
   "outputs": [
    {
     "data": {
      "text/html": [
       "<div>\n",
       "<style scoped>\n",
       "    .dataframe tbody tr th:only-of-type {\n",
       "        vertical-align: middle;\n",
       "    }\n",
       "\n",
       "    .dataframe tbody tr th {\n",
       "        vertical-align: top;\n",
       "    }\n",
       "\n",
       "    .dataframe thead th {\n",
       "        text-align: right;\n",
       "    }\n",
       "</style>\n",
       "<table border=\"1\" class=\"dataframe\">\n",
       "  <thead>\n",
       "    <tr style=\"text-align: right;\">\n",
       "      <th></th>\n",
       "      <th>product</th>\n",
       "      <th>description</th>\n",
       "      <th>ad</th>\n",
       "      <th>split</th>\n",
       "    </tr>\n",
       "  </thead>\n",
       "  <tbody>\n",
       "    <tr>\n",
       "      <th>0</th>\n",
       "      <td>Harem pants</td>\n",
       "      <td>A style of pants with a dropped crotch, loose...</td>\n",
       "      <td>Discover Harem Pants! Unique, stylish bohemian...</td>\n",
       "      <td>train</td>\n",
       "    </tr>\n",
       "    <tr>\n",
       "      <th>1</th>\n",
       "      <td>Fringe skirt</td>\n",
       "      <td>A skirt featuring fringe detailing on the bot...</td>\n",
       "      <td>Introducing our fabulous Fringe Skirt! Step ou...</td>\n",
       "      <td>train</td>\n",
       "    </tr>\n",
       "    <tr>\n",
       "      <th>2</th>\n",
       "      <td>Gingham dress</td>\n",
       "      <td>A dress featuring a two-toned checkered patte...</td>\n",
       "      <td>Introducing the Gingham Dress: Timeless &amp; Chic...</td>\n",
       "      <td>train</td>\n",
       "    </tr>\n",
       "    <tr>\n",
       "      <th>3</th>\n",
       "      <td>Duster coat</td>\n",
       "      <td>A long, lightweight coat that falls below the...</td>\n",
       "      <td>Discover unparalleled style &amp; comfort with our...</td>\n",
       "      <td>train</td>\n",
       "    </tr>\n",
       "    <tr>\n",
       "      <th>4</th>\n",
       "      <td>Henley shirt</td>\n",
       "      <td>A collarless, button-up shirt with a small pl...</td>\n",
       "      <td>Discover timeless style &amp; unbeatable comfort w...</td>\n",
       "      <td>train</td>\n",
       "    </tr>\n",
       "    <tr>\n",
       "      <th>...</th>\n",
       "      <td>...</td>\n",
       "      <td>...</td>\n",
       "      <td>...</td>\n",
       "      <td>...</td>\n",
       "    </tr>\n",
       "    <tr>\n",
       "      <th>5</th>\n",
       "      <td>Printed leggings</td>\n",
       "      <td>Stretchy, close-fitting pants featuring bold ...</td>\n",
       "      <td>Discover ultimate style with our Printed Leggi...</td>\n",
       "      <td>test</td>\n",
       "    </tr>\n",
       "    <tr>\n",
       "      <th>6</th>\n",
       "      <td>Puffer jacket</td>\n",
       "      <td>A warm, insulated jacket with a quilted desig...</td>\n",
       "      <td>Stay cozy with our Puffer Jacket, designed to ...</td>\n",
       "      <td>test</td>\n",
       "    </tr>\n",
       "    <tr>\n",
       "      <th>7</th>\n",
       "      <td>Espadrille sandals</td>\n",
       "      <td>Casual sandals with a woven base, perfect for...</td>\n",
       "      <td>Discover the perfect summer accessory - Espadr...</td>\n",
       "      <td>test</td>\n",
       "    </tr>\n",
       "    <tr>\n",
       "      <th>8</th>\n",
       "      <td>Paisley-print dress</td>\n",
       "      <td>A dress featuring the intricate, teardrop-sha...</td>\n",
       "      <td>Discover bohemian elegance: Our Paisley-print ...</td>\n",
       "      <td>test</td>\n",
       "    </tr>\n",
       "    <tr>\n",
       "      <th>9</th>\n",
       "      <td>Houndstooth coat</td>\n",
       "      <td>A classic coat featuring the traditional houn...</td>\n",
       "      <td>Discover the timeless Houndstooth Coat! Classi...</td>\n",
       "      <td>test</td>\n",
       "    </tr>\n",
       "  </tbody>\n",
       "</table>\n",
       "<p>100 rows × 4 columns</p>\n",
       "</div>"
      ],
      "text/plain": [
       "                 product                                        description  \\\n",
       "0            Harem pants   A style of pants with a dropped crotch, loose...   \n",
       "1           Fringe skirt   A skirt featuring fringe detailing on the bot...   \n",
       "2          Gingham dress   A dress featuring a two-toned checkered patte...   \n",
       "3            Duster coat   A long, lightweight coat that falls below the...   \n",
       "4           Henley shirt   A collarless, button-up shirt with a small pl...   \n",
       "..                   ...                                                ...   \n",
       "5       Printed leggings   Stretchy, close-fitting pants featuring bold ...   \n",
       "6          Puffer jacket   A warm, insulated jacket with a quilted desig...   \n",
       "7     Espadrille sandals   Casual sandals with a woven base, perfect for...   \n",
       "8    Paisley-print dress   A dress featuring the intricate, teardrop-sha...   \n",
       "9       Houndstooth coat   A classic coat featuring the traditional houn...   \n",
       "\n",
       "                                                   ad  split  \n",
       "0   Discover Harem Pants! Unique, stylish bohemian...  train  \n",
       "1   Introducing our fabulous Fringe Skirt! Step ou...  train  \n",
       "2   Introducing the Gingham Dress: Timeless & Chic...  train  \n",
       "3   Discover unparalleled style & comfort with our...  train  \n",
       "4   Discover timeless style & unbeatable comfort w...  train  \n",
       "..                                                ...    ...  \n",
       "5   Discover ultimate style with our Printed Leggi...   test  \n",
       "6   Stay cozy with our Puffer Jacket, designed to ...   test  \n",
       "7   Discover the perfect summer accessory - Espadr...   test  \n",
       "8   Discover bohemian elegance: Our Paisley-print ...   test  \n",
       "9   Discover the timeless Houndstooth Coat! Classi...   test  \n",
       "\n",
       "[100 rows x 4 columns]"
      ]
     },
     "execution_count": 40,
     "metadata": {},
     "output_type": "execute_result"
    }
   ],
   "source": [
    "full_df"
   ]
  },
  {
   "cell_type": "code",
   "execution_count": 42,
   "id": "92e86f16-5d6f-48b1-97d4-7cccb153a916",
   "metadata": {},
   "outputs": [
    {
     "name": "stderr",
     "output_type": "stream",
     "text": [
      "100%|██████████| 1/1 [00:00<00:00, 5629.94it/s]\n"
     ]
    }
   ],
   "source": [
    "full_df.to_gbq('genai_cap_v1.prod_raw', \n",
    "                 'cpg-cdp',\n",
    "                 chunksize=10000, \n",
    "                 if_exists='replace',\n",
    "                 )"
   ]
  },
  {
   "cell_type": "markdown",
   "id": "ddf9bc1b-b46a-4a4d-ab37-0ae9f1055b10",
   "metadata": {},
   "source": [
    "#### Next go here to set up a Vertex connection to BQ\n",
    "\n",
    "https://cloud.google.com/bigquery/docs/bigquery-ml-remote-model-tutorial"
   ]
  },
  {
   "cell_type": "code",
   "execution_count": null,
   "id": "f8f746d2-8e1f-4bfd-9dd4-ae190e07b9b4",
   "metadata": {},
   "outputs": [],
   "source": [
    "!bq mk --connection --location=us --project_id=cpg-cdp \\\n",
    "    --connection_type=CLOUD_RESOURCE bq-vertex\n",
    "\n",
    "!bq show --connection "
   ]
  },
  {
   "cell_type": "code",
   "execution_count": null,
   "id": "a7e34c52-41ac-4c5b-807f-5e1ec110c5a0",
   "metadata": {},
   "outputs": [],
   "source": [
    "%%bigquery\n",
    "CREATE MODEL `cpg-cdp.genai_cap_v1.llm_model1`\n",
    "\n",
    "REMOTE WITH CONNECTION `cpg-cdp.us.bq-vertex`\n",
    "\n",
    "OPTIONS (remote_service_type = 'CLOUD_AI_LARGE_LANGUAGE_MODEL_V1');"
   ]
  },
  {
   "cell_type": "code",
   "execution_count": 44,
   "id": "ca13bcaf-1e0c-4436-ab7c-692380c43090",
   "metadata": {},
   "outputs": [
    {
     "data": {
      "application/vnd.jupyter.widget-view+json": {
       "model_id": "4124d8d0c7524ddfbb2956ca3c4e7209",
       "version_major": 2,
       "version_minor": 0
      },
      "text/plain": [
       "Query is running:   0%|          |"
      ]
     },
     "metadata": {},
     "output_type": "display_data"
    },
    {
     "data": {
      "application/vnd.jupyter.widget-view+json": {
       "model_id": "b553a35b4e8b476a97f3745f68fdded9",
       "version_major": 2,
       "version_minor": 0
      },
      "text/plain": [
       "Downloading:   0%|          |"
      ]
     },
     "metadata": {},
     "output_type": "display_data"
    }
   ],
   "source": [
    "%%bigquery predictions\n",
    "SELECT * FROM\n",
    "\n",
    "ML.GENERATE_TEXT (\n",
    "\n",
    "MODEL `genai_cap_v1.llm_model1`,\n",
    "\n",
    "(SELECT CONCAT (\"Provide a summary of the product attributes and heirarchy for product: \", product, \" \", description) AS prompt\n",
    "\n",
    "FROM `cpg-cdp.genai_cap_v1.prod_raw`\n",
    "),\n",
    "\n",
    "STRUCT ( 0.2 AS temperature,\n",
    "\n",
    "  1024 AS max_output_tokens,\n",
    "\n",
    "  0.8 AS top_p,\n",
    "\n",
    "  40 AS top_k)\n",
    "  )"
   ]
  },
  {
   "cell_type": "code",
   "execution_count": 45,
   "id": "c7d0ad26-5308-4cf5-af7e-f1bdc00db88a",
   "metadata": {},
   "outputs": [
    {
     "data": {
      "text/html": [
       "<div>\n",
       "<style scoped>\n",
       "    .dataframe tbody tr th:only-of-type {\n",
       "        vertical-align: middle;\n",
       "    }\n",
       "\n",
       "    .dataframe tbody tr th {\n",
       "        vertical-align: top;\n",
       "    }\n",
       "\n",
       "    .dataframe thead th {\n",
       "        text-align: right;\n",
       "    }\n",
       "</style>\n",
       "<table border=\"1\" class=\"dataframe\">\n",
       "  <thead>\n",
       "    <tr style=\"text-align: right;\">\n",
       "      <th></th>\n",
       "      <th>ml_generate_text_result</th>\n",
       "      <th>ml_generate_text_status</th>\n",
       "      <th>prompt</th>\n",
       "    </tr>\n",
       "  </thead>\n",
       "  <tbody>\n",
       "    <tr>\n",
       "      <th>0</th>\n",
       "      <td>{\"predictions\":[{\"citationMetadata\":{\"citation...</td>\n",
       "      <td></td>\n",
       "      <td>Provide a summary of the product attributes an...</td>\n",
       "    </tr>\n",
       "    <tr>\n",
       "      <th>1</th>\n",
       "      <td>{\"predictions\":[{\"citationMetadata\":{\"citation...</td>\n",
       "      <td></td>\n",
       "      <td>Provide a summary of the product attributes an...</td>\n",
       "    </tr>\n",
       "    <tr>\n",
       "      <th>2</th>\n",
       "      <td>{\"predictions\":[{\"citationMetadata\":{\"citation...</td>\n",
       "      <td></td>\n",
       "      <td>Provide a summary of the product attributes an...</td>\n",
       "    </tr>\n",
       "    <tr>\n",
       "      <th>3</th>\n",
       "      <td>{\"predictions\":[{\"citationMetadata\":{\"citation...</td>\n",
       "      <td></td>\n",
       "      <td>Provide a summary of the product attributes an...</td>\n",
       "    </tr>\n",
       "    <tr>\n",
       "      <th>4</th>\n",
       "      <td>{\"predictions\":[{\"citationMetadata\":{\"citation...</td>\n",
       "      <td></td>\n",
       "      <td>Provide a summary of the product attributes an...</td>\n",
       "    </tr>\n",
       "    <tr>\n",
       "      <th>...</th>\n",
       "      <td>...</td>\n",
       "      <td>...</td>\n",
       "      <td>...</td>\n",
       "    </tr>\n",
       "    <tr>\n",
       "      <th>95</th>\n",
       "      <td>{\"predictions\":[{\"citationMetadata\":{\"citation...</td>\n",
       "      <td></td>\n",
       "      <td>Provide a summary of the product attributes an...</td>\n",
       "    </tr>\n",
       "    <tr>\n",
       "      <th>96</th>\n",
       "      <td>{\"predictions\":[{\"citationMetadata\":{\"citation...</td>\n",
       "      <td></td>\n",
       "      <td>Provide a summary of the product attributes an...</td>\n",
       "    </tr>\n",
       "    <tr>\n",
       "      <th>97</th>\n",
       "      <td>{\"predictions\":[{\"citationMetadata\":{\"citation...</td>\n",
       "      <td></td>\n",
       "      <td>Provide a summary of the product attributes an...</td>\n",
       "    </tr>\n",
       "    <tr>\n",
       "      <th>98</th>\n",
       "      <td>{\"predictions\":[{\"citationMetadata\":{\"citation...</td>\n",
       "      <td></td>\n",
       "      <td>Provide a summary of the product attributes an...</td>\n",
       "    </tr>\n",
       "    <tr>\n",
       "      <th>99</th>\n",
       "      <td>{\"predictions\":[{\"citationMetadata\":{\"citation...</td>\n",
       "      <td></td>\n",
       "      <td>Provide a summary of the product attributes an...</td>\n",
       "    </tr>\n",
       "  </tbody>\n",
       "</table>\n",
       "<p>100 rows × 3 columns</p>\n",
       "</div>"
      ],
      "text/plain": [
       "                              ml_generate_text_result ml_generate_text_status  \\\n",
       "0   {\"predictions\":[{\"citationMetadata\":{\"citation...                           \n",
       "1   {\"predictions\":[{\"citationMetadata\":{\"citation...                           \n",
       "2   {\"predictions\":[{\"citationMetadata\":{\"citation...                           \n",
       "3   {\"predictions\":[{\"citationMetadata\":{\"citation...                           \n",
       "4   {\"predictions\":[{\"citationMetadata\":{\"citation...                           \n",
       "..                                                ...                     ...   \n",
       "95  {\"predictions\":[{\"citationMetadata\":{\"citation...                           \n",
       "96  {\"predictions\":[{\"citationMetadata\":{\"citation...                           \n",
       "97  {\"predictions\":[{\"citationMetadata\":{\"citation...                           \n",
       "98  {\"predictions\":[{\"citationMetadata\":{\"citation...                           \n",
       "99  {\"predictions\":[{\"citationMetadata\":{\"citation...                           \n",
       "\n",
       "                                               prompt  \n",
       "0   Provide a summary of the product attributes an...  \n",
       "1   Provide a summary of the product attributes an...  \n",
       "2   Provide a summary of the product attributes an...  \n",
       "3   Provide a summary of the product attributes an...  \n",
       "4   Provide a summary of the product attributes an...  \n",
       "..                                                ...  \n",
       "95  Provide a summary of the product attributes an...  \n",
       "96  Provide a summary of the product attributes an...  \n",
       "97  Provide a summary of the product attributes an...  \n",
       "98  Provide a summary of the product attributes an...  \n",
       "99  Provide a summary of the product attributes an...  \n",
       "\n",
       "[100 rows x 3 columns]"
      ]
     },
     "execution_count": 45,
     "metadata": {},
     "output_type": "execute_result"
    }
   ],
   "source": [
    "predictions"
   ]
  },
  {
   "cell_type": "code",
   "execution_count": 65,
   "id": "290214b5-55ad-44a4-ad39-c276fc673ce4",
   "metadata": {},
   "outputs": [
    {
     "name": "stdout",
     "output_type": "stream",
     "text": [
      "('Provide a summary of the product attributes and heirarchy for product:  '\n",
      " 'Gingham dress  A dress featuring a two-toned checkered pattern, often '\n",
      " 'associated with picnics and summery outfits.')\n",
      "{'predictions': [{'citationMetadata': {'citations': []},\n",
      "                  'content': '**Product Hierarchy**\\n'\n",
      "                             '\\n'\n",
      "                             '* Gingham Dress\\n'\n",
      "                             '    * Color\\n'\n",
      "                             '        * Red\\n'\n",
      "                             '        * Blue\\n'\n",
      "                             '        * White\\n'\n",
      "                             '    * Pattern\\n'\n",
      "                             '        * Plaid\\n'\n",
      "                             '        * Checkered\\n'\n",
      "                             '    * Fabric\\n'\n",
      "                             '        * Cotton\\n'\n",
      "                             '        * Polyester\\n'\n",
      "                             '    * Sleeve Length\\n'\n",
      "                             '        * Short\\n'\n",
      "                             '        * Long\\n'\n",
      "                             '    * Neckline\\n'\n",
      "                             '        * Crew neck\\n'\n",
      "                             '        * V-neck\\n'\n",
      "                             '        * Square neck\\n'\n",
      "                             '    * Hemline\\n'\n",
      "                             '        * A-line\\n'\n",
      "                             '        * Maxi\\n'\n",
      "                             '        * Mini\\n'\n",
      "                             '\\n'\n",
      "                             '**Product Attributes**\\n'\n",
      "                             '\\n'\n",
      "                             '* Color: The color of the gingham dress can be '\n",
      "                             'red, blue, or white.\\n'\n",
      "                             '* Pattern: The pattern of the gingham dress can '\n",
      "                             'be plaid or checkered.\\n'\n",
      "                             '* Fabric: The fabric of the gingham dress can be '\n",
      "                             'cotton or polyester.\\n'\n",
      "                             '* Sleeve Length: The sleeve length of the '\n",
      "                             'gingham dress can be short or long.\\n'\n",
      "                             '* Neckline: The neckline of the gingham dress '\n",
      "                             'can be crew neck, V-neck, or square neck.\\n'\n",
      "                             '* Hemline: The hemline of the gingham dress can '\n",
      "                             'be A-line, maxi, or mini.',\n",
      "                  'safetyAttributes': {'blocked': False,\n",
      "                                       'categories': [],\n",
      "                                       'scores': []}}]}\n"
     ]
    },
    {
     "data": {
      "text/plain": [
       "(None, None)"
      ]
     },
     "execution_count": 65,
     "metadata": {},
     "output_type": "execute_result"
    }
   ],
   "source": [
    "import json\n",
    "from pprint import pprint\n",
    "\n",
    "\n",
    "pprint(predictions['prompt'][2]), pprint(json.loads(predictions['ml_generate_text_result'][2]))"
   ]
  },
  {
   "cell_type": "code",
   "execution_count": null,
   "id": "c5717047-dabe-4da1-8857-a9322740de5f",
   "metadata": {},
   "outputs": [],
   "source": []
  }
 ],
 "metadata": {
  "environment": {
   "kernel": "conda-env-tensorflow-tensorflow",
   "name": "workbench-notebooks.m110",
   "type": "gcloud",
   "uri": "gcr.io/deeplearning-platform-release/workbench-notebooks:m110"
  },
  "kernelspec": {
   "display_name": "TensorFlow 2-11",
   "language": "python",
   "name": "conda-env-tensorflow-tensorflow"
  },
  "language_info": {
   "codemirror_mode": {
    "name": "ipython",
    "version": 3
   },
   "file_extension": ".py",
   "mimetype": "text/x-python",
   "name": "python",
   "nbconvert_exporter": "python",
   "pygments_lexer": "ipython3",
   "version": "3.10.12"
  }
 },
 "nbformat": 4,
 "nbformat_minor": 5
}
