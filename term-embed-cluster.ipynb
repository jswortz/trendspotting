{
 "cells": [
  {
   "cell_type": "code",
   "execution_count": null,
   "id": "2f2e70d7-2dd5-4a12-8012-0cb5e869ba61",
   "metadata": {},
   "outputs": [],
   "source": [
    "# Marketing EDA\n",
    "\n",
    "Goal of notebook:\n",
    "Register an embedding model and embed keywords\n",
    "Explore the embeddings\n",
    "# Cluster the embeddings f"
   ]
  },
  {
   "cell_type": "markdown",
   "id": "d1f7b415-680b-4546-bb77-5c24c4b81784",
   "metadata": {},
   "source": [
    "### Run this one time\n",
    "\n",
    "Guide from this blog\n",
    "\n",
    "https://cloud.google.com/blog/products/data-analytics/introducing-bigquery-text-embeddings"
   ]
  },
  {
   "cell_type": "code",
   "execution_count": 1,
   "id": "b1ec3c95-1f88-4a04-88e7-05f07aa7742e",
   "metadata": {},
   "outputs": [],
   "source": [
    "# !pip install -q nomic\n",
    "# !pip install -q datasets\n",
    "# !pip install -q  transformers torch"
   ]
  },
  {
   "cell_type": "code",
   "execution_count": 2,
   "id": "a8abe78c-df70-49ba-b9d0-d3acfa97b453",
   "metadata": {},
   "outputs": [],
   "source": [
    "# !bq mk --connection --location=us --project_id=cpg-cdp \\\n",
    "#     --connection_type=CLOUD_RESOURCE bq-vertex\n",
    "\n",
    "# !bq show --connection "
   ]
  },
  {
   "cell_type": "markdown",
   "id": "6431e4a3-5aba-48f6-a62c-c25f76b9157c",
   "metadata": {},
   "source": [
    "# Here's how to do a LLM"
   ]
  },
  {
   "cell_type": "code",
   "execution_count": 4,
   "id": "71cf0d91-9d11-4bb4-9a3c-a1ec1d57b6f9",
   "metadata": {},
   "outputs": [],
   "source": [
    "# %%bigquery\n",
    "# CREATE MODEL `cpg-cdp.genai_cap_v1.llm_model1`\n",
    "\n",
    "# REMOTE WITH CONNECTION `cpg-cdp.us.bq-vertex`\n",
    "\n",
    "# OPTIONS (remote_service_type = 'CLOUD_AI_LARGE_LANGUAGE_MODEL_V1');"
   ]
  },
  {
   "cell_type": "markdown",
   "id": "ce96020e-3d75-467f-989e-5a4e327a4dc5",
   "metadata": {},
   "source": [
    "# Here's how to do embeddings"
   ]
  },
  {
   "cell_type": "code",
   "execution_count": null,
   "id": "133a239b-dd04-4a8b-a593-af37672d8d83",
   "metadata": {},
   "outputs": [],
   "source": [
    "# %%bigquery\n",
    "# CREATE MODEL `cpg-cdp.genai_cap_v1.llm_embedding_model`\n",
    "# REMOTE WITH CONNECTION `cpg-cdp.us.bq-vertex`\n",
    "# OPTIONS(remote_service_type = 'CLOUD_AI_TEXT_EMBEDDING_MODEL_V1');"
   ]
  },
  {
   "cell_type": "code",
   "execution_count": null,
   "id": "5b111f21-9063-4cef-b994-d8dfc712fe09",
   "metadata": {},
   "outputs": [
    {
     "name": "stdout",
     "output_type": "stream",
     "text": [
      "Executing query with job ID: 3698be89-dcd3-444c-ad18-6124330fa313\n",
      "Query executing: 162.62s"
     ]
    }
   ],
   "source": [
    "%%bigquery \n",
    "create or replace table `cpg-cdp.trends_data.smartphones_13054_unitedstates_2840_embeddings_gecko` as (SELECT * FROM ML.GENERATE_TEXT_EMBEDDING(\n",
    "MODEL `genai_cap_v1.llm_embedding_model`,\n",
    "(SELECT term as content\n",
    "FROM `cpg-cdp.trends_data.smartphones_13054_unitedstates_2840`\n",
    ")));"
   ]
  },
  {
   "cell_type": "code",
   "execution_count": null,
   "id": "13ceb188-6ce1-4a40-a7de-4176a9efe991",
   "metadata": {},
   "outputs": [],
   "source": [
    "%%bigquery\n",
    "CREATE OR REPLACE MODEL genai_cap_v1.clustering_smartphones\n",
    "OPTIONS(model_type=\"KMEANS\", num_clusters=10) \n",
    "AS (\n",
    "SELECT text_embedding\n",
    "FROM `cpg-cdp.trends_data.smartphones_13054_unitedstates_2840_embeddings_gecko`\n",
    ");"
   ]
  },
  {
   "cell_type": "code",
   "execution_count": 6,
   "id": "9d80c177-1bd1-419b-a629-24df8ebe186a",
   "metadata": {},
   "outputs": [],
   "source": [
    "import nomic\n",
    "from nomic import atlas\n",
    "import pandas as pd"
   ]
  },
  {
   "cell_type": "code",
   "execution_count": 13,
   "id": "c67ec977-6b5f-4aed-8c37-59aa0da14de6",
   "metadata": {},
   "outputs": [],
   "source": [
    "token = \"\""
   ]
  },
  {
   "cell_type": "code",
   "execution_count": 14,
   "id": "e27c29ad-eed7-44dc-be06-090f89973c1a",
   "metadata": {},
   "outputs": [],
   "source": [
    "nomic.login(token)"
   ]
  },
  {
   "cell_type": "code",
   "execution_count": 41,
   "id": "30af60fb-3d0f-48f1-a168-6f9ed8f6c59e",
   "metadata": {},
   "outputs": [
    {
     "data": {
      "application/vnd.jupyter.widget-view+json": {
       "model_id": "02d4637cb4a842d2a85302ac3f4ed21d",
       "version_major": 2,
       "version_minor": 0
      },
      "text/plain": [
       "Query is running:   0%|          |"
      ]
     },
     "metadata": {},
     "output_type": "display_data"
    },
    {
     "data": {
      "application/vnd.jupyter.widget-view+json": {
       "model_id": "d30db45711da4c92bebef734803c6104",
       "version_major": 2,
       "version_minor": 0
      },
      "text/plain": [
       "Downloading:   0%|          |"
      ]
     },
     "metadata": {},
     "output_type": "display_data"
    }
   ],
   "source": [
    "%%bigquery unique_terms\n",
    "SELECT distinct term as content\n",
    "FROM `cpg-cdp.trends_data.smartphones_13054_unitedstates_2840`"
   ]
  },
  {
   "cell_type": "code",
   "execution_count": 42,
   "id": "bb3e895f-77cd-4df1-9871-ae77cd8ce6d1",
   "metadata": {},
   "outputs": [
    {
     "name": "stdout",
     "output_type": "stream",
     "text": [
      "Total unique terms  15270070\n"
     ]
    }
   ],
   "source": [
    "total_unique_terms = len(unique_terms)\n",
    "print(\"Total unique terms \", total_unique_terms)"
   ]
  },
  {
   "cell_type": "code",
   "execution_count": 43,
   "id": "a06fe96a-ed1c-4f8e-87ad-2a8e5ad13c6e",
   "metadata": {},
   "outputs": [],
   "source": [
    "unique_terms_reset_idx = unique_terms # to get index field"
   ]
  },
  {
   "cell_type": "code",
   "execution_count": 47,
   "id": "65752820-3fdf-4299-a739-eb6bba73db50",
   "metadata": {},
   "outputs": [],
   "source": [
    "data = {'index': [], 'content': []}\n",
    "for i, content in enumerate(unique_terms_reset_idx.sample(10000)['content']):\n",
    "    data['index'].append(i)\n",
    "    data['content'].append(content)\n"
   ]
  },
  {
   "cell_type": "code",
   "execution_count": 51,
   "id": "828c0cb9-e622-4822-8a2c-470be603d05d",
   "metadata": {},
   "outputs": [],
   "source": [
    "df = pd.DataFrame(data)"
   ]
  },
  {
   "cell_type": "code",
   "execution_count": 53,
   "id": "8a9bf5f3-7d63-4ac8-8ed9-2fa11757bc08",
   "metadata": {},
   "outputs": [
    {
     "name": "stderr",
     "output_type": "stream",
     "text": [
      "\u001b[32m2023-09-01 20:37:33.185\u001b[0m | \u001b[1mINFO    \u001b[0m | \u001b[36mnomic.project\u001b[0m:\u001b[36m_create_project\u001b[0m:\u001b[36m790\u001b[0m - \u001b[1mCreating project `wistful-harmony` in organization `google`\u001b[0m\n",
      "\u001b[32m2023-09-01 20:37:34.723\u001b[0m | \u001b[1mINFO    \u001b[0m | \u001b[36mnomic.atlas\u001b[0m:\u001b[36mmap_text\u001b[0m:\u001b[36m231\u001b[0m - \u001b[1mUploading text to Atlas.\u001b[0m\n",
      "\u001b[32m2023-09-01 20:37:34.731\u001b[0m | \u001b[33m\u001b[1mWARNING \u001b[0m | \u001b[36mnomic.project\u001b[0m:\u001b[36m_validate_and_correct_arrow_upload\u001b[0m:\u001b[36m261\u001b[0m - \u001b[33m\u001b[1mid_field is not a string. Converting to string from int32\u001b[0m\n",
      "\n",
      "  0%|          | 0/2 [00:00<?, ?it/s]\u001b[A\n",
      "100%|██████████| 2/2 [00:01<00:00,  1.96it/s]\u001b[A\n",
      "\u001b[32m2023-09-01 20:37:35.759\u001b[0m | \u001b[1mINFO    \u001b[0m | \u001b[36mnomic.project\u001b[0m:\u001b[36m_add_data\u001b[0m:\u001b[36m1422\u001b[0m - \u001b[1mUpload succeeded.\u001b[0m\n",
      "\u001b[32m2023-09-01 20:37:35.760\u001b[0m | \u001b[1mINFO    \u001b[0m | \u001b[36mnomic.atlas\u001b[0m:\u001b[36mmap_text\u001b[0m:\u001b[36m247\u001b[0m - \u001b[1mText upload succeeded.\u001b[0m\n",
      "\u001b[32m2023-09-01 20:37:36.688\u001b[0m | \u001b[1mINFO    \u001b[0m | \u001b[36mnomic.project\u001b[0m:\u001b[36mcreate_index\u001b[0m:\u001b[36m1132\u001b[0m - \u001b[1mCreated map `wistful-harmony` in project `wistful-harmony`: https://atlas.nomic.ai/map/8119fa22-1f6b-42d5-bb3e-65093b01edb3/14fe72b1-be37-4bba-8d58-0e1a68a6e3b7\u001b[0m\n",
      "\u001b[32m2023-09-01 20:37:36.689\u001b[0m | \u001b[1mINFO    \u001b[0m | \u001b[36mnomic.atlas\u001b[0m:\u001b[36mmap_text\u001b[0m:\u001b[36m263\u001b[0m - \u001b[1mwistful-harmony: https://atlas.nomic.ai/map/8119fa22-1f6b-42d5-bb3e-65093b01edb3/14fe72b1-be37-4bba-8d58-0e1a68a6e3b7\u001b[0m\n"
     ]
    }
   ],
   "source": [
    "project = atlas.map_text(data=df,\n",
    "                         id_field='index',\n",
    "                          indexed_field='content',\n",
    "                          description='Smartphone Google Searches'\n",
    "                          )"
   ]
  },
  {
   "cell_type": "code",
   "execution_count": 56,
   "id": "8c47d5eb-b52e-4b1a-9bf0-fb7f33860090",
   "metadata": {},
   "outputs": [
    {
     "data": {
      "text/html": [
       "\n",
       "            <h3>Project: wistful-harmony</h3>\n",
       "            <script>\n",
       "            destroy = function() {\n",
       "                document.getElementById(\"iframe14fe72b1-be37-4bba-8d58-0e1a68a6e3b7\").remove()\n",
       "            }\n",
       "        </script>\n",
       "        <div class=\"actions\">\n",
       "            <div id=\"hide\" class=\"action\" onclick=\"destroy()\">Hide embedded project</div>\n",
       "            <div class=\"action\" id=\"out\">\n",
       "                <a href=\"https://atlas.nomic.ai/map/8119fa22-1f6b-42d5-bb3e-65093b01edb3/14fe72b1-be37-4bba-8d58-0e1a68a6e3b7\" target=\"_blank\">Explore on atlas.nomic.ai</a>\n",
       "            </div>\n",
       "        </div>\n",
       "        \n",
       "        <iframe class=\"iframe\" id=\"iframe14fe72b1-be37-4bba-8d58-0e1a68a6e3b7\" allow=\"clipboard-read; clipboard-write\" src=\"https://atlas.nomic.ai/map/8119fa22-1f6b-42d5-bb3e-65093b01edb3/14fe72b1-be37-4bba-8d58-0e1a68a6e3b7\">\n",
       "        </iframe>\n",
       "\n",
       "        <style>\n",
       "            .iframe {\n",
       "                /* vh can be **very** large in vscode ipynb. */\n",
       "                height: min(75vh, 66vw);\n",
       "                width: 100%;\n",
       "            }\n",
       "        </style>\n",
       "        \n",
       "        <style>\n",
       "            .actions {\n",
       "              display: block;\n",
       "            }\n",
       "            .action {\n",
       "              min-height: 18px;\n",
       "              margin: 5px;\n",
       "              transition: all 500ms ease-in-out;\n",
       "            }\n",
       "            .action:hover {\n",
       "              cursor: pointer;\n",
       "            }\n",
       "            #hide:hover::after {\n",
       "                content: \" X\";\n",
       "            }\n",
       "            #out:hover::after {\n",
       "                content: \"\";\n",
       "            }\n",
       "        </style>\n",
       "        \n",
       "            "
      ],
      "text/plain": [
       "wistful-harmony: https://atlas.nomic.ai/map/8119fa22-1f6b-42d5-bb3e-65093b01edb3/14fe72b1-be37-4bba-8d58-0e1a68a6e3b7"
      ]
     },
     "execution_count": 56,
     "metadata": {},
     "output_type": "execute_result"
    }
   ],
   "source": [
    "project.maps[0]"
   ]
  },
  {
   "cell_type": "code",
   "execution_count": null,
   "id": "9d8eb954-cb4e-45e4-987c-c6a47a13de83",
   "metadata": {},
   "outputs": [],
   "source": []
  }
 ],
 "metadata": {
  "environment": {
   "kernel": "conda-env-tensorflow-tensorflow",
   "name": "workbench-notebooks.m110",
   "type": "gcloud",
   "uri": "gcr.io/deeplearning-platform-release/workbench-notebooks:m110"
  },
  "kernelspec": {
   "display_name": "TensorFlow 2-11",
   "language": "python",
   "name": "conda-env-tensorflow-tensorflow"
  },
  "language_info": {
   "codemirror_mode": {
    "name": "ipython",
    "version": 3
   },
   "file_extension": ".py",
   "mimetype": "text/x-python",
   "name": "python",
   "nbconvert_exporter": "python",
   "pygments_lexer": "ipython3",
   "version": "3.10.12"
  }
 },
 "nbformat": 4,
 "nbformat_minor": 5
}
